{
 "cells": [
  {
   "cell_type": "markdown",
   "id": "7d63b94c",
   "metadata": {},
   "source": [
    "# Coursera Course Analysis"
   ]
  },
  {
   "cell_type": "markdown",
   "id": "432b9f2e",
   "metadata": {},
   "source": [
    "- Which are the highest rated courses, is there any correlation with the students enrolled?\n",
    "- Which organizations have more courses\n",
    "- Which organizations has more ratings\n",
    "- What's the average rating per organization, which organization have more ratings and more students enrolled?\n",
    "- How many different coursers are there?\n",
    "- How is the difficulty relevant?"
   ]
  },
  {
   "cell_type": "code",
   "execution_count": 280,
   "id": "b9070aba",
   "metadata": {},
   "outputs": [
    {
     "data": {
      "text/html": [
       "<div>\n",
       "<style scoped>\n",
       "    .dataframe tbody tr th:only-of-type {\n",
       "        vertical-align: middle;\n",
       "    }\n",
       "\n",
       "    .dataframe tbody tr th {\n",
       "        vertical-align: top;\n",
       "    }\n",
       "\n",
       "    .dataframe thead th {\n",
       "        text-align: right;\n",
       "    }\n",
       "</style>\n",
       "<table border=\"1\" class=\"dataframe\">\n",
       "  <thead>\n",
       "    <tr style=\"text-align: right;\">\n",
       "      <th></th>\n",
       "      <th>course_title</th>\n",
       "      <th>course_organization</th>\n",
       "      <th>course_Certificate_type</th>\n",
       "      <th>course_rating</th>\n",
       "      <th>course_difficulty</th>\n",
       "      <th>course_students_enrolled</th>\n",
       "    </tr>\n",
       "  </thead>\n",
       "  <tbody>\n",
       "    <tr>\n",
       "      <th>0</th>\n",
       "      <td>IBM Data Science</td>\n",
       "      <td>IBM</td>\n",
       "      <td>PROFESSIONAL CERTIFICATE</td>\n",
       "      <td>4.6</td>\n",
       "      <td>Beginner</td>\n",
       "      <td>480k</td>\n",
       "    </tr>\n",
       "    <tr>\n",
       "      <th>1</th>\n",
       "      <td>Introduction to Data Science</td>\n",
       "      <td>IBM</td>\n",
       "      <td>SPECIALIZATION</td>\n",
       "      <td>4.6</td>\n",
       "      <td>Beginner</td>\n",
       "      <td>310k</td>\n",
       "    </tr>\n",
       "    <tr>\n",
       "      <th>2</th>\n",
       "      <td>The Science of Well-Being</td>\n",
       "      <td>Yale University</td>\n",
       "      <td>COURSE</td>\n",
       "      <td>4.9</td>\n",
       "      <td>Mixed</td>\n",
       "      <td>2.5m</td>\n",
       "    </tr>\n",
       "    <tr>\n",
       "      <th>3</th>\n",
       "      <td>Python for Everybody</td>\n",
       "      <td>University of Michigan</td>\n",
       "      <td>SPECIALIZATION</td>\n",
       "      <td>4.8</td>\n",
       "      <td>Beginner</td>\n",
       "      <td>1.5m</td>\n",
       "    </tr>\n",
       "    <tr>\n",
       "      <th>4</th>\n",
       "      <td>Google IT Support</td>\n",
       "      <td>Google</td>\n",
       "      <td>PROFESSIONAL CERTIFICATE</td>\n",
       "      <td>4.8</td>\n",
       "      <td>Beginner</td>\n",
       "      <td>350k</td>\n",
       "    </tr>\n",
       "  </tbody>\n",
       "</table>\n",
       "</div>"
      ],
      "text/plain": [
       "                   course_title     course_organization  \\\n",
       "0              IBM Data Science                     IBM   \n",
       "1  Introduction to Data Science                     IBM   \n",
       "2     The Science of Well-Being         Yale University   \n",
       "3          Python for Everybody  University of Michigan   \n",
       "4             Google IT Support                  Google   \n",
       "\n",
       "    course_Certificate_type  course_rating course_difficulty  \\\n",
       "0  PROFESSIONAL CERTIFICATE            4.6          Beginner   \n",
       "1            SPECIALIZATION            4.6          Beginner   \n",
       "2                    COURSE            4.9             Mixed   \n",
       "3            SPECIALIZATION            4.8          Beginner   \n",
       "4  PROFESSIONAL CERTIFICATE            4.8          Beginner   \n",
       "\n",
       "  course_students_enrolled  \n",
       "0                     480k  \n",
       "1                     310k  \n",
       "2                     2.5m  \n",
       "3                     1.5m  \n",
       "4                     350k  "
      ]
     },
     "execution_count": 280,
     "metadata": {},
     "output_type": "execute_result"
    }
   ],
   "source": [
    "# Importing libraries and dataset from Coursera Courses\n",
    "\n",
    "import pandas as pd\n",
    "import numpy as np\n",
    "import matplotlib.pyplot as plt\n",
    "import timeit\n",
    "\n",
    "df = pd.read_csv('sample_data/coursea_data.csv', index_col=0).sort_index()\n",
    "df.head()"
   ]
  },
  {
   "cell_type": "markdown",
   "id": "6b0c9dbd",
   "metadata": {},
   "source": [
    "### Cleaning and basic exploring"
   ]
  },
  {
   "cell_type": "code",
   "execution_count": 281,
   "id": "47870b96",
   "metadata": {},
   "outputs": [
    {
     "data": {
      "text/plain": [
       "Index(['title', 'organization', 'certificate_type', 'rating', 'difficulty',\n",
       "       'students_enrolled'],\n",
       "      dtype='object')"
      ]
     },
     "execution_count": 281,
     "metadata": {},
     "output_type": "execute_result"
    }
   ],
   "source": [
    "# Tidying up dataset column names by removing course since we already defined that this is a coursera \n",
    "# course dataset.\n",
    "\n",
    "df.columns = df.columns.str.replace('course_', '').str.lower()\n",
    "df.columns"
   ]
  },
  {
   "cell_type": "code",
   "execution_count": 282,
   "id": "761657e1",
   "metadata": {},
   "outputs": [
    {
     "name": "stdout",
     "output_type": "stream",
     "text": [
      "This dataset has 891 observations and 6 features.\n"
     ]
    }
   ],
   "source": [
    "print(f'This dataset has {df.shape[0]} observations and {df.shape[1]} features.')"
   ]
  },
  {
   "cell_type": "code",
   "execution_count": 283,
   "id": "96797c26",
   "metadata": {},
   "outputs": [
    {
     "data": {
      "text/plain": [
       "title                False\n",
       "organization         False\n",
       "certificate_type     False\n",
       "rating               False\n",
       "difficulty           False\n",
       "students_enrolled    False\n",
       "dtype: bool"
      ]
     },
     "execution_count": 283,
     "metadata": {},
     "output_type": "execute_result"
    }
   ],
   "source": [
    "# Checking if there is any empty value in the dataset\n",
    "df.isnull().any()"
   ]
  },
  {
   "cell_type": "code",
   "execution_count": 284,
   "id": "6f20b196",
   "metadata": {},
   "outputs": [
    {
     "data": {
      "text/plain": [
       "False"
      ]
     },
     "execution_count": 284,
     "metadata": {},
     "output_type": "execute_result"
    }
   ],
   "source": [
    "# Checking if there is any duplicated in the dataset\n",
    "\n",
    "df.duplicated().any()"
   ]
  },
  {
   "cell_type": "code",
   "execution_count": 285,
   "id": "7b203ed7",
   "metadata": {},
   "outputs": [
    {
     "data": {
      "text/plain": [
       "title                 object\n",
       "organization          object\n",
       "certificate_type      object\n",
       "rating               float64\n",
       "difficulty            object\n",
       "students_enrolled     object\n",
       "dtype: object"
      ]
     },
     "execution_count": 285,
     "metadata": {},
     "output_type": "execute_result"
    }
   ],
   "source": [
    "# Checking each feature datatype to adjust if needed\n",
    "\n",
    "df.dtypes"
   ]
  },
  {
   "cell_type": "code",
   "execution_count": 286,
   "id": "fdd5665e",
   "metadata": {},
   "outputs": [
    {
     "data": {
      "text/plain": [
       "title                 string\n",
       "organization          string\n",
       "certificate_type      string\n",
       "rating               float64\n",
       "difficulty            string\n",
       "students_enrolled     object\n",
       "dtype: object"
      ]
     },
     "execution_count": 286,
     "metadata": {},
     "output_type": "execute_result"
    }
   ],
   "source": [
    "# Most of the columns might have mixed data types. We will work with string datatype for the\n",
    "# storing columns: title, organization, certificate_type and course difficuly.\n",
    "# for the rating and students_enrolled column we need them as floats.\n",
    "\n",
    "df = df.astype({\"title\": 'string', \"organization\": 'string', \"certificate_type\": 'string', \"difficulty\": 'string'})\n",
    "df.dtypes"
   ]
  },
  {
   "cell_type": "code",
   "execution_count": 287,
   "id": "e388b40a",
   "metadata": {},
   "outputs": [
    {
     "data": {
      "text/plain": [
       "<StringArray>\n",
       "['Beginner', 'Mixed', 'Intermediate', 'Advanced']\n",
       "Length: 4, dtype: string"
      ]
     },
     "execution_count": 287,
     "metadata": {},
     "output_type": "execute_result"
    }
   ],
   "source": [
    "# Exploring Certificate_type and course_difficulty column to assure there's not wrong values\n",
    "df['difficulty'].unique()"
   ]
  },
  {
   "cell_type": "code",
   "execution_count": 288,
   "id": "bdd0b1bb",
   "metadata": {},
   "outputs": [
    {
     "data": {
      "text/plain": [
       "<StringArray>\n",
       "['PROFESSIONAL CERTIFICATE', 'SPECIALIZATION', 'COURSE']\n",
       "Length: 3, dtype: string"
      ]
     },
     "execution_count": 288,
     "metadata": {},
     "output_type": "execute_result"
    }
   ],
   "source": [
    "df['certificate_type'].unique()"
   ]
  },
  {
   "cell_type": "code",
   "execution_count": 289,
   "id": "c1475de7",
   "metadata": {},
   "outputs": [
    {
     "data": {
      "text/plain": [
       "0      480k\n",
       "1      310k\n",
       "2      2.5m\n",
       "3      1.5m\n",
       "4      350k\n",
       "       ... \n",
       "886     11k\n",
       "887     33k\n",
       "888    6.6k\n",
       "889     45k\n",
       "890    6.4k\n",
       "Name: students_enrolled, Length: 891, dtype: object"
      ]
     },
     "execution_count": 289,
     "metadata": {},
     "output_type": "execute_result"
    }
   ],
   "source": [
    "# Exploring students_enrolled column to convert all to floats\n",
    "df['students_enrolled']"
   ]
  },
  {
   "cell_type": "code",
   "execution_count": 290,
   "id": "4618e359",
   "metadata": {},
   "outputs": [
    {
     "data": {
      "text/plain": [
       "0       480000.0\n",
       "1       310000.0\n",
       "2      2500000.0\n",
       "3      1500000.0\n",
       "4       350000.0\n",
       "         ...    \n",
       "886      11000.0\n",
       "887      33000.0\n",
       "888       6600.0\n",
       "889      45000.0\n",
       "890       6400.0\n",
       "Name: students_enrolled, Length: 891, dtype: float64"
      ]
     },
     "execution_count": 290,
     "metadata": {},
     "output_type": "execute_result"
    }
   ],
   "source": [
    "def value_to_float(x):\n",
    "    if type(x) == float or type(x) == int:\n",
    "        return x\n",
    "    if 'm' in x:\n",
    "        if len(x) > 1:\n",
    "            return float(x.replace('m', '')) * 1000000\n",
    "        return 1000000.0\n",
    "    if 'k' in x:\n",
    "        if len(x) > 1:\n",
    "            return float(x.replace('k', '')) * 1000\n",
    "        return 1000.0\n",
    "\n",
    "df['students_enrolled'] = df['students_enrolled'].apply(value_to_float)\n",
    "df['students_enrolled']"
   ]
  },
  {
   "cell_type": "code",
   "execution_count": 291,
   "id": "96cd9083",
   "metadata": {},
   "outputs": [
    {
     "data": {
      "image/png": "[encoded data removed]",
      "text/plain": [
       "<Figure size 432x288 with 1 Axes>"
      ]
     },
     "metadata": {
      "needs_background": "light"
     },
     "output_type": "display_data"
    }
   ],
   "source": [
    "# Checking outliers for rating and students_enrolled\n",
    "plt.boxplot(df['rating'])\n",
    "plt.show()"
   ]
  },
  {
   "cell_type": "code",
   "execution_count": 292,
   "id": "5896a552",
   "metadata": {},
   "outputs": [],
   "source": [
    "# Most of the courses are rated between 4.70 and 4.75 roughly. "
   ]
  },
  {
   "cell_type": "code",
   "execution_count": 293,
   "id": "f9c2aa50",
   "metadata": {},
   "outputs": [
    {
     "data": {
      "text/html": [
       "<div>\n",
       "<style scoped>\n",
       "    .dataframe tbody tr th:only-of-type {\n",
       "        vertical-align: middle;\n",
       "    }\n",
       "\n",
       "    .dataframe tbody tr th {\n",
       "        vertical-align: top;\n",
       "    }\n",
       "\n",
       "    .dataframe thead th {\n",
       "        text-align: right;\n",
       "    }\n",
       "</style>\n",
       "<table border=\"1\" class=\"dataframe\">\n",
       "  <thead>\n",
       "    <tr style=\"text-align: right;\">\n",
       "      <th></th>\n",
       "      <th>title</th>\n",
       "      <th>organization</th>\n",
       "      <th>certificate_type</th>\n",
       "      <th>rating</th>\n",
       "      <th>difficulty</th>\n",
       "      <th>students_enrolled</th>\n",
       "    </tr>\n",
       "  </thead>\n",
       "  <tbody>\n",
       "    <tr>\n",
       "      <th>178</th>\n",
       "      <td>Machine Learning for Trading</td>\n",
       "      <td>Google Cloud</td>\n",
       "      <td>SPECIALIZATION</td>\n",
       "      <td>3.9</td>\n",
       "      <td>Intermediate</td>\n",
       "      <td>15000.0</td>\n",
       "    </tr>\n",
       "    <tr>\n",
       "      <th>339</th>\n",
       "      <td>Introduction to Spreadsheets and Models</td>\n",
       "      <td>University of Pennsylvania</td>\n",
       "      <td>COURSE</td>\n",
       "      <td>4.2</td>\n",
       "      <td>Mixed</td>\n",
       "      <td>76000.0</td>\n",
       "    </tr>\n",
       "    <tr>\n",
       "      <th>345</th>\n",
       "      <td>Instructional Design Foundations and Applications</td>\n",
       "      <td>University of Illinois at Urbana-Champaign</td>\n",
       "      <td>COURSE</td>\n",
       "      <td>4.2</td>\n",
       "      <td>Mixed</td>\n",
       "      <td>12000.0</td>\n",
       "    </tr>\n",
       "    <tr>\n",
       "      <th>352</th>\n",
       "      <td>Machine Learning and Reinforcement Learning in...</td>\n",
       "      <td>New York University</td>\n",
       "      <td>SPECIALIZATION</td>\n",
       "      <td>3.7</td>\n",
       "      <td>Intermediate</td>\n",
       "      <td>29000.0</td>\n",
       "    </tr>\n",
       "    <tr>\n",
       "      <th>472</th>\n",
       "      <td>Optical Engineering</td>\n",
       "      <td>University of Colorado Boulder</td>\n",
       "      <td>SPECIALIZATION</td>\n",
       "      <td>4.2</td>\n",
       "      <td>Advanced</td>\n",
       "      <td>6200.0</td>\n",
       "    </tr>\n",
       "    <tr>\n",
       "      <th>550</th>\n",
       "      <td>Mastering Data Analysis in Excel</td>\n",
       "      <td>Duke University</td>\n",
       "      <td>COURSE</td>\n",
       "      <td>4.2</td>\n",
       "      <td>Mixed</td>\n",
       "      <td>280000.0</td>\n",
       "    </tr>\n",
       "    <tr>\n",
       "      <th>569</th>\n",
       "      <td>Foundations of Marketing Analytics</td>\n",
       "      <td>Emory University</td>\n",
       "      <td>SPECIALIZATION</td>\n",
       "      <td>4.2</td>\n",
       "      <td>Intermediate</td>\n",
       "      <td>27000.0</td>\n",
       "    </tr>\n",
       "    <tr>\n",
       "      <th>609</th>\n",
       "      <td>How to Start Your Own Business</td>\n",
       "      <td>Michigan State University</td>\n",
       "      <td>SPECIALIZATION</td>\n",
       "      <td>4.1</td>\n",
       "      <td>Beginner</td>\n",
       "      <td>34000.0</td>\n",
       "    </tr>\n",
       "    <tr>\n",
       "      <th>618</th>\n",
       "      <td>Unity XR: How to Build AR and VR Apps</td>\n",
       "      <td>Unity</td>\n",
       "      <td>SPECIALIZATION</td>\n",
       "      <td>4.2</td>\n",
       "      <td>Beginner</td>\n",
       "      <td>12000.0</td>\n",
       "    </tr>\n",
       "    <tr>\n",
       "      <th>659</th>\n",
       "      <td>Introduction to Trading, Machine Learning &amp; GCP</td>\n",
       "      <td>New York Institute of Finance</td>\n",
       "      <td>COURSE</td>\n",
       "      <td>4.0</td>\n",
       "      <td>Intermediate</td>\n",
       "      <td>13000.0</td>\n",
       "    </tr>\n",
       "    <tr>\n",
       "      <th>731</th>\n",
       "      <td>Project Execution</td>\n",
       "      <td>University of California, Irvine</td>\n",
       "      <td>COURSE</td>\n",
       "      <td>4.2</td>\n",
       "      <td>Beginner</td>\n",
       "      <td>70000.0</td>\n",
       "    </tr>\n",
       "    <tr>\n",
       "      <th>767</th>\n",
       "      <td>How To Create a Website in a Weekend! (Project...</td>\n",
       "      <td>The State University of New York</td>\n",
       "      <td>COURSE</td>\n",
       "      <td>3.3</td>\n",
       "      <td>Mixed</td>\n",
       "      <td>140000.0</td>\n",
       "    </tr>\n",
       "    <tr>\n",
       "      <th>779</th>\n",
       "      <td>iOS App Development with Swift</td>\n",
       "      <td>University of Toronto</td>\n",
       "      <td>SPECIALIZATION</td>\n",
       "      <td>3.9</td>\n",
       "      <td>Intermediate</td>\n",
       "      <td>76000.0</td>\n",
       "    </tr>\n",
       "    <tr>\n",
       "      <th>803</th>\n",
       "      <td>Hardware Description Languages for FPGA Design</td>\n",
       "      <td>University of Colorado Boulder</td>\n",
       "      <td>COURSE</td>\n",
       "      <td>4.2</td>\n",
       "      <td>Intermediate</td>\n",
       "      <td>7400.0</td>\n",
       "    </tr>\n",
       "    <tr>\n",
       "      <th>821</th>\n",
       "      <td>Cybersecurity and Its Ten Domains</td>\n",
       "      <td>University System of Georgia</td>\n",
       "      <td>COURSE</td>\n",
       "      <td>4.2</td>\n",
       "      <td>Beginner</td>\n",
       "      <td>140000.0</td>\n",
       "    </tr>\n",
       "    <tr>\n",
       "      <th>873</th>\n",
       "      <td>Mathematics for Machine Learning: PCA</td>\n",
       "      <td>Imperial College London</td>\n",
       "      <td>COURSE</td>\n",
       "      <td>4.0</td>\n",
       "      <td>Intermediate</td>\n",
       "      <td>33000.0</td>\n",
       "    </tr>\n",
       "    <tr>\n",
       "      <th>888</th>\n",
       "      <td>Aprende a programar con Python</td>\n",
       "      <td>Universidad Austral</td>\n",
       "      <td>SPECIALIZATION</td>\n",
       "      <td>4.2</td>\n",
       "      <td>Beginner</td>\n",
       "      <td>6600.0</td>\n",
       "    </tr>\n",
       "  </tbody>\n",
       "</table>\n",
       "</div>"
      ],
      "text/plain": [
       "                                                 title  \\\n",
       "178                       Machine Learning for Trading   \n",
       "339            Introduction to Spreadsheets and Models   \n",
       "345  Instructional Design Foundations and Applications   \n",
       "352  Machine Learning and Reinforcement Learning in...   \n",
       "472                                Optical Engineering   \n",
       "550                   Mastering Data Analysis in Excel   \n",
       "569                 Foundations of Marketing Analytics   \n",
       "609                     How to Start Your Own Business   \n",
       "618              Unity XR: How to Build AR and VR Apps   \n",
       "659    Introduction to Trading, Machine Learning & GCP   \n",
       "731                                  Project Execution   \n",
       "767  How To Create a Website in a Weekend! (Project...   \n",
       "779                     iOS App Development with Swift   \n",
       "803     Hardware Description Languages for FPGA Design   \n",
       "821                  Cybersecurity and Its Ten Domains   \n",
       "873              Mathematics for Machine Learning: PCA   \n",
       "888                     Aprende a programar con Python   \n",
       "\n",
       "                                   organization certificate_type  rating  \\\n",
       "178                                Google Cloud   SPECIALIZATION     3.9   \n",
       "339                  University of Pennsylvania           COURSE     4.2   \n",
       "345  University of Illinois at Urbana-Champaign           COURSE     4.2   \n",
       "352                         New York University   SPECIALIZATION     3.7   \n",
       "472              University of Colorado Boulder   SPECIALIZATION     4.2   \n",
       "550                             Duke University           COURSE     4.2   \n",
       "569                            Emory University   SPECIALIZATION     4.2   \n",
       "609                   Michigan State University   SPECIALIZATION     4.1   \n",
       "618                                       Unity   SPECIALIZATION     4.2   \n",
       "659               New York Institute of Finance           COURSE     4.0   \n",
       "731            University of California, Irvine           COURSE     4.2   \n",
       "767            The State University of New York           COURSE     3.3   \n",
       "779                       University of Toronto   SPECIALIZATION     3.9   \n",
       "803              University of Colorado Boulder           COURSE     4.2   \n",
       "821                University System of Georgia           COURSE     4.2   \n",
       "873                     Imperial College London           COURSE     4.0   \n",
       "888                         Universidad Austral   SPECIALIZATION     4.2   \n",
       "\n",
       "       difficulty  students_enrolled  \n",
       "178  Intermediate            15000.0  \n",
       "339         Mixed            76000.0  \n",
       "345         Mixed            12000.0  \n",
       "352  Intermediate            29000.0  \n",
       "472      Advanced             6200.0  \n",
       "550         Mixed           280000.0  \n",
       "569  Intermediate            27000.0  \n",
       "609      Beginner            34000.0  \n",
       "618      Beginner            12000.0  \n",
       "659  Intermediate            13000.0  \n",
       "731      Beginner            70000.0  \n",
       "767         Mixed           140000.0  \n",
       "779  Intermediate            76000.0  \n",
       "803  Intermediate             7400.0  \n",
       "821      Beginner           140000.0  \n",
       "873  Intermediate            33000.0  \n",
       "888      Beginner             6600.0  "
      ]
     },
     "execution_count": 293,
     "metadata": {},
     "output_type": "execute_result"
    }
   ],
   "source": [
    "# Checking all courses less than 4.25\n",
    "df[df['rating'] < 4.25]"
   ]
  },
  {
   "cell_type": "code",
   "execution_count": 294,
   "id": "e13b4dd3",
   "metadata": {},
   "outputs": [
    {
     "name": "stdout",
     "output_type": "stream",
     "text": [
      "Only 17 courses are under 4.25 rating points\n"
     ]
    }
   ],
   "source": [
    "print(f\"Only {len(df[df['rating'] < 4.25])} courses are under 4.25 rating points\")"
   ]
  },
  {
   "cell_type": "code",
   "execution_count": 295,
   "id": "b59e8157",
   "metadata": {},
   "outputs": [
    {
     "data": {
      "image/png": "[encoded data removed]",
      "text/plain": [
       "<Figure size 432x288 with 1 Axes>"
      ]
     },
     "metadata": {
      "needs_background": "light"
     },
     "output_type": "display_data"
    }
   ],
   "source": [
    "# Let's observe how the data for the students enrolled is distributed\n",
    "plt.boxplot(df['students_enrolled'])\n",
    "plt.show()"
   ]
  },
  {
   "cell_type": "code",
   "execution_count": 296,
   "id": "31a52548",
   "metadata": {},
   "outputs": [],
   "source": [
    "# Most of the courses has less than 250.000 students enrolled. Not considering courses above 250.000 students\n",
    "# enrolled an outlier"
   ]
  },
  {
   "cell_type": "code",
   "execution_count": 297,
   "id": "d32144e4",
   "metadata": {},
   "outputs": [
    {
     "data": {
      "text/html": [
       "<div>\n",
       "<style scoped>\n",
       "    .dataframe tbody tr th:only-of-type {\n",
       "        vertical-align: middle;\n",
       "    }\n",
       "\n",
       "    .dataframe tbody tr th {\n",
       "        vertical-align: top;\n",
       "    }\n",
       "\n",
       "    .dataframe thead th {\n",
       "        text-align: right;\n",
       "    }\n",
       "</style>\n",
       "<table border=\"1\" class=\"dataframe\">\n",
       "  <thead>\n",
       "    <tr style=\"text-align: right;\">\n",
       "      <th></th>\n",
       "      <th>title</th>\n",
       "      <th>organization</th>\n",
       "      <th>certificate_type</th>\n",
       "      <th>rating</th>\n",
       "      <th>difficulty</th>\n",
       "      <th>students_enrolled</th>\n",
       "    </tr>\n",
       "  </thead>\n",
       "  <tbody>\n",
       "    <tr>\n",
       "      <th>8</th>\n",
       "      <td>Applied Data Science</td>\n",
       "      <td>IBM</td>\n",
       "      <td>SPECIALIZATION</td>\n",
       "      <td>4.6</td>\n",
       "      <td>Beginner</td>\n",
       "      <td>220000.0</td>\n",
       "    </tr>\n",
       "    <tr>\n",
       "      <th>11</th>\n",
       "      <td>Excel Skills for Business</td>\n",
       "      <td>Macquarie University</td>\n",
       "      <td>SPECIALIZATION</td>\n",
       "      <td>4.9</td>\n",
       "      <td>Beginner</td>\n",
       "      <td>240000.0</td>\n",
       "    </tr>\n",
       "    <tr>\n",
       "      <th>12</th>\n",
       "      <td>IBM Applied AI</td>\n",
       "      <td>IBM</td>\n",
       "      <td>PROFESSIONAL CERTIFICATE</td>\n",
       "      <td>4.6</td>\n",
       "      <td>Beginner</td>\n",
       "      <td>220000.0</td>\n",
       "    </tr>\n",
       "    <tr>\n",
       "      <th>21</th>\n",
       "      <td>COVID-19 Contact Tracing</td>\n",
       "      <td>Johns Hopkins University</td>\n",
       "      <td>COURSE</td>\n",
       "      <td>4.9</td>\n",
       "      <td>Beginner</td>\n",
       "      <td>220000.0</td>\n",
       "    </tr>\n",
       "    <tr>\n",
       "      <th>22</th>\n",
       "      <td>Data Engineering with Google Cloud</td>\n",
       "      <td>Google Cloud</td>\n",
       "      <td>PROFESSIONAL CERTIFICATE</td>\n",
       "      <td>4.6</td>\n",
       "      <td>Intermediate</td>\n",
       "      <td>120000.0</td>\n",
       "    </tr>\n",
       "    <tr>\n",
       "      <th>...</th>\n",
       "      <td>...</td>\n",
       "      <td>...</td>\n",
       "      <td>...</td>\n",
       "      <td>...</td>\n",
       "      <td>...</td>\n",
       "      <td>...</td>\n",
       "    </tr>\n",
       "    <tr>\n",
       "      <th>886</th>\n",
       "      <td>Understanding Modern Finance</td>\n",
       "      <td>American Institute of Business and Economics</td>\n",
       "      <td>SPECIALIZATION</td>\n",
       "      <td>4.4</td>\n",
       "      <td>Intermediate</td>\n",
       "      <td>11000.0</td>\n",
       "    </tr>\n",
       "    <tr>\n",
       "      <th>887</th>\n",
       "      <td>Object-Oriented Design</td>\n",
       "      <td>University of Alberta</td>\n",
       "      <td>COURSE</td>\n",
       "      <td>4.7</td>\n",
       "      <td>Intermediate</td>\n",
       "      <td>33000.0</td>\n",
       "    </tr>\n",
       "    <tr>\n",
       "      <th>888</th>\n",
       "      <td>Aprende a programar con Python</td>\n",
       "      <td>Universidad Austral</td>\n",
       "      <td>SPECIALIZATION</td>\n",
       "      <td>4.2</td>\n",
       "      <td>Beginner</td>\n",
       "      <td>6600.0</td>\n",
       "    </tr>\n",
       "    <tr>\n",
       "      <th>889</th>\n",
       "      <td>Погружение в Python</td>\n",
       "      <td>Moscow Institute of Physics and Technology</td>\n",
       "      <td>COURSE</td>\n",
       "      <td>4.7</td>\n",
       "      <td>Intermediate</td>\n",
       "      <td>45000.0</td>\n",
       "    </tr>\n",
       "    <tr>\n",
       "      <th>890</th>\n",
       "      <td>Compassionate Leadership Through Service Learn...</td>\n",
       "      <td>University of Colorado Boulder</td>\n",
       "      <td>COURSE</td>\n",
       "      <td>4.9</td>\n",
       "      <td>Beginner</td>\n",
       "      <td>6400.0</td>\n",
       "    </tr>\n",
       "  </tbody>\n",
       "</table>\n",
       "<p>821 rows × 6 columns</p>\n",
       "</div>"
      ],
      "text/plain": [
       "                                                 title  \\\n",
       "8                                 Applied Data Science   \n",
       "11                           Excel Skills for Business   \n",
       "12                                      IBM Applied AI   \n",
       "21                            COVID-19 Contact Tracing   \n",
       "22                  Data Engineering with Google Cloud   \n",
       "..                                                 ...   \n",
       "886                       Understanding Modern Finance   \n",
       "887                             Object-Oriented Design   \n",
       "888                     Aprende a programar con Python   \n",
       "889                                Погружение в Python   \n",
       "890  Compassionate Leadership Through Service Learn...   \n",
       "\n",
       "                                     organization          certificate_type  \\\n",
       "8                                             IBM            SPECIALIZATION   \n",
       "11                           Macquarie University            SPECIALIZATION   \n",
       "12                                            IBM  PROFESSIONAL CERTIFICATE   \n",
       "21                       Johns Hopkins University                    COURSE   \n",
       "22                                   Google Cloud  PROFESSIONAL CERTIFICATE   \n",
       "..                                            ...                       ...   \n",
       "886  American Institute of Business and Economics            SPECIALIZATION   \n",
       "887                         University of Alberta                    COURSE   \n",
       "888                           Universidad Austral            SPECIALIZATION   \n",
       "889    Moscow Institute of Physics and Technology                    COURSE   \n",
       "890                University of Colorado Boulder                    COURSE   \n",
       "\n",
       "     rating    difficulty  students_enrolled  \n",
       "8       4.6      Beginner           220000.0  \n",
       "11      4.9      Beginner           240000.0  \n",
       "12      4.6      Beginner           220000.0  \n",
       "21      4.9      Beginner           220000.0  \n",
       "22      4.6  Intermediate           120000.0  \n",
       "..      ...           ...                ...  \n",
       "886     4.4  Intermediate            11000.0  \n",
       "887     4.7  Intermediate            33000.0  \n",
       "888     4.2      Beginner             6600.0  \n",
       "889     4.7  Intermediate            45000.0  \n",
       "890     4.9      Beginner             6400.0  \n",
       "\n",
       "[821 rows x 6 columns]"
      ]
     },
     "execution_count": 297,
     "metadata": {},
     "output_type": "execute_result"
    }
   ],
   "source": [
    "# Checking all courses more than 250.000 students enrolled\n",
    "df[df['students_enrolled'] < 250000]"
   ]
  },
  {
   "cell_type": "code",
   "execution_count": 298,
   "id": "8f6fc42f",
   "metadata": {},
   "outputs": [
    {
     "name": "stdout",
     "output_type": "stream",
     "text": [
      "821 courses are under 250.000 students enrolled\n"
     ]
    }
   ],
   "source": [
    "print(f\"{len(df[df['students_enrolled'] < 250000])} courses are under 250.000 students enrolled\")"
   ]
  },
  {
   "cell_type": "code",
   "execution_count": 299,
   "id": "7a1f2bd6",
   "metadata": {},
   "outputs": [
    {
     "data": {
      "text/html": [
       "<div>\n",
       "<style scoped>\n",
       "    .dataframe tbody tr th:only-of-type {\n",
       "        vertical-align: middle;\n",
       "    }\n",
       "\n",
       "    .dataframe tbody tr th {\n",
       "        vertical-align: top;\n",
       "    }\n",
       "\n",
       "    .dataframe thead th {\n",
       "        text-align: right;\n",
       "    }\n",
       "</style>\n",
       "<table border=\"1\" class=\"dataframe\">\n",
       "  <thead>\n",
       "    <tr style=\"text-align: right;\">\n",
       "      <th></th>\n",
       "      <th>title</th>\n",
       "      <th>organization</th>\n",
       "      <th>certificate_type</th>\n",
       "      <th>rating</th>\n",
       "      <th>difficulty</th>\n",
       "      <th>students_enrolled</th>\n",
       "    </tr>\n",
       "  </thead>\n",
       "  <tbody>\n",
       "    <tr>\n",
       "      <th>0</th>\n",
       "      <td>IBM Data Science</td>\n",
       "      <td>IBM</td>\n",
       "      <td>PROFESSIONAL CERTIFICATE</td>\n",
       "      <td>4.6</td>\n",
       "      <td>Beginner</td>\n",
       "      <td>480000.0</td>\n",
       "    </tr>\n",
       "    <tr>\n",
       "      <th>1</th>\n",
       "      <td>Introduction to Data Science</td>\n",
       "      <td>IBM</td>\n",
       "      <td>SPECIALIZATION</td>\n",
       "      <td>4.6</td>\n",
       "      <td>Beginner</td>\n",
       "      <td>310000.0</td>\n",
       "    </tr>\n",
       "    <tr>\n",
       "      <th>2</th>\n",
       "      <td>The Science of Well-Being</td>\n",
       "      <td>Yale University</td>\n",
       "      <td>COURSE</td>\n",
       "      <td>4.9</td>\n",
       "      <td>Mixed</td>\n",
       "      <td>2500000.0</td>\n",
       "    </tr>\n",
       "    <tr>\n",
       "      <th>3</th>\n",
       "      <td>Python for Everybody</td>\n",
       "      <td>University of Michigan</td>\n",
       "      <td>SPECIALIZATION</td>\n",
       "      <td>4.8</td>\n",
       "      <td>Beginner</td>\n",
       "      <td>1500000.0</td>\n",
       "    </tr>\n",
       "    <tr>\n",
       "      <th>4</th>\n",
       "      <td>Google IT Support</td>\n",
       "      <td>Google</td>\n",
       "      <td>PROFESSIONAL CERTIFICATE</td>\n",
       "      <td>4.8</td>\n",
       "      <td>Beginner</td>\n",
       "      <td>350000.0</td>\n",
       "    </tr>\n",
       "    <tr>\n",
       "      <th>...</th>\n",
       "      <td>...</td>\n",
       "      <td>...</td>\n",
       "      <td>...</td>\n",
       "      <td>...</td>\n",
       "      <td>...</td>\n",
       "      <td>...</td>\n",
       "    </tr>\n",
       "    <tr>\n",
       "      <th>385</th>\n",
       "      <td>Grammar and Punctuation</td>\n",
       "      <td>University of California, Irvine</td>\n",
       "      <td>COURSE</td>\n",
       "      <td>4.7</td>\n",
       "      <td>Mixed</td>\n",
       "      <td>430000.0</td>\n",
       "    </tr>\n",
       "    <tr>\n",
       "      <th>474</th>\n",
       "      <td>Competitive Strategy and Organization Design</td>\n",
       "      <td>Ludwig-Maximilians-Universität München (LMU)</td>\n",
       "      <td>SPECIALIZATION</td>\n",
       "      <td>4.7</td>\n",
       "      <td>Intermediate</td>\n",
       "      <td>350000.0</td>\n",
       "    </tr>\n",
       "    <tr>\n",
       "      <th>550</th>\n",
       "      <td>Mastering Data Analysis in Excel</td>\n",
       "      <td>Duke University</td>\n",
       "      <td>COURSE</td>\n",
       "      <td>4.2</td>\n",
       "      <td>Mixed</td>\n",
       "      <td>280000.0</td>\n",
       "    </tr>\n",
       "    <tr>\n",
       "      <th>552</th>\n",
       "      <td>Finanzas personales</td>\n",
       "      <td>Universidad Nacional Autónoma de México</td>\n",
       "      <td>COURSE</td>\n",
       "      <td>4.8</td>\n",
       "      <td>Mixed</td>\n",
       "      <td>310000.0</td>\n",
       "    </tr>\n",
       "    <tr>\n",
       "      <th>635</th>\n",
       "      <td>A Life of Happiness and Fulfillment</td>\n",
       "      <td>Indian School of Business</td>\n",
       "      <td>COURSE</td>\n",
       "      <td>4.8</td>\n",
       "      <td>Mixed</td>\n",
       "      <td>320000.0</td>\n",
       "    </tr>\n",
       "  </tbody>\n",
       "</table>\n",
       "<p>68 rows × 6 columns</p>\n",
       "</div>"
      ],
      "text/plain": [
       "                                            title  \\\n",
       "0                                IBM Data Science   \n",
       "1                    Introduction to Data Science   \n",
       "2                       The Science of Well-Being   \n",
       "3                            Python for Everybody   \n",
       "4                               Google IT Support   \n",
       "..                                            ...   \n",
       "385                       Grammar and Punctuation   \n",
       "474  Competitive Strategy and Organization Design   \n",
       "550              Mastering Data Analysis in Excel   \n",
       "552                           Finanzas personales   \n",
       "635           A Life of Happiness and Fulfillment   \n",
       "\n",
       "                                     organization          certificate_type  \\\n",
       "0                                             IBM  PROFESSIONAL CERTIFICATE   \n",
       "1                                             IBM            SPECIALIZATION   \n",
       "2                                 Yale University                    COURSE   \n",
       "3                          University of Michigan            SPECIALIZATION   \n",
       "4                                          Google  PROFESSIONAL CERTIFICATE   \n",
       "..                                            ...                       ...   \n",
       "385              University of California, Irvine                    COURSE   \n",
       "474  Ludwig-Maximilians-Universität München (LMU)            SPECIALIZATION   \n",
       "550                               Duke University                    COURSE   \n",
       "552       Universidad Nacional Autónoma de México                    COURSE   \n",
       "635                     Indian School of Business                    COURSE   \n",
       "\n",
       "     rating    difficulty  students_enrolled  \n",
       "0       4.6      Beginner           480000.0  \n",
       "1       4.6      Beginner           310000.0  \n",
       "2       4.9         Mixed          2500000.0  \n",
       "3       4.8      Beginner          1500000.0  \n",
       "4       4.8      Beginner           350000.0  \n",
       "..      ...           ...                ...  \n",
       "385     4.7         Mixed           430000.0  \n",
       "474     4.7  Intermediate           350000.0  \n",
       "550     4.2         Mixed           280000.0  \n",
       "552     4.8         Mixed           310000.0  \n",
       "635     4.8         Mixed           320000.0  \n",
       "\n",
       "[68 rows x 6 columns]"
      ]
     },
     "execution_count": 299,
     "metadata": {},
     "output_type": "execute_result"
    }
   ],
   "source": [
    "# Let's quick check which courses are over 250.000 students enrolled\n",
    "df[df['students_enrolled'] > 250000]"
   ]
  },
  {
   "cell_type": "code",
   "execution_count": 300,
   "id": "d9c0ad2f",
   "metadata": {},
   "outputs": [
    {
     "name": "stdout",
     "output_type": "stream",
     "text": [
      " There's 4 types of difficulty level and 3 types of certificates\n"
     ]
    }
   ],
   "source": [
    "print(f\" There's {len(df['difficulty'].unique())} types of difficulty level and {len(df['certificate_type'].unique())} types of certificates\")"
   ]
  },
  {
   "cell_type": "code",
   "execution_count": 301,
   "id": "8421b179",
   "metadata": {},
   "outputs": [
    {
     "data": {
      "text/html": [
       "<div>\n",
       "<style scoped>\n",
       "    .dataframe tbody tr th:only-of-type {\n",
       "        vertical-align: middle;\n",
       "    }\n",
       "\n",
       "    .dataframe tbody tr th {\n",
       "        vertical-align: top;\n",
       "    }\n",
       "\n",
       "    .dataframe thead th {\n",
       "        text-align: right;\n",
       "    }\n",
       "</style>\n",
       "<table border=\"1\" class=\"dataframe\">\n",
       "  <thead>\n",
       "    <tr style=\"text-align: right;\">\n",
       "      <th></th>\n",
       "      <th>title</th>\n",
       "      <th>organization</th>\n",
       "      <th>certificate_type</th>\n",
       "      <th>rating</th>\n",
       "      <th>difficulty</th>\n",
       "      <th>students_enrolled</th>\n",
       "    </tr>\n",
       "  </thead>\n",
       "  <tbody>\n",
       "    <tr>\n",
       "      <th>0</th>\n",
       "      <td>IBM Data Science</td>\n",
       "      <td>IBM</td>\n",
       "      <td>PROFESSIONAL CERTIFICATE</td>\n",
       "      <td>4.6</td>\n",
       "      <td>Beginner</td>\n",
       "      <td>480000.0</td>\n",
       "    </tr>\n",
       "    <tr>\n",
       "      <th>1</th>\n",
       "      <td>Introduction to Data Science</td>\n",
       "      <td>IBM</td>\n",
       "      <td>SPECIALIZATION</td>\n",
       "      <td>4.6</td>\n",
       "      <td>Beginner</td>\n",
       "      <td>310000.0</td>\n",
       "    </tr>\n",
       "    <tr>\n",
       "      <th>2</th>\n",
       "      <td>The Science of Well-Being</td>\n",
       "      <td>Yale University</td>\n",
       "      <td>COURSE</td>\n",
       "      <td>4.9</td>\n",
       "      <td>Mixed</td>\n",
       "      <td>2500000.0</td>\n",
       "    </tr>\n",
       "    <tr>\n",
       "      <th>3</th>\n",
       "      <td>Python for Everybody</td>\n",
       "      <td>University of Michigan</td>\n",
       "      <td>SPECIALIZATION</td>\n",
       "      <td>4.8</td>\n",
       "      <td>Beginner</td>\n",
       "      <td>1500000.0</td>\n",
       "    </tr>\n",
       "    <tr>\n",
       "      <th>4</th>\n",
       "      <td>Google IT Support</td>\n",
       "      <td>Google</td>\n",
       "      <td>PROFESSIONAL CERTIFICATE</td>\n",
       "      <td>4.8</td>\n",
       "      <td>Beginner</td>\n",
       "      <td>350000.0</td>\n",
       "    </tr>\n",
       "  </tbody>\n",
       "</table>\n",
       "</div>"
      ],
      "text/plain": [
       "                          title            organization  \\\n",
       "0              IBM Data Science                     IBM   \n",
       "1  Introduction to Data Science                     IBM   \n",
       "2     The Science of Well-Being         Yale University   \n",
       "3          Python for Everybody  University of Michigan   \n",
       "4             Google IT Support                  Google   \n",
       "\n",
       "           certificate_type  rating difficulty  students_enrolled  \n",
       "0  PROFESSIONAL CERTIFICATE     4.6   Beginner           480000.0  \n",
       "1            SPECIALIZATION     4.6   Beginner           310000.0  \n",
       "2                    COURSE     4.9      Mixed          2500000.0  \n",
       "3            SPECIALIZATION     4.8   Beginner          1500000.0  \n",
       "4  PROFESSIONAL CERTIFICATE     4.8   Beginner           350000.0  "
      ]
     },
     "execution_count": 301,
     "metadata": {},
     "output_type": "execute_result"
    }
   ],
   "source": [
    "df.head()"
   ]
  },
  {
   "cell_type": "markdown",
   "id": "95c9f5dd",
   "metadata": {},
   "source": [
    "## Exploring further the data and visualizing some relevant data\n",
    "\n",
    "\n",
    "\n",
    "- General description of ratings and students enrolled columns.\n",
    "\n",
    "- Which courses has more students enrolled, and what can we say about the ratings?"
   ]
  },
  {
   "cell_type": "code",
   "execution_count": 458,
   "id": "4c2cb646",
   "metadata": {},
   "outputs": [
    {
     "data": {
      "text/plain": [
       "count    891.000000\n",
       "mean       4.677329\n",
       "std        0.162225\n",
       "min        3.300000\n",
       "25%        4.600000\n",
       "50%        4.700000\n",
       "75%        4.800000\n",
       "max        5.000000\n",
       "Name: rating, dtype: float64"
      ]
     },
     "execution_count": 458,
     "metadata": {},
     "output_type": "execute_result"
    }
   ],
   "source": [
    "# We will describe the values in the rating column\n",
    "df['rating'].describe()"
   ]
  },
  {
   "cell_type": "code",
   "execution_count": 459,
   "id": "c34279e2",
   "metadata": {},
   "outputs": [
    {
     "data": {
      "text/plain": [
       "0    4.8\n",
       "Name: rating, dtype: float64"
      ]
     },
     "execution_count": 459,
     "metadata": {},
     "output_type": "execute_result"
    }
   ],
   "source": [
    "# We will describe the most frequent rating value\n",
    "df['rating'].mode()"
   ]
  },
  {
   "cell_type": "markdown",
   "id": "a6c22454",
   "metadata": {},
   "source": [
    "The minimum rating course is 3.30 points and the maximum possible rating points is 5.0.\n",
    "75% of the courses has 4.8 points of ratings, those with more students enrolled has rating points of 4.8 or above.\n",
    "Most of the courses has a 4.8 rating."
   ]
  },
  {
   "cell_type": "code",
   "execution_count": 460,
   "id": "8db952ce",
   "metadata": {},
   "outputs": [
    {
     "data": {
      "image/png": "[encoded data removed]",
      "text/plain": [
       "<Figure size 432x288 with 1 Axes>"
      ]
     },
     "metadata": {
      "needs_background": "light"
     },
     "output_type": "display_data"
    }
   ],
   "source": [
    "# Visualizing the distribution of the data\n",
    "\n",
    "plt.figure()\n",
    "hist_ratings = df['rating'].values\n",
    "plt.hist(hist_ratings, 10)\n",
    "plt.xlabel('Ratings')\n",
    "plt.ylabel('# of Courses')\n",
    "plt.grid(True)\n",
    "ax = plt.gca()\n",
    "ax.axis([3.30, 5.0, 0, 550])\n",
    "plt.show()"
   ]
  },
  {
   "cell_type": "code",
   "execution_count": 461,
   "id": "a6336ec5",
   "metadata": {},
   "outputs": [],
   "source": [
    "# Most of the courses fall between the 4.60 and 4.90 rating points. "
   ]
  },
  {
   "cell_type": "code",
   "execution_count": 462,
   "id": "96ace68f",
   "metadata": {},
   "outputs": [
    {
     "data": {
      "text/plain": [
       "count    8.910000e+02\n",
       "mean     9.055208e+04\n",
       "std      1.819365e+05\n",
       "min      1.500000e+03\n",
       "25%      1.750000e+04\n",
       "50%      4.200000e+04\n",
       "75%      9.950000e+04\n",
       "max      3.200000e+06\n",
       "Name: students_enrolled, dtype: float64"
      ]
     },
     "execution_count": 462,
     "metadata": {},
     "output_type": "execute_result"
    }
   ],
   "source": [
    "# We will describe the values in the enrolled students column\n",
    "df['students_enrolled'].describe()"
   ]
  },
  {
   "cell_type": "code",
   "execution_count": 463,
   "id": "77778afb",
   "metadata": {},
   "outputs": [],
   "source": [
    "# The minimum value fo students enrolled is 1500 students and the maximum is 3.2 milion students enrolled."
   ]
  },
  {
   "cell_type": "code",
   "execution_count": 464,
   "id": "36ad868a",
   "metadata": {},
   "outputs": [
    {
     "data": {
      "image/png": "[encoded data removed]",
      "text/plain": [
       "<Figure size 432x288 with 1 Axes>"
      ]
     },
     "metadata": {
      "needs_background": "light"
     },
     "output_type": "display_data"
    }
   ],
   "source": [
    "# Visualizing the distribution of the data\n",
    "plt.figure()\n",
    "hist_students = df['students_enrolled'].values\n",
    "plt.hist(hist_students, 50)\n",
    "plt.xlabel('Students Enrolled')\n",
    "plt.ylabel('# of Courses')\n",
    "plt.grid(True)\n",
    "ax = plt.gca()\n",
    "ax.axis([df['students_enrolled'].min(), df['students_enrolled'].max(), 0, 600])\n",
    "plt.show()"
   ]
  },
  {
   "cell_type": "code",
   "execution_count": 465,
   "id": "2a317ad9",
   "metadata": {},
   "outputs": [
    {
     "data": {
      "text/plain": [
       "Text(0.5, 1.0, 'Correlation between ratings and students enrolled')"
      ]
     },
     "execution_count": 465,
     "metadata": {},
     "output_type": "execute_result"
    },
    {
     "data": {
      "image/png": "[encoded data removed]",
      "text/plain": [
       "<Figure size 432x288 with 2 Axes>"
      ]
     },
     "metadata": {
      "needs_background": "light"
     },
     "output_type": "display_data"
    }
   ],
   "source": [
    "import seaborn as sns\n",
    "\n",
    "correlation = df.corr()\n",
    "correlation\n",
    "plt.figure()\n",
    "sns.heatmap(correlation, annot=True, linewidths=.5).set_title('Features correlation')\n",
    "plt.title('Correlation between ratings and students enrolled')"
   ]
  },
  {
   "cell_type": "code",
   "execution_count": 466,
   "id": "71113996",
   "metadata": {},
   "outputs": [
    {
     "data": {
      "text/plain": [
       "Text(0.5, 1.0, 'Relationship between ratings and students enrolled')"
      ]
     },
     "execution_count": 466,
     "metadata": {},
     "output_type": "execute_result"
    },
    {
     "data": {
      "image/png": "[encoded data removed]",
      "text/plain": [
       "<Figure size 432x288 with 1 Axes>"
      ]
     },
     "metadata": {
      "needs_background": "light"
     },
     "output_type": "display_data"
    }
   ],
   "source": [
    "# Let's go further visualizing correlation with a scatter plot\n",
    "\n",
    "x = np.array([df['rating']])\n",
    "y = np.array([df['students_enrolled']])\n",
    "\n",
    "plt.figure()\n",
    "plt.scatter(x, y)\n",
    "plt.xlabel(\"Ratings\")\n",
    "plt.ylabel(\"Students Enrolled\")\n",
    "plt.title('Relationship between ratings and students enrolled')"
   ]
  },
  {
   "cell_type": "code",
   "execution_count": 467,
   "id": "0e346b8b",
   "metadata": {},
   "outputs": [],
   "source": [
    "# Cleare we can see that the correlation between rating and students_enrolled is very low\n",
    "# but generally the courses that are higher rated has a higher mean of students enrolled\n",
    "# as per previous variables."
   ]
  },
  {
   "cell_type": "markdown",
   "id": "fb82e8ea",
   "metadata": {},
   "source": [
    "## Courses Overview\n",
    "\n",
    "- Which courses has more students enrolled with higher ratings?"
   ]
  },
  {
   "cell_type": "code",
   "execution_count": 489,
   "id": "a938ad15",
   "metadata": {},
   "outputs": [
    {
     "data": {
      "text/html": [
       "<div>\n",
       "<style scoped>\n",
       "    .dataframe tbody tr th:only-of-type {\n",
       "        vertical-align: middle;\n",
       "    }\n",
       "\n",
       "    .dataframe tbody tr th {\n",
       "        vertical-align: top;\n",
       "    }\n",
       "\n",
       "    .dataframe thead th {\n",
       "        text-align: right;\n",
       "    }\n",
       "</style>\n",
       "<table border=\"1\" class=\"dataframe\">\n",
       "  <thead>\n",
       "    <tr style=\"text-align: right;\">\n",
       "      <th></th>\n",
       "      <th>title</th>\n",
       "      <th>organization</th>\n",
       "      <th>certificate_type</th>\n",
       "      <th>rating</th>\n",
       "      <th>difficulty</th>\n",
       "      <th>students_enrolled</th>\n",
       "    </tr>\n",
       "  </thead>\n",
       "  <tbody>\n",
       "    <tr>\n",
       "      <th>6</th>\n",
       "      <td>Machine Learning</td>\n",
       "      <td>Stanford University</td>\n",
       "      <td>COURSE</td>\n",
       "      <td>4.9</td>\n",
       "      <td>Mixed</td>\n",
       "      <td>3200000.0</td>\n",
       "    </tr>\n",
       "    <tr>\n",
       "      <th>2</th>\n",
       "      <td>The Science of Well-Being</td>\n",
       "      <td>Yale University</td>\n",
       "      <td>COURSE</td>\n",
       "      <td>4.9</td>\n",
       "      <td>Mixed</td>\n",
       "      <td>2500000.0</td>\n",
       "    </tr>\n",
       "    <tr>\n",
       "      <th>62</th>\n",
       "      <td>Neural Networks and Deep Learning</td>\n",
       "      <td>deeplearning.ai</td>\n",
       "      <td>COURSE</td>\n",
       "      <td>4.9</td>\n",
       "      <td>Intermediate</td>\n",
       "      <td>630000.0</td>\n",
       "    </tr>\n",
       "    <tr>\n",
       "      <th>111</th>\n",
       "      <td>Python Data Structures</td>\n",
       "      <td>University of Michigan</td>\n",
       "      <td>COURSE</td>\n",
       "      <td>4.9</td>\n",
       "      <td>Mixed</td>\n",
       "      <td>420000.0</td>\n",
       "    </tr>\n",
       "    <tr>\n",
       "      <th>113</th>\n",
       "      <td>First Step Korean</td>\n",
       "      <td>Yonsei University</td>\n",
       "      <td>COURSE</td>\n",
       "      <td>4.9</td>\n",
       "      <td>Beginner</td>\n",
       "      <td>400000.0</td>\n",
       "    </tr>\n",
       "    <tr>\n",
       "      <th>29</th>\n",
       "      <td>Introduction to Psychology</td>\n",
       "      <td>Yale University</td>\n",
       "      <td>COURSE</td>\n",
       "      <td>4.9</td>\n",
       "      <td>Beginner</td>\n",
       "      <td>270000.0</td>\n",
       "    </tr>\n",
       "    <tr>\n",
       "      <th>123</th>\n",
       "      <td>Improving Deep Neural Networks: Hyperparameter...</td>\n",
       "      <td>deeplearning.ai</td>\n",
       "      <td>COURSE</td>\n",
       "      <td>4.9</td>\n",
       "      <td>Beginner</td>\n",
       "      <td>270000.0</td>\n",
       "    </tr>\n",
       "    <tr>\n",
       "      <th>11</th>\n",
       "      <td>Excel Skills for Business</td>\n",
       "      <td>Macquarie University</td>\n",
       "      <td>SPECIALIZATION</td>\n",
       "      <td>4.9</td>\n",
       "      <td>Beginner</td>\n",
       "      <td>240000.0</td>\n",
       "    </tr>\n",
       "    <tr>\n",
       "      <th>207</th>\n",
       "      <td>Convolutional Neural Networks</td>\n",
       "      <td>deeplearning.ai</td>\n",
       "      <td>COURSE</td>\n",
       "      <td>4.9</td>\n",
       "      <td>Intermediate</td>\n",
       "      <td>240000.0</td>\n",
       "    </tr>\n",
       "    <tr>\n",
       "      <th>21</th>\n",
       "      <td>COVID-19 Contact Tracing</td>\n",
       "      <td>Johns Hopkins University</td>\n",
       "      <td>COURSE</td>\n",
       "      <td>4.9</td>\n",
       "      <td>Beginner</td>\n",
       "      <td>220000.0</td>\n",
       "    </tr>\n",
       "  </tbody>\n",
       "</table>\n",
       "</div>"
      ],
      "text/plain": [
       "                                                 title  \\\n",
       "6                                     Machine Learning   \n",
       "2                            The Science of Well-Being   \n",
       "62                   Neural Networks and Deep Learning   \n",
       "111                             Python Data Structures   \n",
       "113                                  First Step Korean   \n",
       "29                          Introduction to Psychology   \n",
       "123  Improving Deep Neural Networks: Hyperparameter...   \n",
       "11                           Excel Skills for Business   \n",
       "207                      Convolutional Neural Networks   \n",
       "21                            COVID-19 Contact Tracing   \n",
       "\n",
       "                 organization certificate_type  rating    difficulty  \\\n",
       "6         Stanford University           COURSE     4.9         Mixed   \n",
       "2             Yale University           COURSE     4.9         Mixed   \n",
       "62            deeplearning.ai           COURSE     4.9  Intermediate   \n",
       "111    University of Michigan           COURSE     4.9         Mixed   \n",
       "113         Yonsei University           COURSE     4.9      Beginner   \n",
       "29            Yale University           COURSE     4.9      Beginner   \n",
       "123           deeplearning.ai           COURSE     4.9      Beginner   \n",
       "11       Macquarie University   SPECIALIZATION     4.9      Beginner   \n",
       "207           deeplearning.ai           COURSE     4.9  Intermediate   \n",
       "21   Johns Hopkins University           COURSE     4.9      Beginner   \n",
       "\n",
       "     students_enrolled  \n",
       "6            3200000.0  \n",
       "2            2500000.0  \n",
       "62            630000.0  \n",
       "111           420000.0  \n",
       "113           400000.0  \n",
       "29            270000.0  \n",
       "123           270000.0  \n",
       "11            240000.0  \n",
       "207           240000.0  \n",
       "21            220000.0  "
      ]
     },
     "execution_count": 489,
     "metadata": {},
     "output_type": "execute_result"
    }
   ],
   "source": [
    "# Checking top 10 courses as per higher number of students enrolled and highest ratings\n",
    "top_10_courses = df[df['rating'] >= 4.9].sort_values(by='students_enrolled', ascending=False).head(10)\n",
    "top_10_courses"
   ]
  },
  {
   "cell_type": "code",
   "execution_count": 494,
   "id": "88fa6137",
   "metadata": {},
   "outputs": [
    {
     "data": {
      "text/plain": [
       "COURSE            9\n",
       "SPECIALIZATION    1\n",
       "Name: certificate_type, dtype: Int64"
      ]
     },
     "execution_count": 494,
     "metadata": {},
     "output_type": "execute_result"
    }
   ],
   "source": [
    "top_10_courses_certificate = top_10_courses['certificate_type'].value_counts()\n",
    "top_10_courses_certificate"
   ]
  },
  {
   "cell_type": "code",
   "execution_count": 496,
   "id": "ad1e1c5c",
   "metadata": {},
   "outputs": [
    {
     "data": {
      "text/plain": [
       "Beginner        5\n",
       "Mixed           3\n",
       "Intermediate    2\n",
       "Name: difficulty, dtype: Int64"
      ]
     },
     "execution_count": 496,
     "metadata": {},
     "output_type": "execute_result"
    }
   ],
   "source": [
    "top_10_courses_difficulty = top_10_courses['difficulty'].value_counts()\n",
    "top_10_courses_difficulty"
   ]
  },
  {
   "cell_type": "code",
   "execution_count": 502,
   "id": "6e782592",
   "metadata": {},
   "outputs": [
    {
     "data": {
      "text/html": [
       "<div>\n",
       "<style scoped>\n",
       "    .dataframe tbody tr th:only-of-type {\n",
       "        vertical-align: middle;\n",
       "    }\n",
       "\n",
       "    .dataframe tbody tr th {\n",
       "        vertical-align: top;\n",
       "    }\n",
       "\n",
       "    .dataframe thead th {\n",
       "        text-align: right;\n",
       "    }\n",
       "</style>\n",
       "<table border=\"1\" class=\"dataframe\">\n",
       "  <thead>\n",
       "    <tr style=\"text-align: right;\">\n",
       "      <th></th>\n",
       "      <th>title</th>\n",
       "      <th>organization</th>\n",
       "      <th>certificate_type</th>\n",
       "      <th>rating</th>\n",
       "      <th>difficulty</th>\n",
       "      <th>students_enrolled</th>\n",
       "    </tr>\n",
       "  </thead>\n",
       "  <tbody>\n",
       "    <tr>\n",
       "      <th>6</th>\n",
       "      <td>Machine Learning</td>\n",
       "      <td>Stanford University</td>\n",
       "      <td>COURSE</td>\n",
       "      <td>4.9</td>\n",
       "      <td>Mixed</td>\n",
       "      <td>3200000.0</td>\n",
       "    </tr>\n",
       "    <tr>\n",
       "      <th>2</th>\n",
       "      <td>The Science of Well-Being</td>\n",
       "      <td>Yale University</td>\n",
       "      <td>COURSE</td>\n",
       "      <td>4.9</td>\n",
       "      <td>Mixed</td>\n",
       "      <td>2500000.0</td>\n",
       "    </tr>\n",
       "    <tr>\n",
       "      <th>3</th>\n",
       "      <td>Python for Everybody</td>\n",
       "      <td>University of Michigan</td>\n",
       "      <td>SPECIALIZATION</td>\n",
       "      <td>4.8</td>\n",
       "      <td>Beginner</td>\n",
       "      <td>1500000.0</td>\n",
       "    </tr>\n",
       "    <tr>\n",
       "      <th>47</th>\n",
       "      <td>Programming for Everybody (Getting Started wit...</td>\n",
       "      <td>University of Michigan</td>\n",
       "      <td>COURSE</td>\n",
       "      <td>4.8</td>\n",
       "      <td>Mixed</td>\n",
       "      <td>1300000.0</td>\n",
       "    </tr>\n",
       "    <tr>\n",
       "      <th>13</th>\n",
       "      <td>Data Science</td>\n",
       "      <td>Johns Hopkins University</td>\n",
       "      <td>SPECIALIZATION</td>\n",
       "      <td>4.5</td>\n",
       "      <td>Beginner</td>\n",
       "      <td>830000.0</td>\n",
       "    </tr>\n",
       "    <tr>\n",
       "      <th>44</th>\n",
       "      <td>Career Success</td>\n",
       "      <td>University of California, Irvine</td>\n",
       "      <td>SPECIALIZATION</td>\n",
       "      <td>4.4</td>\n",
       "      <td>Beginner</td>\n",
       "      <td>790000.0</td>\n",
       "    </tr>\n",
       "    <tr>\n",
       "      <th>175</th>\n",
       "      <td>English for Career Development</td>\n",
       "      <td>University of Pennsylvania</td>\n",
       "      <td>COURSE</td>\n",
       "      <td>4.8</td>\n",
       "      <td>Mixed</td>\n",
       "      <td>760000.0</td>\n",
       "    </tr>\n",
       "    <tr>\n",
       "      <th>40</th>\n",
       "      <td>Successful Negotiation: Essential Strategies a...</td>\n",
       "      <td>University of Michigan</td>\n",
       "      <td>COURSE</td>\n",
       "      <td>4.8</td>\n",
       "      <td>Mixed</td>\n",
       "      <td>750000.0</td>\n",
       "    </tr>\n",
       "    <tr>\n",
       "      <th>15</th>\n",
       "      <td>Data Science: Foundations using R</td>\n",
       "      <td>Johns Hopkins University</td>\n",
       "      <td>SPECIALIZATION</td>\n",
       "      <td>4.6</td>\n",
       "      <td>Beginner</td>\n",
       "      <td>740000.0</td>\n",
       "    </tr>\n",
       "    <tr>\n",
       "      <th>5</th>\n",
       "      <td>Deep Learning</td>\n",
       "      <td>deeplearning.ai</td>\n",
       "      <td>SPECIALIZATION</td>\n",
       "      <td>4.8</td>\n",
       "      <td>Intermediate</td>\n",
       "      <td>690000.0</td>\n",
       "    </tr>\n",
       "  </tbody>\n",
       "</table>\n",
       "</div>"
      ],
      "text/plain": [
       "                                                 title  \\\n",
       "6                                     Machine Learning   \n",
       "2                            The Science of Well-Being   \n",
       "3                                 Python for Everybody   \n",
       "47   Programming for Everybody (Getting Started wit...   \n",
       "13                                        Data Science   \n",
       "44                                      Career Success   \n",
       "175                     English for Career Development   \n",
       "40   Successful Negotiation: Essential Strategies a...   \n",
       "15                   Data Science: Foundations using R   \n",
       "5                                        Deep Learning   \n",
       "\n",
       "                         organization certificate_type  rating    difficulty  \\\n",
       "6                 Stanford University           COURSE     4.9         Mixed   \n",
       "2                     Yale University           COURSE     4.9         Mixed   \n",
       "3              University of Michigan   SPECIALIZATION     4.8      Beginner   \n",
       "47             University of Michigan           COURSE     4.8         Mixed   \n",
       "13           Johns Hopkins University   SPECIALIZATION     4.5      Beginner   \n",
       "44   University of California, Irvine   SPECIALIZATION     4.4      Beginner   \n",
       "175        University of Pennsylvania           COURSE     4.8         Mixed   \n",
       "40             University of Michigan           COURSE     4.8         Mixed   \n",
       "15           Johns Hopkins University   SPECIALIZATION     4.6      Beginner   \n",
       "5                     deeplearning.ai   SPECIALIZATION     4.8  Intermediate   \n",
       "\n",
       "     students_enrolled  \n",
       "6            3200000.0  \n",
       "2            2500000.0  \n",
       "3            1500000.0  \n",
       "47           1300000.0  \n",
       "13            830000.0  \n",
       "44            790000.0  \n",
       "175           760000.0  \n",
       "40            750000.0  \n",
       "15            740000.0  \n",
       "5             690000.0  "
      ]
     },
     "execution_count": 502,
     "metadata": {},
     "output_type": "execute_result"
    }
   ],
   "source": [
    "# Checking courses with higher number of students enrolled no matter the ratings\n",
    "top_10_courses_num_students = df[df['students_enrolled'] >= 100000].sort_values(by='students_enrolled', ascending=False).head(10)\n",
    "top_10_courses_num_students"
   ]
  },
  {
   "cell_type": "code",
   "execution_count": 503,
   "id": "bdf151be",
   "metadata": {},
   "outputs": [
    {
     "data": {
      "text/plain": [
       "COURSE            5\n",
       "SPECIALIZATION    5\n",
       "Name: certificate_type, dtype: Int64"
      ]
     },
     "execution_count": 503,
     "metadata": {},
     "output_type": "execute_result"
    }
   ],
   "source": [
    "top_10_courses_num_students_certificate = top_10_courses_num_students['certificate_type'].value_counts()\n",
    "top_10_courses_num_students_certificate"
   ]
  },
  {
   "cell_type": "code",
   "execution_count": 504,
   "id": "98828cf7",
   "metadata": {},
   "outputs": [
    {
     "data": {
      "text/plain": [
       "Mixed           5\n",
       "Beginner        4\n",
       "Intermediate    1\n",
       "Name: difficulty, dtype: Int64"
      ]
     },
     "execution_count": 504,
     "metadata": {},
     "output_type": "execute_result"
    }
   ],
   "source": [
    "top_10_courses_num_students_difficulty = top_10_courses_num_students['difficulty'].value_counts()\n",
    "top_10_courses_num_students_difficulty"
   ]
  },
  {
   "cell_type": "markdown",
   "id": "60c06173",
   "metadata": {},
   "source": [
    "## Certificate & Difficulty overview\n",
    "\n",
    "- Which type of certificate is more popular?\n",
    "- Which type of certificate students tend to enroll to?\n",
    "\n",
    "\n",
    "- How is the difficulty relevant?\n",
    "- How many types of certificates are there"
   ]
  },
  {
   "cell_type": "code",
   "execution_count": 505,
   "id": "298b927c",
   "metadata": {},
   "outputs": [
    {
     "data": {
      "text/plain": [
       "COURSE                      582\n",
       "SPECIALIZATION              297\n",
       "PROFESSIONAL CERTIFICATE     12\n",
       "Name: certificate_type, dtype: Int64"
      ]
     },
     "execution_count": 505,
     "metadata": {},
     "output_type": "execute_result"
    }
   ],
   "source": [
    "# Let's get some insights from each certificate type and difficulty levels\n",
    "\n",
    "# average ratings per certificate type\n",
    "# average students enrolled per certificate type\n",
    "\n",
    "certificate_count = df['certificate_type'].value_counts()\n",
    "certificate_count"
   ]
  },
  {
   "cell_type": "code",
   "execution_count": 506,
   "id": "04bc4164",
   "metadata": {},
   "outputs": [
    {
     "data": {
      "text/plain": [
       "Text(0.5, 1.0, 'Certification types')"
      ]
     },
     "execution_count": 506,
     "metadata": {},
     "output_type": "execute_result"
    },
    {
     "data": {
      "image/png": "[encoded data removed]",
      "text/plain": [
       "<Figure size 432x288 with 1 Axes>"
      ]
     },
     "metadata": {
      "needs_background": "light"
     },
     "output_type": "display_data"
    }
   ],
   "source": [
    "# Let's plot the certificates count\n",
    "\n",
    "plt.figure()\n",
    "plt.bar(df['certificate_type'].unique(), certificate_count, width=0.3)\n",
    "plt.xlabel(\"Certifications Type\")\n",
    "plt.ylabel(\"# of Courses\")\n",
    "plt.title(\"Certification types\")"
   ]
  },
  {
   "cell_type": "code",
   "execution_count": 510,
   "id": "63c638ee",
   "metadata": {},
   "outputs": [
    {
     "data": {
      "text/plain": [
       "Beginner        487\n",
       "Intermediate    198\n",
       "Mixed           187\n",
       "Advanced         19\n",
       "Name: difficulty, dtype: Int64"
      ]
     },
     "execution_count": 510,
     "metadata": {},
     "output_type": "execute_result"
    }
   ],
   "source": [
    "difficulty_count = df['difficulty'].value_counts()\n",
    "difficulty_count"
   ]
  },
  {
   "cell_type": "code",
   "execution_count": 511,
   "id": "84d2f3e3",
   "metadata": {},
   "outputs": [
    {
     "data": {
      "text/plain": [
       "Text(0.5, 1.0, 'Difficulty')"
      ]
     },
     "execution_count": 511,
     "metadata": {},
     "output_type": "execute_result"
    },
    {
     "data": {
      "image/png": "[encoded data removed]",
      "text/plain": [
       "<Figure size 432x288 with 1 Axes>"
      ]
     },
     "metadata": {
      "needs_background": "light"
     },
     "output_type": "display_data"
    }
   ],
   "source": [
    "# Let's visualize the num of courses based on difficulty\n",
    "plt.figure()\n",
    "plt.bar(df['difficulty'].unique(), difficulty_count, width=0.3)\n",
    "plt.xlabel(\"Levels of Difficulty\")\n",
    "plt.ylabel(\"# of Courses\")\n",
    "plt.title(\"Difficulty\")"
   ]
  },
  {
   "cell_type": "markdown",
   "id": "4fa58de0",
   "metadata": {},
   "source": [
    "## Organizations overview\n",
    "\n",
    "- How many organizations are doing courses?\n",
    "- What organizations have more courses? and which ones less?\n",
    "- How many courses of each certificate type have each organization?\n",
    "- What's the average rating per organization and which organization have the highest \n",
    "ratings average and more students enrolled? Which one has the lowest students enrolled and have the highest ratings?\n",
    "- Which are the TOP organizations?\n",
    "- Which organizations has more students enrolled?"
   ]
  },
  {
   "cell_type": "code",
   "execution_count": 512,
   "id": "df1c46c8",
   "metadata": {},
   "outputs": [
    {
     "name": "stdout",
     "output_type": "stream",
     "text": [
      " There's 154 organizations that has courses in Coursera\n"
     ]
    }
   ],
   "source": [
    "# How many organizations are doing courses at Coursera?\n",
    "print(f\" There's {len(df['organization'].unique())} organizations that has courses in Coursera\")"
   ]
  },
  {
   "cell_type": "code",
   "execution_count": 513,
   "id": "c9279f4e",
   "metadata": {},
   "outputs": [
    {
     "data": {
      "text/plain": [
       "University of Pennsylvania                      59\n",
       "University of Michigan                          41\n",
       "Google Cloud                                    34\n",
       "Duke University                                 28\n",
       "Johns Hopkins University                        28\n",
       "                                                ..\n",
       "Bloomsbury Learning Exchange                     1\n",
       "JetBrains                                        1\n",
       "Nanyang Technological University, Singapore      1\n",
       "Royal Holloway, University of London             1\n",
       "American Institute of Business and Economics     1\n",
       "Name: organization, Length: 154, dtype: Int64"
      ]
     },
     "execution_count": 513,
     "metadata": {},
     "output_type": "execute_result"
    }
   ],
   "source": [
    "# What organizations have more courses at Coursera? \n",
    "\n",
    "org_courses = df['organization'].value_counts().sort_values(ascending=False)\n",
    "org_courses\n",
    "# Organizations that has more than 1 course\n"
   ]
  },
  {
   "cell_type": "code",
   "execution_count": 514,
   "id": "247aca8f",
   "metadata": {},
   "outputs": [
    {
     "data": {
      "image/png": "[encoded data removed]",
      "text/plain": [
       "<Figure size 432x288 with 1 Axes>"
      ]
     },
     "metadata": {
      "needs_background": "light"
     },
     "output_type": "display_data"
    }
   ],
   "source": [
    "# Let's quick check how the data is distributed with a box plot\n",
    "plt.figure()\n",
    "plt.boxplot(org_courses)\n",
    "plt.ylabel('# Number of courses per organization')\n",
    "plt.show()"
   ]
  },
  {
   "cell_type": "markdown",
   "id": "91c5f756",
   "metadata": {},
   "source": [
    "Most of the organizations has less than 15 courses in Coursera."
   ]
  },
  {
   "cell_type": "code",
   "execution_count": 587,
   "id": "91d355e8",
   "metadata": {},
   "outputs": [
    {
     "data": {
      "text/html": [
       "<div>\n",
       "<style scoped>\n",
       "    .dataframe tbody tr th:only-of-type {\n",
       "        vertical-align: middle;\n",
       "    }\n",
       "\n",
       "    .dataframe tbody tr th {\n",
       "        vertical-align: top;\n",
       "    }\n",
       "\n",
       "    .dataframe thead th {\n",
       "        text-align: right;\n",
       "    }\n",
       "</style>\n",
       "<table border=\"1\" class=\"dataframe\">\n",
       "  <thead>\n",
       "    <tr style=\"text-align: right;\">\n",
       "      <th></th>\n",
       "      <th>rating</th>\n",
       "      <th>students_enrolled</th>\n",
       "    </tr>\n",
       "    <tr>\n",
       "      <th>organization</th>\n",
       "      <th></th>\n",
       "      <th></th>\n",
       "    </tr>\n",
       "  </thead>\n",
       "  <tbody>\n",
       "    <tr>\n",
       "      <th>Stanford University</th>\n",
       "      <td>4.768750</td>\n",
       "      <td>303375.000000</td>\n",
       "    </tr>\n",
       "    <tr>\n",
       "      <th>Yale University</th>\n",
       "      <td>4.817647</td>\n",
       "      <td>232470.588235</td>\n",
       "    </tr>\n",
       "    <tr>\n",
       "      <th>McMaster University</th>\n",
       "      <td>4.800000</td>\n",
       "      <td>230000.000000</td>\n",
       "    </tr>\n",
       "    <tr>\n",
       "      <th>Google - Spectrum Sharing</th>\n",
       "      <td>4.900000</td>\n",
       "      <td>210000.000000</td>\n",
       "    </tr>\n",
       "    <tr>\n",
       "      <th>Ludwig-Maximilians-Universität München (LMU)</th>\n",
       "      <td>4.750000</td>\n",
       "      <td>192500.000000</td>\n",
       "    </tr>\n",
       "    <tr>\n",
       "      <th>École Polytechnique</th>\n",
       "      <td>4.800000</td>\n",
       "      <td>190000.000000</td>\n",
       "    </tr>\n",
       "    <tr>\n",
       "      <th>University of Michigan</th>\n",
       "      <td>4.729268</td>\n",
       "      <td>181407.317073</td>\n",
       "    </tr>\n",
       "    <tr>\n",
       "      <th>deeplearning.ai</th>\n",
       "      <td>4.743750</td>\n",
       "      <td>178962.500000</td>\n",
       "    </tr>\n",
       "    <tr>\n",
       "      <th>Yonsei University</th>\n",
       "      <td>4.750000</td>\n",
       "      <td>140750.000000</td>\n",
       "    </tr>\n",
       "    <tr>\n",
       "      <th>The Museum of Modern Art</th>\n",
       "      <td>4.783333</td>\n",
       "      <td>133166.666667</td>\n",
       "    </tr>\n",
       "  </tbody>\n",
       "</table>\n",
       "</div>"
      ],
      "text/plain": [
       "                                                rating  students_enrolled\n",
       "organization                                                             \n",
       "Stanford University                           4.768750      303375.000000\n",
       "Yale University                               4.817647      232470.588235\n",
       "McMaster University                           4.800000      230000.000000\n",
       "Google - Spectrum Sharing                     4.900000      210000.000000\n",
       "Ludwig-Maximilians-Universität München (LMU)  4.750000      192500.000000\n",
       "École Polytechnique                           4.800000      190000.000000\n",
       "University of Michigan                        4.729268      181407.317073\n",
       "deeplearning.ai                               4.743750      178962.500000\n",
       "Yonsei University                             4.750000      140750.000000\n",
       "The Museum of Modern Art                      4.783333      133166.666667"
      ]
     },
     "execution_count": 587,
     "metadata": {},
     "output_type": "execute_result"
    }
   ],
   "source": [
    "# Finding out the top 10 organizations, which I will consider those with higher number of students\n",
    "# and high ratings based on the students enrolled\n",
    "top_10_organizations = df[['organization', 'rating', 'students_enrolled']].groupby('organization').mean().sort_values(by=['students_enrolled'],ascending = [False])\n",
    "# Let's select only those with ratings above 4.7\n",
    "top_10_organizations.loc[top_10_organizations.rating >= 4.7].head(10)"
   ]
  },
  {
   "cell_type": "code",
   "execution_count": null,
   "id": "53d7239f",
   "metadata": {},
   "outputs": [],
   "source": []
  },
  {
   "cell_type": "code",
   "execution_count": null,
   "id": "ac63d3dc",
   "metadata": {},
   "outputs": [],
   "source": []
  },
  {
   "cell_type": "code",
   "execution_count": null,
   "id": "50330fa9",
   "metadata": {},
   "outputs": [],
   "source": []
  },
  {
   "cell_type": "code",
   "execution_count": null,
   "id": "3a126c7c",
   "metadata": {},
   "outputs": [],
   "source": []
  },
  {
   "cell_type": "code",
   "execution_count": null,
   "id": "4a699fba",
   "metadata": {},
   "outputs": [],
   "source": []
  }
 ],
 "metadata": {
  "kernelspec": {
   "display_name": "Python 3 (ipykernel)",
   "language": "python",
   "name": "python3"
  },
  "language_info": {
   "codemirror_mode": {
    "name": "ipython",
    "version": 3
   },
   "file_extension": ".py",
   "mimetype": "text/x-python",
   "name": "python",
   "nbconvert_exporter": "python",
   "pygments_lexer": "ipython3",
   "version": "3.9.12"
  }
 },
 "nbformat": 4,
 "nbformat_minor": 5
}
