{
 "cells": [
  {
   "cell_type": "markdown",
   "id": "7d63b94c",
   "metadata": {},
   "source": [
    "# Who is coursera for, and if it's for you, which organization should you choose?"
   ]
  },
  {
   "cell_type": "markdown",
   "id": "432b9f2e",
   "metadata": {},
   "source": [
    "Analyzing a coursera dataset to understand if it's a platform for advanced students and if can be a substitute to official studies. "
   ]
  },
  {
   "cell_type": "code",
   "execution_count": 79,
   "id": "b9070aba",
   "metadata": {},
   "outputs": [
    {
     "data": {
      "text/html": [
       "<div>\n",
       "<style scoped>\n",
       "    .dataframe tbody tr th:only-of-type {\n",
       "        vertical-align: middle;\n",
       "    }\n",
       "\n",
       "    .dataframe tbody tr th {\n",
       "        vertical-align: top;\n",
       "    }\n",
       "\n",
       "    .dataframe thead th {\n",
       "        text-align: right;\n",
       "    }\n",
       "</style>\n",
       "<table border=\"1\" class=\"dataframe\">\n",
       "  <thead>\n",
       "    <tr style=\"text-align: right;\">\n",
       "      <th></th>\n",
       "      <th>course_title</th>\n",
       "      <th>course_organization</th>\n",
       "      <th>course_Certificate_type</th>\n",
       "      <th>course_rating</th>\n",
       "      <th>course_difficulty</th>\n",
       "      <th>course_students_enrolled</th>\n",
       "    </tr>\n",
       "  </thead>\n",
       "  <tbody>\n",
       "    <tr>\n",
       "      <th>0</th>\n",
       "      <td>IBM Data Science</td>\n",
       "      <td>IBM</td>\n",
       "      <td>PROFESSIONAL CERTIFICATE</td>\n",
       "      <td>4.6</td>\n",
       "      <td>Beginner</td>\n",
       "      <td>480k</td>\n",
       "    </tr>\n",
       "    <tr>\n",
       "      <th>1</th>\n",
       "      <td>Introduction to Data Science</td>\n",
       "      <td>IBM</td>\n",
       "      <td>SPECIALIZATION</td>\n",
       "      <td>4.6</td>\n",
       "      <td>Beginner</td>\n",
       "      <td>310k</td>\n",
       "    </tr>\n",
       "    <tr>\n",
       "      <th>2</th>\n",
       "      <td>The Science of Well-Being</td>\n",
       "      <td>Yale University</td>\n",
       "      <td>COURSE</td>\n",
       "      <td>4.9</td>\n",
       "      <td>Mixed</td>\n",
       "      <td>2.5m</td>\n",
       "    </tr>\n",
       "    <tr>\n",
       "      <th>3</th>\n",
       "      <td>Python for Everybody</td>\n",
       "      <td>University of Michigan</td>\n",
       "      <td>SPECIALIZATION</td>\n",
       "      <td>4.8</td>\n",
       "      <td>Beginner</td>\n",
       "      <td>1.5m</td>\n",
       "    </tr>\n",
       "    <tr>\n",
       "      <th>4</th>\n",
       "      <td>Google IT Support</td>\n",
       "      <td>Google</td>\n",
       "      <td>PROFESSIONAL CERTIFICATE</td>\n",
       "      <td>4.8</td>\n",
       "      <td>Beginner</td>\n",
       "      <td>350k</td>\n",
       "    </tr>\n",
       "  </tbody>\n",
       "</table>\n",
       "</div>"
      ],
      "text/plain": [
       "                   course_title     course_organization  \\\n",
       "0              IBM Data Science                     IBM   \n",
       "1  Introduction to Data Science                     IBM   \n",
       "2     The Science of Well-Being         Yale University   \n",
       "3          Python for Everybody  University of Michigan   \n",
       "4             Google IT Support                  Google   \n",
       "\n",
       "    course_Certificate_type  course_rating course_difficulty  \\\n",
       "0  PROFESSIONAL CERTIFICATE            4.6          Beginner   \n",
       "1            SPECIALIZATION            4.6          Beginner   \n",
       "2                    COURSE            4.9             Mixed   \n",
       "3            SPECIALIZATION            4.8          Beginner   \n",
       "4  PROFESSIONAL CERTIFICATE            4.8          Beginner   \n",
       "\n",
       "  course_students_enrolled  \n",
       "0                     480k  \n",
       "1                     310k  \n",
       "2                     2.5m  \n",
       "3                     1.5m  \n",
       "4                     350k  "
      ]
     },
     "execution_count": 79,
     "metadata": {},
     "output_type": "execute_result"
    }
   ],
   "source": [
    "# Importing libraries and dataset from Coursera Courses\n",
    "\n",
    "import pandas as pd\n",
    "import numpy as np\n",
    "import matplotlib.pyplot as plt\n",
    "import timeit\n",
    "import seaborn as sns\n",
    "\n",
    "df = pd.read_csv('sample_data/coursea_data.csv', index_col=0).sort_index()\n",
    "df.head()"
   ]
  },
  {
   "cell_type": "markdown",
   "id": "6b0c9dbd",
   "metadata": {},
   "source": [
    "### Cleaning and basic exploring"
   ]
  },
  {
   "cell_type": "code",
   "execution_count": 80,
   "id": "47870b96",
   "metadata": {},
   "outputs": [
    {
     "data": {
      "text/plain": [
       "Index(['title', 'organization', 'certificate_type', 'rating', 'difficulty',\n",
       "       'students_enrolled'],\n",
       "      dtype='object')"
      ]
     },
     "execution_count": 80,
     "metadata": {},
     "output_type": "execute_result"
    }
   ],
   "source": [
    "# Tidying up dataset column names by removing course since we already defined that this is a coursera \n",
    "# course dataset.\n",
    "\n",
    "df.columns = df.columns.str.replace('course_', '').str.lower()\n",
    "df.columns"
   ]
  },
  {
   "cell_type": "code",
   "execution_count": 81,
   "id": "761657e1",
   "metadata": {},
   "outputs": [
    {
     "name": "stdout",
     "output_type": "stream",
     "text": [
      "This dataset has 891 observations and 6 features.\n"
     ]
    }
   ],
   "source": [
    "print(f'This dataset has {df.shape[0]} observations and {df.shape[1]} features.')"
   ]
  },
  {
   "cell_type": "code",
   "execution_count": 82,
   "id": "96797c26",
   "metadata": {},
   "outputs": [
    {
     "data": {
      "text/plain": [
       "title                False\n",
       "organization         False\n",
       "certificate_type     False\n",
       "rating               False\n",
       "difficulty           False\n",
       "students_enrolled    False\n",
       "dtype: bool"
      ]
     },
     "execution_count": 82,
     "metadata": {},
     "output_type": "execute_result"
    }
   ],
   "source": [
    "# Checking if there is any empty value in the dataset\n",
    "df.isnull().any()"
   ]
  },
  {
   "cell_type": "code",
   "execution_count": 83,
   "id": "6f20b196",
   "metadata": {},
   "outputs": [
    {
     "data": {
      "text/plain": [
       "False"
      ]
     },
     "execution_count": 83,
     "metadata": {},
     "output_type": "execute_result"
    }
   ],
   "source": [
    "# Checking if there is any duplicated in the dataset\n",
    "df.duplicated().any()"
   ]
  },
  {
   "cell_type": "code",
   "execution_count": 84,
   "id": "7b203ed7",
   "metadata": {},
   "outputs": [
    {
     "data": {
      "text/plain": [
       "title                 object\n",
       "organization          object\n",
       "certificate_type      object\n",
       "rating               float64\n",
       "difficulty            object\n",
       "students_enrolled     object\n",
       "dtype: object"
      ]
     },
     "execution_count": 84,
     "metadata": {},
     "output_type": "execute_result"
    }
   ],
   "source": [
    "# Checking each feature datatype to adjust if needed\n",
    "df.dtypes"
   ]
  },
  {
   "cell_type": "code",
   "execution_count": 85,
   "id": "fdd5665e",
   "metadata": {},
   "outputs": [
    {
     "data": {
      "text/plain": [
       "title                 string\n",
       "organization          string\n",
       "certificate_type      string\n",
       "rating               float64\n",
       "difficulty            string\n",
       "students_enrolled     object\n",
       "dtype: object"
      ]
     },
     "execution_count": 85,
     "metadata": {},
     "output_type": "execute_result"
    }
   ],
   "source": [
    "# Most of the columns might have mixed data types. We will work with string datatype for the\n",
    "# storing columns: title, organization, certificate_type and course difficuly.\n",
    "# for the rating and students_enrolled column we need them as floats.\n",
    "\n",
    "df = df.astype({\"title\": 'string', \"organization\": 'string', \"certificate_type\": 'string', \"difficulty\": 'string'})\n",
    "df.dtypes"
   ]
  },
  {
   "cell_type": "code",
   "execution_count": 86,
   "id": "e388b40a",
   "metadata": {},
   "outputs": [
    {
     "data": {
      "text/plain": [
       "<StringArray>\n",
       "['Beginner', 'Mixed', 'Intermediate', 'Advanced']\n",
       "Length: 4, dtype: string"
      ]
     },
     "execution_count": 86,
     "metadata": {},
     "output_type": "execute_result"
    }
   ],
   "source": [
    "# Exploring Certificate_type and course_difficulty column to assure there's not wrong values\n",
    "df['difficulty'].unique()"
   ]
  },
  {
   "cell_type": "code",
   "execution_count": 87,
   "id": "bdd0b1bb",
   "metadata": {},
   "outputs": [
    {
     "data": {
      "text/plain": [
       "<StringArray>\n",
       "['Professional Certificate', 'Specialization', 'Course']\n",
       "Length: 3, dtype: string"
      ]
     },
     "execution_count": 87,
     "metadata": {},
     "output_type": "execute_result"
    }
   ],
   "source": [
    "df.certificate_type = df.certificate_type.str.title()\n",
    "df['certificate_type'].unique()"
   ]
  },
  {
   "cell_type": "code",
   "execution_count": 88,
   "id": "c1475de7",
   "metadata": {},
   "outputs": [
    {
     "data": {
      "text/plain": [
       "0      480k\n",
       "1      310k\n",
       "2      2.5m\n",
       "3      1.5m\n",
       "4      350k\n",
       "       ... \n",
       "886     11k\n",
       "887     33k\n",
       "888    6.6k\n",
       "889     45k\n",
       "890    6.4k\n",
       "Name: students_enrolled, Length: 891, dtype: object"
      ]
     },
     "execution_count": 88,
     "metadata": {},
     "output_type": "execute_result"
    }
   ],
   "source": [
    "# Exploring students_enrolled column to convert all to floats\n",
    "df['students_enrolled']"
   ]
  },
  {
   "cell_type": "code",
   "execution_count": 89,
   "id": "4618e359",
   "metadata": {},
   "outputs": [
    {
     "data": {
      "text/plain": [
       "0       480000.0\n",
       "1       310000.0\n",
       "2      2500000.0\n",
       "3      1500000.0\n",
       "4       350000.0\n",
       "         ...    \n",
       "886      11000.0\n",
       "887      33000.0\n",
       "888       6600.0\n",
       "889      45000.0\n",
       "890       6400.0\n",
       "Name: students_enrolled, Length: 891, dtype: float64"
      ]
     },
     "execution_count": 89,
     "metadata": {},
     "output_type": "execute_result"
    }
   ],
   "source": [
    "# Function that takes number of students enrolled variable and check's if there's an m or a x and if there is \n",
    "# converts the value to digit\n",
    "def value_to_float(x):\n",
    "    if type(x) == float or type(x) == int:\n",
    "        return x\n",
    "    if 'm' in x:\n",
    "        if len(x) > 1:\n",
    "            return float(x.replace('m', '')) * 1000000\n",
    "        return 1000000.0\n",
    "    if 'k' in x:\n",
    "        if len(x) > 1:\n",
    "            return float(x.replace('k', '')) * 1000\n",
    "        return 1000.0\n",
    "\n",
    "\n",
    "# Applying the function to the students enrolled column.\n",
    "df['students_enrolled'] = df['students_enrolled'].apply(value_to_float)\n",
    "df['students_enrolled']"
   ]
  },
  {
   "cell_type": "code",
   "execution_count": 90,
   "id": "c647bc2d",
   "metadata": {},
   "outputs": [
    {
     "data": {
      "text/html": [
       "<div>\n",
       "<style scoped>\n",
       "    .dataframe tbody tr th:only-of-type {\n",
       "        vertical-align: middle;\n",
       "    }\n",
       "\n",
       "    .dataframe tbody tr th {\n",
       "        vertical-align: top;\n",
       "    }\n",
       "\n",
       "    .dataframe thead th {\n",
       "        text-align: right;\n",
       "    }\n",
       "</style>\n",
       "<table border=\"1\" class=\"dataframe\">\n",
       "  <thead>\n",
       "    <tr style=\"text-align: right;\">\n",
       "      <th></th>\n",
       "      <th>title</th>\n",
       "      <th>organization</th>\n",
       "      <th>certificate_type</th>\n",
       "      <th>rating</th>\n",
       "      <th>difficulty</th>\n",
       "      <th>students_enrolled</th>\n",
       "    </tr>\n",
       "  </thead>\n",
       "  <tbody>\n",
       "    <tr>\n",
       "      <th>0</th>\n",
       "      <td>IBM Data Science</td>\n",
       "      <td>IBM</td>\n",
       "      <td>Professional Certificate</td>\n",
       "      <td>4.6</td>\n",
       "      <td>Beginner</td>\n",
       "      <td>480000.0</td>\n",
       "    </tr>\n",
       "    <tr>\n",
       "      <th>1</th>\n",
       "      <td>Introduction to Data Science</td>\n",
       "      <td>IBM</td>\n",
       "      <td>Specialization</td>\n",
       "      <td>4.6</td>\n",
       "      <td>Beginner</td>\n",
       "      <td>310000.0</td>\n",
       "    </tr>\n",
       "    <tr>\n",
       "      <th>2</th>\n",
       "      <td>The Science of Well-Being</td>\n",
       "      <td>Yale University</td>\n",
       "      <td>Course</td>\n",
       "      <td>4.9</td>\n",
       "      <td>Mixed</td>\n",
       "      <td>2500000.0</td>\n",
       "    </tr>\n",
       "    <tr>\n",
       "      <th>3</th>\n",
       "      <td>Python for Everybody</td>\n",
       "      <td>University of Michigan</td>\n",
       "      <td>Specialization</td>\n",
       "      <td>4.8</td>\n",
       "      <td>Beginner</td>\n",
       "      <td>1500000.0</td>\n",
       "    </tr>\n",
       "    <tr>\n",
       "      <th>4</th>\n",
       "      <td>Google IT Support</td>\n",
       "      <td>Google</td>\n",
       "      <td>Professional Certificate</td>\n",
       "      <td>4.8</td>\n",
       "      <td>Beginner</td>\n",
       "      <td>350000.0</td>\n",
       "    </tr>\n",
       "  </tbody>\n",
       "</table>\n",
       "</div>"
      ],
      "text/plain": [
       "                          title            organization  \\\n",
       "0              IBM Data Science                     IBM   \n",
       "1  Introduction to Data Science                     IBM   \n",
       "2     The Science of Well-Being         Yale University   \n",
       "3          Python for Everybody  University of Michigan   \n",
       "4             Google IT Support                  Google   \n",
       "\n",
       "           certificate_type  rating difficulty  students_enrolled  \n",
       "0  Professional Certificate     4.6   Beginner           480000.0  \n",
       "1            Specialization     4.6   Beginner           310000.0  \n",
       "2                    Course     4.9      Mixed          2500000.0  \n",
       "3            Specialization     4.8   Beginner          1500000.0  \n",
       "4  Professional Certificate     4.8   Beginner           350000.0  "
      ]
     },
     "execution_count": 90,
     "metadata": {},
     "output_type": "execute_result"
    }
   ],
   "source": [
    "# Printing final cleaned dataframe for our analysis\n",
    "df.head()"
   ]
  },
  {
   "cell_type": "markdown",
   "id": "c2c74ad3",
   "metadata": {},
   "source": [
    "## Exploring further the data and visualizing some relevant data"
   ]
  },
  {
   "cell_type": "code",
   "execution_count": 91,
   "id": "64871912",
   "metadata": {},
   "outputs": [
    {
     "data": {
      "image/png": "[encoded data removed]",
      "text/plain": [
       "<Figure size 576x288 with 2 Axes>"
      ]
     },
     "metadata": {},
     "output_type": "display_data"
    }
   ],
   "source": [
    "# Visualizing the count of courses for each category\n",
    "\n",
    "hist_data = [df['difficulty'].value_counts(), df['certificate_type'].value_counts()]\n",
    "titles = ['Courses Difficulty Distribution', 'Courses Certificates Distribution']\n",
    "\n",
    "fig, ax = plt.subplots(1, 2, figsize=(8,4))\n",
    "plt.rcParams.update({'font.size': 11})\n",
    "\n",
    "for i, data in enumerate(hist_data):\n",
    "    ax[i].pie(data.values, labels = data.index, autopct='%1.2f%%')\n",
    "    ax[i].set_title(titles[i])\n",
    "\n",
    "fig.tight_layout()\n",
    "plt.show()"
   ]
  },
  {
   "cell_type": "code",
   "execution_count": 92,
   "id": "95f60779",
   "metadata": {},
   "outputs": [
    {
     "data": {
      "image/png": "[encoded data removed]",
      "text/plain": [
       "<Figure size 576x288 with 2 Axes>"
      ]
     },
     "metadata": {},
     "output_type": "display_data"
    }
   ],
   "source": [
    "# Identifying outliers for ratings and students enrolled columns\n",
    "\n",
    "hist_data = [df['rating'].values, df['students_enrolled'].values]\n",
    "titles = ['Courses Difficulty Boxplot', 'Courses Certificates Boxplot']\n",
    "xlabels = ['Ratings', 'Students Enrolled']\n",
    "ylabels = ['# of Courses'] * 2\n",
    "\n",
    "fig, ax = plt.subplots(1, 2, figsize=(8,4))\n",
    "sns.set(font_scale=1.5)\n",
    "sns.set(rc={'axes.facecolor':'whitesmoke'})\n",
    "\n",
    "for i, data in enumerate(hist_data):\n",
    "    sns.boxplot(x=data, color=\"lightblue\", ax=ax.flat[i])\n",
    "    ax.flat[i].set_xlabel(xlabels[i])\n",
    "    ax.flat[i].set_ylabel(ylabels[i])\n",
    "    ax.flat[i].set_title(titles[i])\n",
    "\n",
    "fig.tight_layout()\n",
    "plt.show()\n"
   ]
  },
  {
   "cell_type": "markdown",
   "id": "d2f1469e",
   "metadata": {},
   "source": [
    "Since the students enrolled is data based on the actual students enrolled I don't think we should exclude those courses from our study. The reasons I believe this courses has such high amount of students enrolled might be because of the popularity of the topic, the price being free or how highly rated is."
   ]
  },
  {
   "cell_type": "code",
   "execution_count": 93,
   "id": "90ff38bf",
   "metadata": {},
   "outputs": [
    {
     "data": {
      "text/html": [
       "<div>\n",
       "<style scoped>\n",
       "    .dataframe tbody tr th:only-of-type {\n",
       "        vertical-align: middle;\n",
       "    }\n",
       "\n",
       "    .dataframe tbody tr th {\n",
       "        vertical-align: top;\n",
       "    }\n",
       "\n",
       "    .dataframe thead th {\n",
       "        text-align: right;\n",
       "    }\n",
       "</style>\n",
       "<table border=\"1\" class=\"dataframe\">\n",
       "  <thead>\n",
       "    <tr style=\"text-align: right;\">\n",
       "      <th></th>\n",
       "      <th>title</th>\n",
       "      <th>organization</th>\n",
       "      <th>certificate_type</th>\n",
       "      <th>rating</th>\n",
       "      <th>difficulty</th>\n",
       "      <th>students_enrolled</th>\n",
       "    </tr>\n",
       "  </thead>\n",
       "  <tbody>\n",
       "    <tr>\n",
       "      <th>2</th>\n",
       "      <td>The Science of Well-Being</td>\n",
       "      <td>Yale University</td>\n",
       "      <td>Course</td>\n",
       "      <td>4.9</td>\n",
       "      <td>Mixed</td>\n",
       "      <td>2500000.0</td>\n",
       "    </tr>\n",
       "    <tr>\n",
       "      <th>3</th>\n",
       "      <td>Python for Everybody</td>\n",
       "      <td>University of Michigan</td>\n",
       "      <td>Specialization</td>\n",
       "      <td>4.8</td>\n",
       "      <td>Beginner</td>\n",
       "      <td>1500000.0</td>\n",
       "    </tr>\n",
       "    <tr>\n",
       "      <th>6</th>\n",
       "      <td>Machine Learning</td>\n",
       "      <td>Stanford University</td>\n",
       "      <td>Course</td>\n",
       "      <td>4.9</td>\n",
       "      <td>Mixed</td>\n",
       "      <td>3200000.0</td>\n",
       "    </tr>\n",
       "    <tr>\n",
       "      <th>47</th>\n",
       "      <td>Programming for Everybody (Getting Started wit...</td>\n",
       "      <td>University of Michigan</td>\n",
       "      <td>Course</td>\n",
       "      <td>4.8</td>\n",
       "      <td>Mixed</td>\n",
       "      <td>1300000.0</td>\n",
       "    </tr>\n",
       "  </tbody>\n",
       "</table>\n",
       "</div>"
      ],
      "text/plain": [
       "                                                title            organization  \\\n",
       "2                           The Science of Well-Being         Yale University   \n",
       "3                                Python for Everybody  University of Michigan   \n",
       "6                                    Machine Learning     Stanford University   \n",
       "47  Programming for Everybody (Getting Started wit...  University of Michigan   \n",
       "\n",
       "   certificate_type  rating difficulty  students_enrolled  \n",
       "2            Course     4.9      Mixed          2500000.0  \n",
       "3    Specialization     4.8   Beginner          1500000.0  \n",
       "6            Course     4.9      Mixed          3200000.0  \n",
       "47           Course     4.8      Mixed          1300000.0  "
      ]
     },
     "execution_count": 93,
     "metadata": {},
     "output_type": "execute_result"
    }
   ],
   "source": [
    "df[df['students_enrolled'] > 1000000]"
   ]
  },
  {
   "cell_type": "markdown",
   "id": "c615077f",
   "metadata": {},
   "source": [
    "If we observe above both courses with such high amount of studenets enrolled are courses with very high ratings 4.9 out of 5.0.\n",
    "\n",
    "Unfortunately the price of the courses and the topic is not data available in our dataset. It would have been great to analyze those factors and improve the analysis. \n",
    "\n",
    "Although we don't have data proving so and the most discussed topics, I agree that all the courses with high number of enrolled students are popular topics in the net nowadays. Programming, Data and well-being."
   ]
  },
  {
   "cell_type": "markdown",
   "id": "9ac941e0",
   "metadata": {},
   "source": [
    "#### Ratings and students enrolled distribution and central tendency"
   ]
  },
  {
   "cell_type": "code",
   "execution_count": 94,
   "id": "dc2a9d76",
   "metadata": {},
   "outputs": [
    {
     "data": {
      "image/png": "[encoded data removed]",
      "text/plain": [
       "<Figure size 576x288 with 2 Axes>"
      ]
     },
     "metadata": {},
     "output_type": "display_data"
    }
   ],
   "source": [
    "# Visualizing the distribution of ratings and students enrolled\n",
    "\n",
    "hist_data = [df['rating'].values, df['students_enrolled'].values]\n",
    "xlabels = ['Ratings', 'Students Enrolled']\n",
    "ylabels = ['# of Courses'] * 2\n",
    "bins = [16,200]\n",
    "\n",
    "fig, ax = plt.subplots(1, 2, figsize=(8,4))\n",
    "sns.set(font_scale=1.5)\n",
    "\n",
    "for i, data in enumerate(hist_data):\n",
    "    sns.histplot(data, kde=False, bins=bins[i], color=\"lightblue\", ax=ax.flat[i])\n",
    "    # we use flat to access to each element of the ax array\n",
    "    ax.flat[i].set_xlabel(xlabels[i])\n",
    "    ax.flat[i].set_ylabel(ylabels[i])\n",
    "    if i == 0:\n",
    "        ax.flat[i].set_xlim(4.0, 5.0)\n",
    "    elif i == 1:\n",
    "        ax.flat[i].set_xlim(0.0, 1000000.0)\n",
    "\n",
    "fig.tight_layout()\n",
    "plt.show()"
   ]
  },
  {
   "cell_type": "markdown",
   "id": "b30e596a",
   "metadata": {},
   "source": [
    "I observe a left skewed distribution on the ratings distribution plot, meaning that all the vast majority of points are concentrated towards the right side, most of the courses has high ratings and ranges between 4.6 and 4.8. on the contrary, the students enrolled distribution shows the tail extending to the right, this a right skewed distribution, indicating that there are only a courses that has more students enrolled than the majority of the data points."
   ]
  },
  {
   "cell_type": "code",
   "execution_count": 95,
   "id": "4c2cb646",
   "metadata": {},
   "outputs": [
    {
     "data": {
      "text/plain": [
       "count    891.000000\n",
       "mean       4.677329\n",
       "std        0.162225\n",
       "min        3.300000\n",
       "25%        4.600000\n",
       "50%        4.700000\n",
       "75%        4.800000\n",
       "max        5.000000\n",
       "Name: rating, dtype: float64"
      ]
     },
     "execution_count": 95,
     "metadata": {},
     "output_type": "execute_result"
    }
   ],
   "source": [
    "# We will describe the values in the rating column\n",
    "df['rating'].describe()"
   ]
  },
  {
   "cell_type": "code",
   "execution_count": 96,
   "id": "f69c2c26",
   "metadata": {},
   "outputs": [
    {
     "data": {
      "text/plain": [
       "count    8.910000e+02\n",
       "mean     9.055208e+04\n",
       "std      1.819365e+05\n",
       "min      1.500000e+03\n",
       "25%      1.750000e+04\n",
       "50%      4.200000e+04\n",
       "75%      9.950000e+04\n",
       "max      3.200000e+06\n",
       "Name: students_enrolled, dtype: float64"
      ]
     },
     "execution_count": 96,
     "metadata": {},
     "output_type": "execute_result"
    }
   ],
   "source": [
    "# We will describe the values in the enrolled students column\n",
    "df['students_enrolled'].describe()"
   ]
  },
  {
   "cell_type": "markdown",
   "id": "5e955d8a",
   "metadata": {},
   "source": [
    "#### Distribution of courses ratings and students enrolled based on its difficulty and certificates types."
   ]
  },
  {
   "cell_type": "code",
   "execution_count": 129,
   "id": "ee23a7b1",
   "metadata": {},
   "outputs": [
    {
     "data": {
      "image/png": "[encoded data removed]",
      "text/plain": [
       "<Figure size 720x288 with 2 Axes>"
      ]
     },
     "metadata": {},
     "output_type": "display_data"
    }
   ],
   "source": [
    "# mask of values less than 250.000\n",
    "\n",
    "ydata = [df['rating'], df['students_enrolled']]\n",
    "ylabels = ['Certificate Type', 'Difficulty']\n",
    "xlabels = ['Ratings'] * 2\n",
    "\n",
    "fig, ax = plt.subplots(1, 2, figsize=(10,4))\n",
    "sns.set(font_scale=1.5)\n",
    "sns.set(rc={'axes.facecolor':'whitesmoke'})\n",
    "\n",
    "for i, data in enumerate(ydata):\n",
    "    sns.boxplot(x=df['certificate_type'], y=ydata[i], color='lightblue', ax=ax.flat[i])\n",
    "    ax.flat[i].set_xlabel(xlabels[i])\n",
    "    ax.flat[i].set_ylabel(ylabels[i])\n",
    "\n",
    "fig.tight_layout()\n",
    "plt.show()\n"
   ]
  },
  {
   "cell_type": "code",
   "execution_count": 128,
   "id": "366689f1",
   "metadata": {},
   "outputs": [
    {
     "data": {
      "image/png": "[encoded data removed]",
      "text/plain": [
       "<Figure size 720x288 with 2 Axes>"
      ]
     },
     "metadata": {},
     "output_type": "display_data"
    }
   ],
   "source": [
    "# mask of values less than 250.000\n",
    "\n",
    "ydata = [df['certificate_type'], df['difficulty']]\n",
    "ylabels = ['Certificate Type', 'Difficulty']\n",
    "xlabels = ['# Students Enrolled'] * 2\n",
    "\n",
    "fig, ax = plt.subplots(1, 2, figsize=(10,4))\n",
    "sns.set(font_scale=1.5)\n",
    "sns.set(rc={'axes.facecolor':'whitesmoke'})\n",
    "\n",
    "for i, data in enumerate(ydata):\n",
    "    sns.boxplot(x=df['students_enrolled'], y=ydata[i], color='lightblue', ax=ax.flat[i])\n",
    "    ax.flat[i].set_xlabel(xlabels[i])\n",
    "    ax.flat[i].set_ylabel(ylabels[i])\n",
    "    if i == 0:\n",
    "        ax.flat[i].set_xlim(0.0, 400000.0)\n",
    "    elif i == 1:\n",
    "        ax.flat[i].set_xlim(0.0, 400000.0)\n",
    "\n",
    "fig.tight_layout()\n",
    "plt.show()\n"
   ]
  },
  {
   "cell_type": "markdown",
   "id": "b4ee9ed6",
   "metadata": {},
   "source": [
    "Courses and professional's certificates tend to be higher rated."
   ]
  },
  {
   "cell_type": "code",
   "execution_count": 126,
   "id": "909c69a4",
   "metadata": {},
   "outputs": [
    {
     "data": {
      "image/png": "[encoded data removed]",
      "text/plain": [
       "<Figure size 576x288 with 1 Axes>"
      ]
     },
     "metadata": {},
     "output_type": "display_data"
    }
   ],
   "source": [
    "\n",
    "fig = plt.figure(figsize=(8,4))\n",
    "sns.set(font_scale=1.5)\n",
    "sns.set(rc={'axes.facecolor':'whitesmoke'})\n",
    "\n",
    "sns.boxplot(x=df[\"rating\"], y=df[\"difficulty\"], color='lightblue')\n",
    "plt.title(\"Distribution of courses Difficulty based on ratings\")\n",
    "plt.xlabel(\"Ratings\")\n",
    "\n",
    "fig.tight_layout()\n",
    "plt.show()"
   ]
  },
  {
   "cell_type": "code",
   "execution_count": 127,
   "id": "bcf5193c",
   "metadata": {},
   "outputs": [
    {
     "data": {
      "image/png": "[encoded data removed]",
      "text/plain": [
       "<Figure size 576x288 with 1 Axes>"
      ]
     },
     "metadata": {},
     "output_type": "display_data"
    }
   ],
   "source": [
    "fig = plt.figure(figsize=(8,4))\n",
    "sns.set(font_scale=1.5)\n",
    "sns.set(rc={'axes.facecolor':'whitesmoke'})\n",
    "\n",
    "sns.boxplot(x=df[\"students_enrolled\"], y=df[\"difficulty\"], color='lightblue')\n",
    "plt.title(\"Distribution of courses difficulty based on students enrolled\")\n",
    "plt.xlabel(\"Ratings\")\n",
    "plt.xlim(0.0, 300000)\n",
    "\n",
    "fig.tight_layout()\n",
    "plt.show()"
   ]
  },
  {
   "cell_type": "code",
   "execution_count": 100,
   "id": "faaa91a2",
   "metadata": {},
   "outputs": [
    {
     "data": {
      "image/png": "[encoded data removed]",
      "text/plain": [
       "<Figure size 576x288 with 1 Axes>"
      ]
     },
     "metadata": {},
     "output_type": "display_data"
    }
   ],
   "source": [
    "fig = plt.figure(figsize=(8,4))\n",
    "sns.set(font_scale=1.5)\n",
    "sns.set(rc={'axes.facecolor':'whitesmoke'})\n",
    "\n",
    "sns.boxplot(x=df[\"students_enrolled\"], y=df[\"certificate_type\"], color='lightblue')\n",
    "plt.title(\"Distribution of courses difficulty based on students enrolled\")\n",
    "plt.xlabel(\"Ratings\")\n",
    "plt.xlim(0.0, 600000)\n",
    "\n",
    "fig.tight_layout()\n",
    "plt.show()"
   ]
  },
  {
   "cell_type": "markdown",
   "id": "42be16e2",
   "metadata": {},
   "source": [
    "# Relationship between difficulty and rating, rating and students_enrolled\n"
   ]
  },
  {
   "cell_type": "code",
   "execution_count": 101,
   "id": "2a317ad9",
   "metadata": {},
   "outputs": [
    {
     "data": {
      "text/plain": [
       "Text(0.5, 1.0, 'Correlation between ratings and students enrolled')"
      ]
     },
     "execution_count": 101,
     "metadata": {},
     "output_type": "execute_result"
    },
    {
     "data": {
      "image/png": "[encoded data removed]",
      "text/plain": [
       "<Figure size 360x360 with 2 Axes>"
      ]
     },
     "metadata": {},
     "output_type": "display_data"
    }
   ],
   "source": [
    "correlation = df.corr()\n",
    "correlation\n",
    "plt.figure(figsize=(5,5))\n",
    "sns.heatmap(correlation, annot=True, linewidths=.5).set_title('Features correlation')\n",
    "plt.title('Correlation between ratings and students enrolled')"
   ]
  },
  {
   "cell_type": "code",
   "execution_count": 102,
   "id": "71113996",
   "metadata": {},
   "outputs": [
    {
     "data": {
      "text/plain": [
       "Text(0.5, 1.0, 'Correlation between ratings and students enrolled')"
      ]
     },
     "execution_count": 102,
     "metadata": {},
     "output_type": "execute_result"
    },
    {
     "data": {
      "image/png": "[encoded data removed]",
      "text/plain": [
       "<Figure size 360x216 with 1 Axes>"
      ]
     },
     "metadata": {},
     "output_type": "display_data"
    }
   ],
   "source": [
    "# Let's go further visualizing correlation with a scatter plot\n",
    "\n",
    "y = np.array([df['rating']])\n",
    "x = np.array([df['students_enrolled']])\n",
    "\n",
    "plt.figure(figsize=(5,3))\n",
    "sns.scatterplot(data=df, x=\"students_enrolled\", y=\"rating\")\n",
    "plt.xlim(0, 300000)\n",
    "plt.xlabel(\"Students Enrolled\")\n",
    "plt.ylabel(\"Ratings\")\n",
    "plt.title('Correlation between ratings and students enrolled')"
   ]
  },
  {
   "cell_type": "markdown",
   "id": "af4a0fc3",
   "metadata": {},
   "source": [
    "The correlation between rating and students_enrolled is very low. The courses with higher number of students enrolled tend to have higher ratings."
   ]
  },
  {
   "cell_type": "code",
   "execution_count": null,
   "id": "04fcd182",
   "metadata": {},
   "outputs": [],
   "source": []
  },
  {
   "cell_type": "code",
   "execution_count": 103,
   "id": "096c3e48",
   "metadata": {},
   "outputs": [
    {
     "data": {
      "image/png": "[encoded data removed]",
      "text/plain": [
       "<Figure size 720x360 with 1 Axes>"
      ]
     },
     "metadata": {},
     "output_type": "display_data"
    }
   ],
   "source": [
    "hist_data = df['rating'].values\n",
    "\n",
    "fig = plt.figure(figsize=(10,5))\n",
    "\n",
    "sns.set(font_scale=1.5)\n",
    "sns.set(rc={'axes.facecolor':'whitesmoke'})\n",
    "sns.kdeplot(data=hist_data, color=\"lightblue\")\n",
    "\n",
    "plt.title(\"Density of Ratings\")\n",
    "plt.xlabel(\"Ratings\")\n",
    "\n",
    "fig.tight_layout()\n",
    "plt.show()"
   ]
  },
  {
   "cell_type": "markdown",
   "id": "fb82e8ea",
   "metadata": {},
   "source": [
    "## Courses Overview\n",
    "\n",
    "- Which courses has more students enrolled with higher ratings?"
   ]
  },
  {
   "cell_type": "code",
   "execution_count": 104,
   "id": "a938ad15",
   "metadata": {},
   "outputs": [
    {
     "data": {
      "text/html": [
       "<div>\n",
       "<style scoped>\n",
       "    .dataframe tbody tr th:only-of-type {\n",
       "        vertical-align: middle;\n",
       "    }\n",
       "\n",
       "    .dataframe tbody tr th {\n",
       "        vertical-align: top;\n",
       "    }\n",
       "\n",
       "    .dataframe thead th {\n",
       "        text-align: right;\n",
       "    }\n",
       "</style>\n",
       "<table border=\"1\" class=\"dataframe\">\n",
       "  <thead>\n",
       "    <tr style=\"text-align: right;\">\n",
       "      <th></th>\n",
       "      <th>title</th>\n",
       "      <th>organization</th>\n",
       "      <th>certificate_type</th>\n",
       "      <th>rating</th>\n",
       "      <th>difficulty</th>\n",
       "      <th>students_enrolled</th>\n",
       "    </tr>\n",
       "  </thead>\n",
       "  <tbody>\n",
       "    <tr>\n",
       "      <th>6</th>\n",
       "      <td>Machine Learning</td>\n",
       "      <td>Stanford University</td>\n",
       "      <td>Course</td>\n",
       "      <td>4.9</td>\n",
       "      <td>Mixed</td>\n",
       "      <td>3200000.0</td>\n",
       "    </tr>\n",
       "    <tr>\n",
       "      <th>2</th>\n",
       "      <td>The Science of Well-Being</td>\n",
       "      <td>Yale University</td>\n",
       "      <td>Course</td>\n",
       "      <td>4.9</td>\n",
       "      <td>Mixed</td>\n",
       "      <td>2500000.0</td>\n",
       "    </tr>\n",
       "    <tr>\n",
       "      <th>62</th>\n",
       "      <td>Neural Networks and Deep Learning</td>\n",
       "      <td>deeplearning.ai</td>\n",
       "      <td>Course</td>\n",
       "      <td>4.9</td>\n",
       "      <td>Intermediate</td>\n",
       "      <td>630000.0</td>\n",
       "    </tr>\n",
       "    <tr>\n",
       "      <th>111</th>\n",
       "      <td>Python Data Structures</td>\n",
       "      <td>University of Michigan</td>\n",
       "      <td>Course</td>\n",
       "      <td>4.9</td>\n",
       "      <td>Mixed</td>\n",
       "      <td>420000.0</td>\n",
       "    </tr>\n",
       "    <tr>\n",
       "      <th>113</th>\n",
       "      <td>First Step Korean</td>\n",
       "      <td>Yonsei University</td>\n",
       "      <td>Course</td>\n",
       "      <td>4.9</td>\n",
       "      <td>Beginner</td>\n",
       "      <td>400000.0</td>\n",
       "    </tr>\n",
       "    <tr>\n",
       "      <th>29</th>\n",
       "      <td>Introduction to Psychology</td>\n",
       "      <td>Yale University</td>\n",
       "      <td>Course</td>\n",
       "      <td>4.9</td>\n",
       "      <td>Beginner</td>\n",
       "      <td>270000.0</td>\n",
       "    </tr>\n",
       "    <tr>\n",
       "      <th>123</th>\n",
       "      <td>Improving Deep Neural Networks: Hyperparameter...</td>\n",
       "      <td>deeplearning.ai</td>\n",
       "      <td>Course</td>\n",
       "      <td>4.9</td>\n",
       "      <td>Beginner</td>\n",
       "      <td>270000.0</td>\n",
       "    </tr>\n",
       "    <tr>\n",
       "      <th>11</th>\n",
       "      <td>Excel Skills for Business</td>\n",
       "      <td>Macquarie University</td>\n",
       "      <td>Specialization</td>\n",
       "      <td>4.9</td>\n",
       "      <td>Beginner</td>\n",
       "      <td>240000.0</td>\n",
       "    </tr>\n",
       "    <tr>\n",
       "      <th>207</th>\n",
       "      <td>Convolutional Neural Networks</td>\n",
       "      <td>deeplearning.ai</td>\n",
       "      <td>Course</td>\n",
       "      <td>4.9</td>\n",
       "      <td>Intermediate</td>\n",
       "      <td>240000.0</td>\n",
       "    </tr>\n",
       "    <tr>\n",
       "      <th>21</th>\n",
       "      <td>COVID-19 Contact Tracing</td>\n",
       "      <td>Johns Hopkins University</td>\n",
       "      <td>Course</td>\n",
       "      <td>4.9</td>\n",
       "      <td>Beginner</td>\n",
       "      <td>220000.0</td>\n",
       "    </tr>\n",
       "  </tbody>\n",
       "</table>\n",
       "</div>"
      ],
      "text/plain": [
       "                                                 title  \\\n",
       "6                                     Machine Learning   \n",
       "2                            The Science of Well-Being   \n",
       "62                   Neural Networks and Deep Learning   \n",
       "111                             Python Data Structures   \n",
       "113                                  First Step Korean   \n",
       "29                          Introduction to Psychology   \n",
       "123  Improving Deep Neural Networks: Hyperparameter...   \n",
       "11                           Excel Skills for Business   \n",
       "207                      Convolutional Neural Networks   \n",
       "21                            COVID-19 Contact Tracing   \n",
       "\n",
       "                 organization certificate_type  rating    difficulty  \\\n",
       "6         Stanford University           Course     4.9         Mixed   \n",
       "2             Yale University           Course     4.9         Mixed   \n",
       "62            deeplearning.ai           Course     4.9  Intermediate   \n",
       "111    University of Michigan           Course     4.9         Mixed   \n",
       "113         Yonsei University           Course     4.9      Beginner   \n",
       "29            Yale University           Course     4.9      Beginner   \n",
       "123           deeplearning.ai           Course     4.9      Beginner   \n",
       "11       Macquarie University   Specialization     4.9      Beginner   \n",
       "207           deeplearning.ai           Course     4.9  Intermediate   \n",
       "21   Johns Hopkins University           Course     4.9      Beginner   \n",
       "\n",
       "     students_enrolled  \n",
       "6            3200000.0  \n",
       "2            2500000.0  \n",
       "62            630000.0  \n",
       "111           420000.0  \n",
       "113           400000.0  \n",
       "29            270000.0  \n",
       "123           270000.0  \n",
       "11            240000.0  \n",
       "207           240000.0  \n",
       "21            220000.0  "
      ]
     },
     "execution_count": 104,
     "metadata": {},
     "output_type": "execute_result"
    }
   ],
   "source": [
    "# Checking top courses as per higher number of students enrolled and highest ratings\n",
    "top_courses = df[df['rating'] >= 4.9].sort_values(by='students_enrolled', ascending=False).head(10)\n",
    "top_courses"
   ]
  },
  {
   "cell_type": "code",
   "execution_count": 105,
   "id": "399685c8",
   "metadata": {},
   "outputs": [
    {
     "data": {
      "text/plain": [
       "<matplotlib.legend.Legend at 0x7fba768a2b80>"
      ]
     },
     "execution_count": 105,
     "metadata": {},
     "output_type": "execute_result"
    },
    {
     "data": {
      "image/png": "[encoded data removed]",
      "text/plain": [
       "<Figure size 576x288 with 1 Axes>"
      ]
     },
     "metadata": {},
     "output_type": "display_data"
    }
   ],
   "source": [
    "# Visualizing certificates and difficulties level for the top 10 courses based on high ratings and max\n",
    "# number of students enrolled\n",
    "\n",
    "\n",
    "sns.set(rc={'figure.figsize':(8, 4), 'axes.facecolor':'whitesmoke',})\n",
    "sns.countplot(data=top_courses, \n",
    "              x='certificate_type', palette=\"pastel\",\n",
    "              hue='difficulty').set(title=\"Certificates Type and Difficulty count based on the top 10 courses\")\n",
    "\n",
    "# Place legend to the right\n",
    "plt.legend(loc='upper right')"
   ]
  },
  {
   "cell_type": "markdown",
   "id": "8acd9fae",
   "metadata": {},
   "source": [
    "The most rated courses with higher number of students enroll tend to be COURSES certificate type with a variety of difficulty levels, but mostly beginner courses. The only top specialization is for beginners."
   ]
  },
  {
   "cell_type": "code",
   "execution_count": 43,
   "id": "6e782592",
   "metadata": {},
   "outputs": [
    {
     "data": {
      "text/html": [
       "<div>\n",
       "<style scoped>\n",
       "    .dataframe tbody tr th:only-of-type {\n",
       "        vertical-align: middle;\n",
       "    }\n",
       "\n",
       "    .dataframe tbody tr th {\n",
       "        vertical-align: top;\n",
       "    }\n",
       "\n",
       "    .dataframe thead th {\n",
       "        text-align: right;\n",
       "    }\n",
       "</style>\n",
       "<table border=\"1\" class=\"dataframe\">\n",
       "  <thead>\n",
       "    <tr style=\"text-align: right;\">\n",
       "      <th></th>\n",
       "      <th>title</th>\n",
       "      <th>organization</th>\n",
       "      <th>certificate_type</th>\n",
       "      <th>rating</th>\n",
       "      <th>difficulty</th>\n",
       "      <th>students_enrolled</th>\n",
       "    </tr>\n",
       "  </thead>\n",
       "  <tbody>\n",
       "    <tr>\n",
       "      <th>6</th>\n",
       "      <td>Machine Learning</td>\n",
       "      <td>Stanford University</td>\n",
       "      <td>COURSE</td>\n",
       "      <td>4.9</td>\n",
       "      <td>Mixed</td>\n",
       "      <td>3200000.0</td>\n",
       "    </tr>\n",
       "    <tr>\n",
       "      <th>2</th>\n",
       "      <td>The Science of Well-Being</td>\n",
       "      <td>Yale University</td>\n",
       "      <td>COURSE</td>\n",
       "      <td>4.9</td>\n",
       "      <td>Mixed</td>\n",
       "      <td>2500000.0</td>\n",
       "    </tr>\n",
       "    <tr>\n",
       "      <th>3</th>\n",
       "      <td>Python for Everybody</td>\n",
       "      <td>University of Michigan</td>\n",
       "      <td>SPECIALIZATION</td>\n",
       "      <td>4.8</td>\n",
       "      <td>Beginner</td>\n",
       "      <td>1500000.0</td>\n",
       "    </tr>\n",
       "    <tr>\n",
       "      <th>47</th>\n",
       "      <td>Programming for Everybody (Getting Started wit...</td>\n",
       "      <td>University of Michigan</td>\n",
       "      <td>COURSE</td>\n",
       "      <td>4.8</td>\n",
       "      <td>Mixed</td>\n",
       "      <td>1300000.0</td>\n",
       "    </tr>\n",
       "    <tr>\n",
       "      <th>13</th>\n",
       "      <td>Data Science</td>\n",
       "      <td>Johns Hopkins University</td>\n",
       "      <td>SPECIALIZATION</td>\n",
       "      <td>4.5</td>\n",
       "      <td>Beginner</td>\n",
       "      <td>830000.0</td>\n",
       "    </tr>\n",
       "    <tr>\n",
       "      <th>44</th>\n",
       "      <td>Career Success</td>\n",
       "      <td>University of California, Irvine</td>\n",
       "      <td>SPECIALIZATION</td>\n",
       "      <td>4.4</td>\n",
       "      <td>Beginner</td>\n",
       "      <td>790000.0</td>\n",
       "    </tr>\n",
       "    <tr>\n",
       "      <th>175</th>\n",
       "      <td>English for Career Development</td>\n",
       "      <td>University of Pennsylvania</td>\n",
       "      <td>COURSE</td>\n",
       "      <td>4.8</td>\n",
       "      <td>Mixed</td>\n",
       "      <td>760000.0</td>\n",
       "    </tr>\n",
       "    <tr>\n",
       "      <th>40</th>\n",
       "      <td>Successful Negotiation: Essential Strategies a...</td>\n",
       "      <td>University of Michigan</td>\n",
       "      <td>COURSE</td>\n",
       "      <td>4.8</td>\n",
       "      <td>Mixed</td>\n",
       "      <td>750000.0</td>\n",
       "    </tr>\n",
       "    <tr>\n",
       "      <th>15</th>\n",
       "      <td>Data Science: Foundations using R</td>\n",
       "      <td>Johns Hopkins University</td>\n",
       "      <td>SPECIALIZATION</td>\n",
       "      <td>4.6</td>\n",
       "      <td>Beginner</td>\n",
       "      <td>740000.0</td>\n",
       "    </tr>\n",
       "    <tr>\n",
       "      <th>5</th>\n",
       "      <td>Deep Learning</td>\n",
       "      <td>deeplearning.ai</td>\n",
       "      <td>SPECIALIZATION</td>\n",
       "      <td>4.8</td>\n",
       "      <td>Intermediate</td>\n",
       "      <td>690000.0</td>\n",
       "    </tr>\n",
       "  </tbody>\n",
       "</table>\n",
       "</div>"
      ],
      "text/plain": [
       "                                                 title  \\\n",
       "6                                     Machine Learning   \n",
       "2                            The Science of Well-Being   \n",
       "3                                 Python for Everybody   \n",
       "47   Programming for Everybody (Getting Started wit...   \n",
       "13                                        Data Science   \n",
       "44                                      Career Success   \n",
       "175                     English for Career Development   \n",
       "40   Successful Negotiation: Essential Strategies a...   \n",
       "15                   Data Science: Foundations using R   \n",
       "5                                        Deep Learning   \n",
       "\n",
       "                         organization certificate_type  rating    difficulty  \\\n",
       "6                 Stanford University           COURSE     4.9         Mixed   \n",
       "2                     Yale University           COURSE     4.9         Mixed   \n",
       "3              University of Michigan   SPECIALIZATION     4.8      Beginner   \n",
       "47             University of Michigan           COURSE     4.8         Mixed   \n",
       "13           Johns Hopkins University   SPECIALIZATION     4.5      Beginner   \n",
       "44   University of California, Irvine   SPECIALIZATION     4.4      Beginner   \n",
       "175        University of Pennsylvania           COURSE     4.8         Mixed   \n",
       "40             University of Michigan           COURSE     4.8         Mixed   \n",
       "15           Johns Hopkins University   SPECIALIZATION     4.6      Beginner   \n",
       "5                     deeplearning.ai   SPECIALIZATION     4.8  Intermediate   \n",
       "\n",
       "     students_enrolled  \n",
       "6            3200000.0  \n",
       "2            2500000.0  \n",
       "3            1500000.0  \n",
       "47           1300000.0  \n",
       "13            830000.0  \n",
       "44            790000.0  \n",
       "175           760000.0  \n",
       "40            750000.0  \n",
       "15            740000.0  \n",
       "5             690000.0  "
      ]
     },
     "execution_count": 43,
     "metadata": {},
     "output_type": "execute_result"
    }
   ],
   "source": [
    "# What courses has the most students enrolled?\n",
    "top_courses_num_students = df[df['students_enrolled'] >= 100000].sort_values(by='students_enrolled', \n",
    "                                                                             ascending=False).head(10)\n",
    "top_courses_num_students"
   ]
  },
  {
   "cell_type": "code",
   "execution_count": 46,
   "id": "261c534a",
   "metadata": {},
   "outputs": [
    {
     "data": {
      "text/plain": [
       "<matplotlib.legend.Legend at 0x7fb652d02a90>"
      ]
     },
     "execution_count": 46,
     "metadata": {},
     "output_type": "execute_result"
    },
    {
     "data": {
      "image/png": "[encoded data removed]",
      "text/plain": [
       "<Figure size 576x288 with 1 Axes>"
      ]
     },
     "metadata": {},
     "output_type": "display_data"
    }
   ],
   "source": [
    "# Visualizing certificates and difficulties level for the top 10 courses based on max\n",
    "# number of students enrolled\n",
    "\n",
    "sns.set(rc={'figure.figsize':(8, 4), 'axes.facecolor':'whitesmoke',})\n",
    "sns.countplot(data=top_courses_num_students, \n",
    "              x='certificate_type', palette=\"pastel\",\n",
    "              hue='difficulty').set(title=\"Certificates Type and difficulty based on the top 10 courses by students enrolled\")\n",
    "\n",
    "# Place legend to the right\n",
    "plt.legend(loc='upper right', bbox_to_anchor=(1.2, 1.0))"
   ]
  },
  {
   "cell_type": "markdown",
   "id": "60c06173",
   "metadata": {},
   "source": [
    "## Certificate & Difficulty overview\n",
    "\n",
    "- Which type of certificate is more popular?\n",
    "- Which type of certificate students tend to enroll to?\n",
    "\n",
    "\n",
    "- How is the difficulty relevant?\n",
    "- How many types of certificates are there"
   ]
  },
  {
   "cell_type": "code",
   "execution_count": 45,
   "id": "298b927c",
   "metadata": {},
   "outputs": [
    {
     "data": {
      "text/plain": [
       "COURSE                      582\n",
       "SPECIALIZATION              297\n",
       "PROFESSIONAL CERTIFICATE     12\n",
       "Name: certificate_type, dtype: Int64"
      ]
     },
     "execution_count": 45,
     "metadata": {},
     "output_type": "execute_result"
    }
   ],
   "source": [
    "# Let's get some insights from each certificate type and difficulty levels\n",
    "\n",
    "# average ratings per certificate type\n",
    "# average students enrolled per certificate type\n",
    "\n",
    "certificate_count = df['certificate_type'].value_counts()\n",
    "difficulty_count = df['difficulty'].value_counts()\n",
    "certificate_count"
   ]
  },
  {
   "cell_type": "markdown",
   "id": "921f139d",
   "metadata": {},
   "source": [
    "We can see that the most popular certifications are the Courses types and most of them are beginner friendly\n",
    "but also we can observe a high amount of mixed difficulty level.\n",
    "\n",
    "All the Professional certificates are for beginners meanwhile specializations are for beginners or \n",
    "for intermediate students. Only a minority are advanced level."
   ]
  },
  {
   "cell_type": "markdown",
   "id": "4fa58de0",
   "metadata": {},
   "source": [
    "## Organizations overview\n",
    "\n",
    "- How many organizations are doing courses?\n",
    "- What organizations have more courses? and which ones less?\n",
    "- How many courses of each certificate type have each organization?\n",
    "- What's the average rating per organization and which organization have the highest \n",
    "ratings average and more students enrolled? Which one has the lowest students enrolled and have the highest ratings?\n",
    "- Which are the TOP 10 organizations?\n",
    "- Which organizations has more students enrolled?"
   ]
  },
  {
   "cell_type": "code",
   "execution_count": 345,
   "id": "df1c46c8",
   "metadata": {},
   "outputs": [
    {
     "name": "stdout",
     "output_type": "stream",
     "text": [
      " There's 154 organizations that has courses in Coursera\n"
     ]
    }
   ],
   "source": [
    "# How many organizations has courses on Coursera?\n",
    "\n",
    "print(f\" There's {len(df['organization'].unique())} organizations that has courses in Coursera\")"
   ]
  },
  {
   "cell_type": "code",
   "execution_count": 346,
   "id": "c9279f4e",
   "metadata": {},
   "outputs": [
    {
     "data": {
      "text/plain": [
       "University of Pennsylvania                      59\n",
       "University of Michigan                          41\n",
       "Google Cloud                                    34\n",
       "Duke University                                 28\n",
       "Johns Hopkins University                        28\n",
       "                                                ..\n",
       "Bloomsbury Learning Exchange                     1\n",
       "JetBrains                                        1\n",
       "Nanyang Technological University, Singapore      1\n",
       "Royal Holloway, University of London             1\n",
       "American Institute of Business and Economics     1\n",
       "Name: organization, Length: 154, dtype: Int64"
      ]
     },
     "execution_count": 346,
     "metadata": {},
     "output_type": "execute_result"
    }
   ],
   "source": [
    "# What organizations has courses on Coursera\n",
    "\n",
    "org_courses = df['organization'].value_counts().sort_values(ascending=False)\n",
    "org_courses\n"
   ]
  },
  {
   "cell_type": "code",
   "execution_count": 347,
   "id": "247aca8f",
   "metadata": {},
   "outputs": [
    {
     "data": {
      "image/png": "[encoded data removed]",
      "text/plain": [
       "<Figure size 360x360 with 1 Axes>"
      ]
     },
     "metadata": {},
     "output_type": "display_data"
    }
   ],
   "source": [
    "# Let's quick check how the data is distributed with a box plot\n",
    "plt.figure(figsize=(5, 5))\n",
    "plt.boxplot(org_courses)\n",
    "plt.ylabel('# Number of courses per organization')\n",
    "plt.show()"
   ]
  },
  {
   "cell_type": "markdown",
   "id": "91c5f756",
   "metadata": {},
   "source": [
    "Most of the organizations has less than 15 courses in Coursera."
   ]
  },
  {
   "cell_type": "code",
   "execution_count": 348,
   "id": "91d355e8",
   "metadata": {},
   "outputs": [
    {
     "data": {
      "text/html": [
       "<div>\n",
       "<style scoped>\n",
       "    .dataframe tbody tr th:only-of-type {\n",
       "        vertical-align: middle;\n",
       "    }\n",
       "\n",
       "    .dataframe tbody tr th {\n",
       "        vertical-align: top;\n",
       "    }\n",
       "\n",
       "    .dataframe thead th {\n",
       "        text-align: right;\n",
       "    }\n",
       "</style>\n",
       "<table border=\"1\" class=\"dataframe\">\n",
       "  <thead>\n",
       "    <tr style=\"text-align: right;\">\n",
       "      <th></th>\n",
       "      <th>rating</th>\n",
       "      <th>students_enrolled</th>\n",
       "    </tr>\n",
       "    <tr>\n",
       "      <th>organization</th>\n",
       "      <th></th>\n",
       "      <th></th>\n",
       "    </tr>\n",
       "  </thead>\n",
       "  <tbody>\n",
       "    <tr>\n",
       "      <th>Stanford University</th>\n",
       "      <td>4.768750</td>\n",
       "      <td>303375.000000</td>\n",
       "    </tr>\n",
       "    <tr>\n",
       "      <th>Yale University</th>\n",
       "      <td>4.817647</td>\n",
       "      <td>232470.588235</td>\n",
       "    </tr>\n",
       "    <tr>\n",
       "      <th>McMaster University</th>\n",
       "      <td>4.800000</td>\n",
       "      <td>230000.000000</td>\n",
       "    </tr>\n",
       "    <tr>\n",
       "      <th>Google - Spectrum Sharing</th>\n",
       "      <td>4.900000</td>\n",
       "      <td>210000.000000</td>\n",
       "    </tr>\n",
       "    <tr>\n",
       "      <th>Ludwig-Maximilians-Universität München (LMU)</th>\n",
       "      <td>4.750000</td>\n",
       "      <td>192500.000000</td>\n",
       "    </tr>\n",
       "    <tr>\n",
       "      <th>École Polytechnique</th>\n",
       "      <td>4.800000</td>\n",
       "      <td>190000.000000</td>\n",
       "    </tr>\n",
       "    <tr>\n",
       "      <th>University of Michigan</th>\n",
       "      <td>4.729268</td>\n",
       "      <td>181407.317073</td>\n",
       "    </tr>\n",
       "    <tr>\n",
       "      <th>deeplearning.ai</th>\n",
       "      <td>4.743750</td>\n",
       "      <td>178962.500000</td>\n",
       "    </tr>\n",
       "    <tr>\n",
       "      <th>Yonsei University</th>\n",
       "      <td>4.750000</td>\n",
       "      <td>140750.000000</td>\n",
       "    </tr>\n",
       "    <tr>\n",
       "      <th>The Museum of Modern Art</th>\n",
       "      <td>4.783333</td>\n",
       "      <td>133166.666667</td>\n",
       "    </tr>\n",
       "  </tbody>\n",
       "</table>\n",
       "</div>"
      ],
      "text/plain": [
       "                                                rating  students_enrolled\n",
       "organization                                                             \n",
       "Stanford University                           4.768750      303375.000000\n",
       "Yale University                               4.817647      232470.588235\n",
       "McMaster University                           4.800000      230000.000000\n",
       "Google - Spectrum Sharing                     4.900000      210000.000000\n",
       "Ludwig-Maximilians-Universität München (LMU)  4.750000      192500.000000\n",
       "École Polytechnique                           4.800000      190000.000000\n",
       "University of Michigan                        4.729268      181407.317073\n",
       "deeplearning.ai                               4.743750      178962.500000\n",
       "Yonsei University                             4.750000      140750.000000\n",
       "The Museum of Modern Art                      4.783333      133166.666667"
      ]
     },
     "execution_count": 348,
     "metadata": {},
     "output_type": "execute_result"
    }
   ],
   "source": [
    "# Finding out the top 10 organizations, which I will consider those with higher number of students\n",
    "# and high ratings based on the students enrolled\n",
    "top_10_organizations = df[['organization', 'rating', 'students_enrolled']].groupby('organization').mean().sort_values(by=['students_enrolled'],ascending = [False])\n",
    "# Let's select only those with ratings above 4.7\n",
    "top_10_organizations = top_10_organizations.loc[top_10_organizations.rating >= 4.7].head(10)\n",
    "top_10_organizations"
   ]
  },
  {
   "cell_type": "code",
   "execution_count": 40,
   "id": "53d7239f",
   "metadata": {},
   "outputs": [
    {
     "data": {
      "text/html": [
       "<div>\n",
       "<style scoped>\n",
       "    .dataframe tbody tr th:only-of-type {\n",
       "        vertical-align: middle;\n",
       "    }\n",
       "\n",
       "    .dataframe tbody tr th {\n",
       "        vertical-align: top;\n",
       "    }\n",
       "\n",
       "    .dataframe thead th {\n",
       "        text-align: right;\n",
       "    }\n",
       "</style>\n",
       "<table border=\"1\" class=\"dataframe\">\n",
       "  <thead>\n",
       "    <tr style=\"text-align: right;\">\n",
       "      <th></th>\n",
       "      <th>rating</th>\n",
       "      <th>students_enrolled</th>\n",
       "    </tr>\n",
       "  </thead>\n",
       "  <tbody>\n",
       "    <tr>\n",
       "      <th>count</th>\n",
       "      <td>10.000000</td>\n",
       "      <td>10.000000</td>\n",
       "    </tr>\n",
       "    <tr>\n",
       "      <th>mean</th>\n",
       "      <td>4.784275</td>\n",
       "      <td>199263.207198</td>\n",
       "    </tr>\n",
       "    <tr>\n",
       "      <th>std</th>\n",
       "      <td>0.049733</td>\n",
       "      <td>49054.473460</td>\n",
       "    </tr>\n",
       "    <tr>\n",
       "      <th>min</th>\n",
       "      <td>4.729268</td>\n",
       "      <td>133166.666667</td>\n",
       "    </tr>\n",
       "    <tr>\n",
       "      <th>25%</th>\n",
       "      <td>4.750000</td>\n",
       "      <td>179573.704268</td>\n",
       "    </tr>\n",
       "    <tr>\n",
       "      <th>50%</th>\n",
       "      <td>4.776042</td>\n",
       "      <td>191250.000000</td>\n",
       "    </tr>\n",
       "    <tr>\n",
       "      <th>75%</th>\n",
       "      <td>4.800000</td>\n",
       "      <td>225000.000000</td>\n",
       "    </tr>\n",
       "    <tr>\n",
       "      <th>max</th>\n",
       "      <td>4.900000</td>\n",
       "      <td>303375.000000</td>\n",
       "    </tr>\n",
       "  </tbody>\n",
       "</table>\n",
       "</div>"
      ],
      "text/plain": [
       "          rating  students_enrolled\n",
       "count  10.000000          10.000000\n",
       "mean    4.784275      199263.207198\n",
       "std     0.049733       49054.473460\n",
       "min     4.729268      133166.666667\n",
       "25%     4.750000      179573.704268\n",
       "50%     4.776042      191250.000000\n",
       "75%     4.800000      225000.000000\n",
       "max     4.900000      303375.000000"
      ]
     },
     "execution_count": 40,
     "metadata": {},
     "output_type": "execute_result"
    }
   ],
   "source": [
    "top_10_organizations.describe()"
   ]
  },
  {
   "cell_type": "markdown",
   "id": "ac89e9de",
   "metadata": {},
   "source": [
    "The least popular courses are the professional certificates. "
   ]
  },
  {
   "cell_type": "code",
   "execution_count": 54,
   "id": "9caeea8f",
   "metadata": {},
   "outputs": [],
   "source": [
    "# How I would have improved my code?\n",
    "# By requesting the courses prices and see if the price affects the students enrolled and the ratings behavior. "
   ]
  },
  {
   "cell_type": "code",
   "execution_count": null,
   "id": "44364135",
   "metadata": {},
   "outputs": [],
   "source": []
  }
 ],
 "metadata": {
  "kernelspec": {
   "display_name": "Python 3 (ipykernel)",
   "language": "python",
   "name": "python3"
  },
  "language_info": {
   "codemirror_mode": {
    "name": "ipython",
    "version": 3
   },
   "file_extension": ".py",
   "mimetype": "text/x-python",
   "name": "python",
   "nbconvert_exporter": "python",
   "pygments_lexer": "ipython3",
   "version": "3.9.12"
  }
 },
 "nbformat": 4,
 "nbformat_minor": 5
}
