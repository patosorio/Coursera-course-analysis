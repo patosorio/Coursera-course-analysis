{
 "cells": [
  {
   "cell_type": "markdown",
   "id": "7d63b94c",
   "metadata": {},
   "source": [
    "# Coursera courses analysis"
   ]
  },
  {
   "cell_type": "markdown",
   "id": "432b9f2e",
   "metadata": {},
   "source": [
    "In this analysis, we explore the Coursera courses dataset to gain insights into the types of courses and certificates offered, as well as the quality of courses provided by different organizations. Specifically, we seek to understand whether Coursera is a platform that caters primarily to advanced students or if it is better suited to individuals seeking introductory or intermediate-level content. Through our analysis, we aim to provide a comprehensive picture of Coursera as a platform and its value for learners of different levels."
   ]
  },
  {
   "cell_type": "code",
   "execution_count": 240,
   "id": "b9070aba",
   "metadata": {},
   "outputs": [
    {
     "data": {
      "text/html": [
       "<div>\n",
       "<style scoped>\n",
       "    .dataframe tbody tr th:only-of-type {\n",
       "        vertical-align: middle;\n",
       "    }\n",
       "\n",
       "    .dataframe tbody tr th {\n",
       "        vertical-align: top;\n",
       "    }\n",
       "\n",
       "    .dataframe thead th {\n",
       "        text-align: right;\n",
       "    }\n",
       "</style>\n",
       "<table border=\"1\" class=\"dataframe\">\n",
       "  <thead>\n",
       "    <tr style=\"text-align: right;\">\n",
       "      <th></th>\n",
       "      <th>course_title</th>\n",
       "      <th>course_organization</th>\n",
       "      <th>course_Certificate_type</th>\n",
       "      <th>course_rating</th>\n",
       "      <th>course_difficulty</th>\n",
       "      <th>course_students_enrolled</th>\n",
       "    </tr>\n",
       "  </thead>\n",
       "  <tbody>\n",
       "    <tr>\n",
       "      <th>0</th>\n",
       "      <td>IBM Data Science</td>\n",
       "      <td>IBM</td>\n",
       "      <td>PROFESSIONAL CERTIFICATE</td>\n",
       "      <td>4.6</td>\n",
       "      <td>Beginner</td>\n",
       "      <td>480k</td>\n",
       "    </tr>\n",
       "    <tr>\n",
       "      <th>1</th>\n",
       "      <td>Introduction to Data Science</td>\n",
       "      <td>IBM</td>\n",
       "      <td>SPECIALIZATION</td>\n",
       "      <td>4.6</td>\n",
       "      <td>Beginner</td>\n",
       "      <td>310k</td>\n",
       "    </tr>\n",
       "    <tr>\n",
       "      <th>2</th>\n",
       "      <td>The Science of Well-Being</td>\n",
       "      <td>Yale University</td>\n",
       "      <td>COURSE</td>\n",
       "      <td>4.9</td>\n",
       "      <td>Mixed</td>\n",
       "      <td>2.5m</td>\n",
       "    </tr>\n",
       "    <tr>\n",
       "      <th>3</th>\n",
       "      <td>Python for Everybody</td>\n",
       "      <td>University of Michigan</td>\n",
       "      <td>SPECIALIZATION</td>\n",
       "      <td>4.8</td>\n",
       "      <td>Beginner</td>\n",
       "      <td>1.5m</td>\n",
       "    </tr>\n",
       "    <tr>\n",
       "      <th>4</th>\n",
       "      <td>Google IT Support</td>\n",
       "      <td>Google</td>\n",
       "      <td>PROFESSIONAL CERTIFICATE</td>\n",
       "      <td>4.8</td>\n",
       "      <td>Beginner</td>\n",
       "      <td>350k</td>\n",
       "    </tr>\n",
       "  </tbody>\n",
       "</table>\n",
       "</div>"
      ],
      "text/plain": [
       "                   course_title     course_organization  \\\n",
       "0              IBM Data Science                     IBM   \n",
       "1  Introduction to Data Science                     IBM   \n",
       "2     The Science of Well-Being         Yale University   \n",
       "3          Python for Everybody  University of Michigan   \n",
       "4             Google IT Support                  Google   \n",
       "\n",
       "    course_Certificate_type  course_rating course_difficulty  \\\n",
       "0  PROFESSIONAL CERTIFICATE            4.6          Beginner   \n",
       "1            SPECIALIZATION            4.6          Beginner   \n",
       "2                    COURSE            4.9             Mixed   \n",
       "3            SPECIALIZATION            4.8          Beginner   \n",
       "4  PROFESSIONAL CERTIFICATE            4.8          Beginner   \n",
       "\n",
       "  course_students_enrolled  \n",
       "0                     480k  \n",
       "1                     310k  \n",
       "2                     2.5m  \n",
       "3                     1.5m  \n",
       "4                     350k  "
      ]
     },
     "execution_count": 240,
     "metadata": {},
     "output_type": "execute_result"
    }
   ],
   "source": [
    "# Importing libraries and dataset from Coursera Courses\n",
    "\n",
    "import pandas as pd\n",
    "import numpy as np\n",
    "import matplotlib.pyplot as plt\n",
    "import timeit\n",
    "import seaborn as sns\n",
    "\n",
    "df = pd.read_csv('sample_data/coursea_data.csv', index_col=0).sort_index()\n",
    "df.head()"
   ]
  },
  {
   "cell_type": "markdown",
   "id": "6b0c9dbd",
   "metadata": {},
   "source": [
    "### Cleaning data"
   ]
  },
  {
   "cell_type": "code",
   "execution_count": 252,
   "id": "47870b96",
   "metadata": {},
   "outputs": [
    {
     "data": {
      "text/plain": [
       "Index(['title', 'organization', 'certificate_type', 'rating', 'difficulty',\n",
       "       'students_enrolled'],\n",
       "      dtype='object')"
      ]
     },
     "execution_count": 252,
     "metadata": {},
     "output_type": "execute_result"
    }
   ],
   "source": [
    "# Tidying up dataset column names by removing course since we already defined that this is a coursera \n",
    "# course dataset.\n",
    "\n",
    "df.columns = df.columns.str.replace('course_', '').str.lower()\n",
    "df.columns"
   ]
  },
  {
   "cell_type": "code",
   "execution_count": 242,
   "id": "761657e1",
   "metadata": {},
   "outputs": [
    {
     "name": "stdout",
     "output_type": "stream",
     "text": [
      "This dataset has 891 observations and 6 features.\n"
     ]
    }
   ],
   "source": [
    "print(f'This dataset has {df.shape[0]} observations and {df.shape[1]} features.')"
   ]
  },
  {
   "cell_type": "code",
   "execution_count": 243,
   "id": "96797c26",
   "metadata": {},
   "outputs": [
    {
     "data": {
      "text/plain": [
       "title                False\n",
       "organization         False\n",
       "certificate_type     False\n",
       "rating               False\n",
       "difficulty           False\n",
       "students_enrolled    False\n",
       "dtype: bool"
      ]
     },
     "execution_count": 243,
     "metadata": {},
     "output_type": "execute_result"
    }
   ],
   "source": [
    "# Checking if there is any empty value in the dataset\n",
    "df.isnull().any()"
   ]
  },
  {
   "cell_type": "code",
   "execution_count": 244,
   "id": "6f20b196",
   "metadata": {},
   "outputs": [
    {
     "data": {
      "text/plain": [
       "False"
      ]
     },
     "execution_count": 244,
     "metadata": {},
     "output_type": "execute_result"
    }
   ],
   "source": [
    "# Checking if there is any duplicated in the dataset\n",
    "df.duplicated().any()"
   ]
  },
  {
   "cell_type": "code",
   "execution_count": 245,
   "id": "7b203ed7",
   "metadata": {},
   "outputs": [
    {
     "data": {
      "text/plain": [
       "title                 object\n",
       "organization          object\n",
       "certificate_type      object\n",
       "rating               float64\n",
       "difficulty            object\n",
       "students_enrolled     object\n",
       "dtype: object"
      ]
     },
     "execution_count": 245,
     "metadata": {},
     "output_type": "execute_result"
    }
   ],
   "source": [
    "# Checking each feature datatype to adjust if needed\n",
    "df.dtypes"
   ]
  },
  {
   "cell_type": "code",
   "execution_count": 246,
   "id": "fdd5665e",
   "metadata": {},
   "outputs": [
    {
     "data": {
      "text/plain": [
       "title                 string\n",
       "organization          string\n",
       "certificate_type      string\n",
       "rating               float64\n",
       "difficulty            string\n",
       "students_enrolled     object\n",
       "dtype: object"
      ]
     },
     "execution_count": 246,
     "metadata": {},
     "output_type": "execute_result"
    }
   ],
   "source": [
    "# Most of the columns might have mixed data types. We will work with string datatype for the\n",
    "# storing columns: title, organization, certificate_type and course difficuly.\n",
    "# for the rating and students_enrolled column we need them as floats.\n",
    "\n",
    "df = df.astype({\"title\": 'string', \"organization\": 'string', \"certificate_type\": 'string', \"difficulty\": 'string'})\n",
    "df.dtypes"
   ]
  },
  {
   "cell_type": "code",
   "execution_count": 247,
   "id": "e388b40a",
   "metadata": {},
   "outputs": [
    {
     "data": {
      "text/plain": [
       "<StringArray>\n",
       "['Beginner', 'Mixed', 'Intermediate', 'Advanced']\n",
       "Length: 4, dtype: string"
      ]
     },
     "execution_count": 247,
     "metadata": {},
     "output_type": "execute_result"
    }
   ],
   "source": [
    "# Exploring Certificate_type and course_difficulty column to assure there's not wrong values\n",
    "df['difficulty'].unique()"
   ]
  },
  {
   "cell_type": "code",
   "execution_count": 248,
   "id": "bdd0b1bb",
   "metadata": {},
   "outputs": [
    {
     "data": {
      "text/plain": [
       "<StringArray>\n",
       "['Professional Certificate', 'Specialization', 'Course']\n",
       "Length: 3, dtype: string"
      ]
     },
     "execution_count": 248,
     "metadata": {},
     "output_type": "execute_result"
    }
   ],
   "source": [
    "df.certificate_type = df.certificate_type.str.title()\n",
    "df['certificate_type'].unique()"
   ]
  },
  {
   "cell_type": "code",
   "execution_count": 249,
   "id": "c1475de7",
   "metadata": {},
   "outputs": [
    {
     "data": {
      "text/plain": [
       "0      480k\n",
       "1      310k\n",
       "2      2.5m\n",
       "3      1.5m\n",
       "4      350k\n",
       "       ... \n",
       "886     11k\n",
       "887     33k\n",
       "888    6.6k\n",
       "889     45k\n",
       "890    6.4k\n",
       "Name: students_enrolled, Length: 891, dtype: object"
      ]
     },
     "execution_count": 249,
     "metadata": {},
     "output_type": "execute_result"
    }
   ],
   "source": [
    "# Exploring students_enrolled column to convert all to floats\n",
    "df['students_enrolled']"
   ]
  },
  {
   "cell_type": "code",
   "execution_count": 250,
   "id": "4618e359",
   "metadata": {},
   "outputs": [
    {
     "data": {
      "text/plain": [
       "0       480000.0\n",
       "1       310000.0\n",
       "2      2500000.0\n",
       "3      1500000.0\n",
       "4       350000.0\n",
       "         ...    \n",
       "886      11000.0\n",
       "887      33000.0\n",
       "888       6600.0\n",
       "889      45000.0\n",
       "890       6400.0\n",
       "Name: students_enrolled, Length: 891, dtype: float64"
      ]
     },
     "execution_count": 250,
     "metadata": {},
     "output_type": "execute_result"
    }
   ],
   "source": [
    "# Function that takes number of students enrolled variable and check's if there's an m or a x and if there is \n",
    "# converts the value to digit\n",
    "def value_to_float(x):\n",
    "    if type(x) == float or type(x) == int:\n",
    "        return x\n",
    "    if 'm' in x:\n",
    "        if len(x) > 1:\n",
    "            return float(x.replace('m', '')) * 1000000\n",
    "        return 1000000.0\n",
    "    if 'k' in x:\n",
    "        if len(x) > 1:\n",
    "            return float(x.replace('k', '')) * 1000\n",
    "        return 1000.0\n",
    "\n",
    "\n",
    "# Applying the function to the students enrolled column.\n",
    "df['students_enrolled'] = df['students_enrolled'].apply(value_to_float)\n",
    "df['students_enrolled']"
   ]
  },
  {
   "cell_type": "code",
   "execution_count": 251,
   "id": "c647bc2d",
   "metadata": {},
   "outputs": [
    {
     "data": {
      "text/html": [
       "<div>\n",
       "<style scoped>\n",
       "    .dataframe tbody tr th:only-of-type {\n",
       "        vertical-align: middle;\n",
       "    }\n",
       "\n",
       "    .dataframe tbody tr th {\n",
       "        vertical-align: top;\n",
       "    }\n",
       "\n",
       "    .dataframe thead th {\n",
       "        text-align: right;\n",
       "    }\n",
       "</style>\n",
       "<table border=\"1\" class=\"dataframe\">\n",
       "  <thead>\n",
       "    <tr style=\"text-align: right;\">\n",
       "      <th></th>\n",
       "      <th>title</th>\n",
       "      <th>organization</th>\n",
       "      <th>certificate_type</th>\n",
       "      <th>rating</th>\n",
       "      <th>difficulty</th>\n",
       "      <th>students_enrolled</th>\n",
       "    </tr>\n",
       "  </thead>\n",
       "  <tbody>\n",
       "    <tr>\n",
       "      <th>0</th>\n",
       "      <td>IBM Data Science</td>\n",
       "      <td>IBM</td>\n",
       "      <td>Professional Certificate</td>\n",
       "      <td>4.6</td>\n",
       "      <td>Beginner</td>\n",
       "      <td>480000.0</td>\n",
       "    </tr>\n",
       "    <tr>\n",
       "      <th>1</th>\n",
       "      <td>Introduction to Data Science</td>\n",
       "      <td>IBM</td>\n",
       "      <td>Specialization</td>\n",
       "      <td>4.6</td>\n",
       "      <td>Beginner</td>\n",
       "      <td>310000.0</td>\n",
       "    </tr>\n",
       "    <tr>\n",
       "      <th>2</th>\n",
       "      <td>The Science of Well-Being</td>\n",
       "      <td>Yale University</td>\n",
       "      <td>Course</td>\n",
       "      <td>4.9</td>\n",
       "      <td>Mixed</td>\n",
       "      <td>2500000.0</td>\n",
       "    </tr>\n",
       "    <tr>\n",
       "      <th>3</th>\n",
       "      <td>Python for Everybody</td>\n",
       "      <td>University of Michigan</td>\n",
       "      <td>Specialization</td>\n",
       "      <td>4.8</td>\n",
       "      <td>Beginner</td>\n",
       "      <td>1500000.0</td>\n",
       "    </tr>\n",
       "    <tr>\n",
       "      <th>4</th>\n",
       "      <td>Google IT Support</td>\n",
       "      <td>Google</td>\n",
       "      <td>Professional Certificate</td>\n",
       "      <td>4.8</td>\n",
       "      <td>Beginner</td>\n",
       "      <td>350000.0</td>\n",
       "    </tr>\n",
       "  </tbody>\n",
       "</table>\n",
       "</div>"
      ],
      "text/plain": [
       "                          title            organization  \\\n",
       "0              IBM Data Science                     IBM   \n",
       "1  Introduction to Data Science                     IBM   \n",
       "2     The Science of Well-Being         Yale University   \n",
       "3          Python for Everybody  University of Michigan   \n",
       "4             Google IT Support                  Google   \n",
       "\n",
       "           certificate_type  rating difficulty  students_enrolled  \n",
       "0  Professional Certificate     4.6   Beginner           480000.0  \n",
       "1            Specialization     4.6   Beginner           310000.0  \n",
       "2                    Course     4.9      Mixed          2500000.0  \n",
       "3            Specialization     4.8   Beginner          1500000.0  \n",
       "4  Professional Certificate     4.8   Beginner           350000.0  "
      ]
     },
     "execution_count": 251,
     "metadata": {},
     "output_type": "execute_result"
    }
   ],
   "source": [
    "# Printing final cleaned dataframe for our analysis\n",
    "df.head()"
   ]
  },
  {
   "cell_type": "markdown",
   "id": "c2c74ad3",
   "metadata": {},
   "source": [
    "### Exploring numerical data and visualizing some relevant data"
   ]
  },
  {
   "cell_type": "code",
   "execution_count": 233,
   "id": "95f60779",
   "metadata": {
    "scrolled": false
   },
   "outputs": [
    {
     "data": {
      "image/png": "[encoded data removed]",
      "text/plain": [
       "<Figure size 576x288 with 2 Axes>"
      ]
     },
     "metadata": {},
     "output_type": "display_data"
    }
   ],
   "source": [
    "# Identifying outliers for ratings and students enrolled columns\n",
    "\n",
    "hist_data = [df['rating'].values, df['students_enrolled'].values]\n",
    "titles = ['Courses Ratings Boxplot', 'Courses Students Enrolled Boxplot']\n",
    "xlabels = ['Ratings', 'Students Enrolled']\n",
    "ylabels = ['# of Courses'] * 2\n",
    "\n",
    "fig, ax = plt.subplots(1, 2, figsize=(8,4))\n",
    "sns.set(font_scale=1.5)\n",
    "sns.set(rc={'axes.facecolor':'whitesmoke'})\n",
    "\n",
    "for i, data in enumerate(hist_data):\n",
    "    sns.boxplot(x=data, color=\"lightblue\", ax=ax.flat[i])\n",
    "    ax.flat[i].set_xlabel(xlabels[i])\n",
    "    ax.flat[i].set_ylabel(ylabels[i])\n",
    "    ax.flat[i].set_title(titles[i])\n",
    "\n",
    "fig.tight_layout()\n",
    "plt.show()\n"
   ]
  },
  {
   "cell_type": "markdown",
   "id": "d2f1469e",
   "metadata": {},
   "source": [
    "Since the students enrolled is data based on the actual students enrolled I don't think we should exclude those courses from our study. The reasons I believe this courses has such high amount of students enrolled might be because of the popularity of the topics in that courses, the price being free or how highly rated is."
   ]
  },
  {
   "cell_type": "code",
   "execution_count": 234,
   "id": "90ff38bf",
   "metadata": {},
   "outputs": [
    {
     "data": {
      "text/html": [
       "<div>\n",
       "<style scoped>\n",
       "    .dataframe tbody tr th:only-of-type {\n",
       "        vertical-align: middle;\n",
       "    }\n",
       "\n",
       "    .dataframe tbody tr th {\n",
       "        vertical-align: top;\n",
       "    }\n",
       "\n",
       "    .dataframe thead th {\n",
       "        text-align: right;\n",
       "    }\n",
       "</style>\n",
       "<table border=\"1\" class=\"dataframe\">\n",
       "  <thead>\n",
       "    <tr style=\"text-align: right;\">\n",
       "      <th></th>\n",
       "      <th>title</th>\n",
       "      <th>organization</th>\n",
       "      <th>certificate_type</th>\n",
       "      <th>rating</th>\n",
       "      <th>difficulty</th>\n",
       "      <th>students_enrolled</th>\n",
       "    </tr>\n",
       "  </thead>\n",
       "  <tbody>\n",
       "    <tr>\n",
       "      <th>2</th>\n",
       "      <td>The Science of Well-Being</td>\n",
       "      <td>Yale University</td>\n",
       "      <td>Course</td>\n",
       "      <td>4.9</td>\n",
       "      <td>Mixed</td>\n",
       "      <td>2500000.0</td>\n",
       "    </tr>\n",
       "    <tr>\n",
       "      <th>3</th>\n",
       "      <td>Python for Everybody</td>\n",
       "      <td>University of Michigan</td>\n",
       "      <td>Specialization</td>\n",
       "      <td>4.8</td>\n",
       "      <td>Beginner</td>\n",
       "      <td>1500000.0</td>\n",
       "    </tr>\n",
       "    <tr>\n",
       "      <th>6</th>\n",
       "      <td>Machine Learning</td>\n",
       "      <td>Stanford University</td>\n",
       "      <td>Course</td>\n",
       "      <td>4.9</td>\n",
       "      <td>Mixed</td>\n",
       "      <td>3200000.0</td>\n",
       "    </tr>\n",
       "    <tr>\n",
       "      <th>47</th>\n",
       "      <td>Programming for Everybody (Getting Started wit...</td>\n",
       "      <td>University of Michigan</td>\n",
       "      <td>Course</td>\n",
       "      <td>4.8</td>\n",
       "      <td>Mixed</td>\n",
       "      <td>1300000.0</td>\n",
       "    </tr>\n",
       "  </tbody>\n",
       "</table>\n",
       "</div>"
      ],
      "text/plain": [
       "                                                title            organization  \\\n",
       "2                           The Science of Well-Being         Yale University   \n",
       "3                                Python for Everybody  University of Michigan   \n",
       "6                                    Machine Learning     Stanford University   \n",
       "47  Programming for Everybody (Getting Started wit...  University of Michigan   \n",
       "\n",
       "   certificate_type  rating difficulty  students_enrolled  \n",
       "2            Course     4.9      Mixed          2500000.0  \n",
       "3    Specialization     4.8   Beginner          1500000.0  \n",
       "6            Course     4.9      Mixed          3200000.0  \n",
       "47           Course     4.8      Mixed          1300000.0  "
      ]
     },
     "execution_count": 234,
     "metadata": {},
     "output_type": "execute_result"
    }
   ],
   "source": [
    "df[df['students_enrolled'] > 1000000]"
   ]
  },
  {
   "cell_type": "markdown",
   "id": "c615077f",
   "metadata": {},
   "source": [
    "If we observe above both courses with such high amount of studenets enrolled are courses with very high ratings 4.9 out of 5.0.\n",
    "\n",
    "Unfortunately the price of the courses and the topic is not data available in our dataset. It would have been great to analyze those factors and improve the analysis. \n",
    "\n",
    "Although we don't have data proving so and the most discussed topics, I agree that all the courses with high number of enrolled students are popular topics in the net nowadays. Programming, Data and well-being."
   ]
  },
  {
   "cell_type": "markdown",
   "id": "9ac941e0",
   "metadata": {},
   "source": [
    "#### Ratings and students enrolled distribution and central tendency"
   ]
  },
  {
   "cell_type": "code",
   "execution_count": 235,
   "id": "dc2a9d76",
   "metadata": {},
   "outputs": [
    {
     "data": {
      "image/png": "[encoded data removed]",
      "text/plain": [
       "<Figure size 576x288 with 2 Axes>"
      ]
     },
     "metadata": {},
     "output_type": "display_data"
    }
   ],
   "source": [
    "# Visualizing the distribution of ratings and students enrolled\n",
    "\n",
    "hist_data = [df['rating'].values, df['students_enrolled'].values]\n",
    "xlabels = ['Ratings', 'Students Enrolled']\n",
    "ylabels = ['# of Courses'] * 2\n",
    "bins = [16,200]\n",
    "\n",
    "fig, ax = plt.subplots(1, 2, figsize=(8,4))\n",
    "sns.set(font_scale=1.5)\n",
    "\n",
    "for i, data in enumerate(hist_data):\n",
    "    sns.histplot(data, kde=False, bins=bins[i], color=\"lightblue\", ax=ax.flat[i])\n",
    "    # we use flat to access to each element of the ax array\n",
    "    ax.flat[i].set_xlabel(xlabels[i])\n",
    "    ax.flat[i].set_ylabel(ylabels[i])\n",
    "    if i == 0:\n",
    "        ax.flat[i].set_xlim(4.0, 5.0)\n",
    "    elif i == 1:\n",
    "        ax.flat[i].set_xlim(0.0, 1000000.0)\n",
    "\n",
    "fig.tight_layout()\n",
    "plt.show()"
   ]
  },
  {
   "cell_type": "markdown",
   "id": "b30e596a",
   "metadata": {},
   "source": [
    "I observe a left skewed distribution on the ratings distribution plot, meaning that all the vast majority of points are concentrated towards the right side, most of the courses has high ratings and ranges between 4.6 and 4.8. on the contrary, the students enrolled distribution shows the tail extending to the right, this a right skewed distribution, indicating that there are only a courses that has more students enrolled than the majority of the data points."
   ]
  },
  {
   "cell_type": "code",
   "execution_count": 254,
   "id": "4c2cb646",
   "metadata": {},
   "outputs": [
    {
     "data": {
      "text/html": [
       "<div>\n",
       "<style scoped>\n",
       "    .dataframe tbody tr th:only-of-type {\n",
       "        vertical-align: middle;\n",
       "    }\n",
       "\n",
       "    .dataframe tbody tr th {\n",
       "        vertical-align: top;\n",
       "    }\n",
       "\n",
       "    .dataframe thead th {\n",
       "        text-align: right;\n",
       "    }\n",
       "</style>\n",
       "<table border=\"1\" class=\"dataframe\">\n",
       "  <thead>\n",
       "    <tr style=\"text-align: right;\">\n",
       "      <th></th>\n",
       "      <th>rating</th>\n",
       "      <th>students_enrolled</th>\n",
       "    </tr>\n",
       "  </thead>\n",
       "  <tbody>\n",
       "    <tr>\n",
       "      <th>count</th>\n",
       "      <td>891.000000</td>\n",
       "      <td>8.910000e+02</td>\n",
       "    </tr>\n",
       "    <tr>\n",
       "      <th>mean</th>\n",
       "      <td>4.677329</td>\n",
       "      <td>9.055208e+04</td>\n",
       "    </tr>\n",
       "    <tr>\n",
       "      <th>std</th>\n",
       "      <td>0.162225</td>\n",
       "      <td>1.819365e+05</td>\n",
       "    </tr>\n",
       "    <tr>\n",
       "      <th>min</th>\n",
       "      <td>3.300000</td>\n",
       "      <td>1.500000e+03</td>\n",
       "    </tr>\n",
       "    <tr>\n",
       "      <th>25%</th>\n",
       "      <td>4.600000</td>\n",
       "      <td>1.750000e+04</td>\n",
       "    </tr>\n",
       "    <tr>\n",
       "      <th>50%</th>\n",
       "      <td>4.700000</td>\n",
       "      <td>4.200000e+04</td>\n",
       "    </tr>\n",
       "    <tr>\n",
       "      <th>75%</th>\n",
       "      <td>4.800000</td>\n",
       "      <td>9.950000e+04</td>\n",
       "    </tr>\n",
       "    <tr>\n",
       "      <th>max</th>\n",
       "      <td>5.000000</td>\n",
       "      <td>3.200000e+06</td>\n",
       "    </tr>\n",
       "  </tbody>\n",
       "</table>\n",
       "</div>"
      ],
      "text/plain": [
       "           rating  students_enrolled\n",
       "count  891.000000       8.910000e+02\n",
       "mean     4.677329       9.055208e+04\n",
       "std      0.162225       1.819365e+05\n",
       "min      3.300000       1.500000e+03\n",
       "25%      4.600000       1.750000e+04\n",
       "50%      4.700000       4.200000e+04\n",
       "75%      4.800000       9.950000e+04\n",
       "max      5.000000       3.200000e+06"
      ]
     },
     "execution_count": 254,
     "metadata": {},
     "output_type": "execute_result"
    }
   ],
   "source": [
    "# Describing ratings and students enrolled column\n",
    "df[['rating', 'students_enrolled']].describe()"
   ]
  },
  {
   "cell_type": "markdown",
   "id": "5e955d8a",
   "metadata": {},
   "source": [
    "#### Distribution difficulty levels and certificates types based on students enrolled"
   ]
  },
  {
   "cell_type": "code",
   "execution_count": 271,
   "id": "366689f1",
   "metadata": {},
   "outputs": [
    {
     "data": {
      "image/png": "[encoded data removed]",
      "text/plain": [
       "<Figure size 576x288 with 2 Axes>"
      ]
     },
     "metadata": {},
     "output_type": "display_data"
    }
   ],
   "source": [
    "# Boxplot that counts all courses per certificates based on the number of students enrolled\n",
    "\n",
    "ydata = [df['certificate_type'], df['difficulty']]\n",
    "ylabels = ['Certificate Type', 'Difficulty']\n",
    "xlabels = ['# Students Enrolled'] * 2\n",
    "\n",
    "fig, ax = plt.subplots(1, 2, figsize=(8,4))\n",
    "sns.set(font_scale=1.5)\n",
    "sns.set(rc={'axes.facecolor':'whitesmoke'})\n",
    "\n",
    "for i, data in enumerate(ydata):\n",
    "    sns.boxplot(x=df['students_enrolled'], y=ydata[i], color='lightblue', ax=ax.flat[i])\n",
    "    ax.flat[i].set_xlabel(xlabels[i])\n",
    "    ax.flat[i].set_ylabel(ylabels[i])\n",
    "    ax.flat[i].set_xscale('log') # set log scale for x-axis\n",
    "\n",
    "\n",
    "fig.tight_layout()\n",
    "plt.show()\n"
   ]
  },
  {
   "cell_type": "markdown",
   "id": "1e6c9766",
   "metadata": {},
   "source": [
    "#### Distribution of difficulty levels and certificates types based on ratings"
   ]
  },
  {
   "cell_type": "code",
   "execution_count": 275,
   "id": "909c69a4",
   "metadata": {},
   "outputs": [
    {
     "data": {
      "image/png": "[encoded data removed]",
      "text/plain": [
       "<Figure size 576x288 with 2 Axes>"
      ]
     },
     "metadata": {},
     "output_type": "display_data"
    }
   ],
   "source": [
    "# Boxplot that counts all courses per certificates based on the course ratings\n",
    "\n",
    "ydata = [df['certificate_type'], df['difficulty']]\n",
    "ylabels = ['Certificate Type', 'Difficulty']\n",
    "xlabels = ['Ratings'] * 2\n",
    "\n",
    "fig, ax = plt.subplots(1, 2, figsize=(8,4))\n",
    "sns.set(font_scale=1.5)\n",
    "sns.set(rc={'axes.facecolor':'whitesmoke'})\n",
    "\n",
    "for i, data in enumerate(ydata):\n",
    "    sns.boxplot(x=df['rating'], y=ydata[i], color='lightblue', ax=ax.flat[i])\n",
    "    ax.flat[i].set_xlabel(xlabels[i])\n",
    "    ax.flat[i].set_ylabel(ylabels[i])\n",
    "\n",
    "fig.tight_layout()\n",
    "plt.show()"
   ]
  },
  {
   "cell_type": "markdown",
   "id": "42be16e2",
   "metadata": {},
   "source": [
    "#### Relationship between ratings and students enrolled"
   ]
  },
  {
   "cell_type": "code",
   "execution_count": 279,
   "id": "2a317ad9",
   "metadata": {},
   "outputs": [
    {
     "data": {
      "text/plain": [
       "Text(0.5, 1.0, 'Correlation between ratings and students enrolled')"
      ]
     },
     "execution_count": 279,
     "metadata": {},
     "output_type": "execute_result"
    },
    {
     "data": {
      "image/png": "[encoded data removed]",
      "text/plain": [
       "<Figure size 576x288 with 2 Axes>"
      ]
     },
     "metadata": {},
     "output_type": "display_data"
    }
   ],
   "source": [
    "correlation = df.corr()\n",
    "correlation\n",
    "plt.figure(figsize=(8,4))\n",
    "sns.heatmap(correlation, annot=True, linewidths=.5).set_title('Features correlation')\n",
    "plt.title('Correlation between ratings and students enrolled')"
   ]
  },
  {
   "cell_type": "code",
   "execution_count": 280,
   "id": "71113996",
   "metadata": {},
   "outputs": [
    {
     "data": {
      "text/plain": [
       "Text(0.5, 1.0, 'Correlation between ratings and students enrolled')"
      ]
     },
     "execution_count": 280,
     "metadata": {},
     "output_type": "execute_result"
    },
    {
     "data": {
      "image/png": "[encoded data removed]",
      "text/plain": [
       "<Figure size 360x216 with 1 Axes>"
      ]
     },
     "metadata": {},
     "output_type": "display_data"
    }
   ],
   "source": [
    "# Let's go further visualizing correlation with a scatter plot\n",
    "\n",
    "y = np.array([df['rating']])\n",
    "x = np.array([df['students_enrolled']])\n",
    "\n",
    "plt.figure(figsize=(5,3))\n",
    "sns.scatterplot(data=df, x=\"students_enrolled\", y=\"rating\")\n",
    "plt.xlim(0, 300000)\n",
    "plt.xlabel(\"Students Enrolled\")\n",
    "plt.ylabel(\"Ratings\")\n",
    "plt.title('Correlation between ratings and students enrolled')"
   ]
  },
  {
   "cell_type": "markdown",
   "id": "af4a0fc3",
   "metadata": {},
   "source": [
    "The correlation between rating and students enrolled is very low. The courses with higher number of students enrolled tend to have higher ratings."
   ]
  },
  {
   "cell_type": "markdown",
   "id": "c69e1e07",
   "metadata": {},
   "source": [
    "## Exploring categorical variables"
   ]
  },
  {
   "cell_type": "code",
   "execution_count": 281,
   "id": "04fcd182",
   "metadata": {},
   "outputs": [
    {
     "data": {
      "image/png": "[encoded data removed]",
      "text/plain": [
       "<Figure size 576x288 with 2 Axes>"
      ]
     },
     "metadata": {},
     "output_type": "display_data"
    }
   ],
   "source": [
    "# Visualizing the count of courses for each category\n",
    "\n",
    "hist_data = [df['difficulty'].value_counts(), df['certificate_type'].value_counts()]\n",
    "titles = ['Courses Difficulty Distribution', 'Courses Certificates Distribution']\n",
    "\n",
    "fig, ax = plt.subplots(1, 2, figsize=(8,4))\n",
    "plt.rcParams.update({'font.size': 11})\n",
    "\n",
    "for i, data in enumerate(hist_data):\n",
    "    ax[i].pie(data.values, labels = data.index, autopct='%1.2f%%')\n",
    "    ax[i].set_title(titles[i])\n",
    "\n",
    "fig.tight_layout()\n",
    "plt.show()"
   ]
  },
  {
   "cell_type": "markdown",
   "id": "acf6a2ad",
   "metadata": {},
   "source": [
    "More than half of the courses in the dataset are focused on beginner-level content, which is an important finding. Additionally, most of the courses offer courses certificates type rather than professional certificates, with only 1.35% of courses offering the latter. Specializations are the second most common type of certificate offered after courses. The remaining courses offered are typically, for intermediate or mixed-level content"
   ]
  },
  {
   "cell_type": "markdown",
   "id": "4c51c57d",
   "metadata": {},
   "source": [
    "#### Difficulty levels per certifications"
   ]
  },
  {
   "cell_type": "code",
   "execution_count": 282,
   "id": "399685c8",
   "metadata": {},
   "outputs": [
    {
     "data": {
      "image/png": "[encoded data removed]",
      "text/plain": [
       "<Figure size 576x288 with 1 Axes>"
      ]
     },
     "metadata": {},
     "output_type": "display_data"
    }
   ],
   "source": [
    "# Visualizing difficulty levels based on the specializations\n",
    "\n",
    "sns.set(rc={'figure.figsize':(8, 4), 'axes.facecolor':'whitesmoke',})\n",
    "sns.countplot(data=df, \n",
    "              x='certificate_type', palette=\"pastel\",\n",
    "              hue='difficulty').set(title=\"Certificates Type and Difficulty count based on the top 10 courses\")\n",
    "\n",
    "# Place legend to the right\n",
    "plt.legend(loc='upper right')\n",
    "fig.tight_layout()\n",
    "plt.show()"
   ]
  },
  {
   "cell_type": "code",
   "execution_count": 283,
   "id": "6e782592",
   "metadata": {},
   "outputs": [
    {
     "data": {
      "text/html": [
       "<div>\n",
       "<style scoped>\n",
       "    .dataframe tbody tr th:only-of-type {\n",
       "        vertical-align: middle;\n",
       "    }\n",
       "\n",
       "    .dataframe tbody tr th {\n",
       "        vertical-align: top;\n",
       "    }\n",
       "\n",
       "    .dataframe thead th {\n",
       "        text-align: right;\n",
       "    }\n",
       "</style>\n",
       "<table border=\"1\" class=\"dataframe\">\n",
       "  <thead>\n",
       "    <tr style=\"text-align: right;\">\n",
       "      <th></th>\n",
       "      <th>title</th>\n",
       "      <th>organization</th>\n",
       "      <th>certificate_type</th>\n",
       "      <th>rating</th>\n",
       "      <th>difficulty</th>\n",
       "      <th>students_enrolled</th>\n",
       "    </tr>\n",
       "  </thead>\n",
       "  <tbody>\n",
       "    <tr>\n",
       "      <th>6</th>\n",
       "      <td>Machine Learning</td>\n",
       "      <td>Stanford University</td>\n",
       "      <td>Course</td>\n",
       "      <td>4.9</td>\n",
       "      <td>Mixed</td>\n",
       "      <td>3200000.0</td>\n",
       "    </tr>\n",
       "    <tr>\n",
       "      <th>2</th>\n",
       "      <td>The Science of Well-Being</td>\n",
       "      <td>Yale University</td>\n",
       "      <td>Course</td>\n",
       "      <td>4.9</td>\n",
       "      <td>Mixed</td>\n",
       "      <td>2500000.0</td>\n",
       "    </tr>\n",
       "    <tr>\n",
       "      <th>62</th>\n",
       "      <td>Neural Networks and Deep Learning</td>\n",
       "      <td>deeplearning.ai</td>\n",
       "      <td>Course</td>\n",
       "      <td>4.9</td>\n",
       "      <td>Intermediate</td>\n",
       "      <td>630000.0</td>\n",
       "    </tr>\n",
       "    <tr>\n",
       "      <th>111</th>\n",
       "      <td>Python Data Structures</td>\n",
       "      <td>University of Michigan</td>\n",
       "      <td>Course</td>\n",
       "      <td>4.9</td>\n",
       "      <td>Mixed</td>\n",
       "      <td>420000.0</td>\n",
       "    </tr>\n",
       "    <tr>\n",
       "      <th>113</th>\n",
       "      <td>First Step Korean</td>\n",
       "      <td>Yonsei University</td>\n",
       "      <td>Course</td>\n",
       "      <td>4.9</td>\n",
       "      <td>Beginner</td>\n",
       "      <td>400000.0</td>\n",
       "    </tr>\n",
       "    <tr>\n",
       "      <th>29</th>\n",
       "      <td>Introduction to Psychology</td>\n",
       "      <td>Yale University</td>\n",
       "      <td>Course</td>\n",
       "      <td>4.9</td>\n",
       "      <td>Beginner</td>\n",
       "      <td>270000.0</td>\n",
       "    </tr>\n",
       "    <tr>\n",
       "      <th>123</th>\n",
       "      <td>Improving Deep Neural Networks: Hyperparameter...</td>\n",
       "      <td>deeplearning.ai</td>\n",
       "      <td>Course</td>\n",
       "      <td>4.9</td>\n",
       "      <td>Beginner</td>\n",
       "      <td>270000.0</td>\n",
       "    </tr>\n",
       "    <tr>\n",
       "      <th>11</th>\n",
       "      <td>Excel Skills for Business</td>\n",
       "      <td>Macquarie University</td>\n",
       "      <td>Specialization</td>\n",
       "      <td>4.9</td>\n",
       "      <td>Beginner</td>\n",
       "      <td>240000.0</td>\n",
       "    </tr>\n",
       "    <tr>\n",
       "      <th>207</th>\n",
       "      <td>Convolutional Neural Networks</td>\n",
       "      <td>deeplearning.ai</td>\n",
       "      <td>Course</td>\n",
       "      <td>4.9</td>\n",
       "      <td>Intermediate</td>\n",
       "      <td>240000.0</td>\n",
       "    </tr>\n",
       "    <tr>\n",
       "      <th>21</th>\n",
       "      <td>COVID-19 Contact Tracing</td>\n",
       "      <td>Johns Hopkins University</td>\n",
       "      <td>Course</td>\n",
       "      <td>4.9</td>\n",
       "      <td>Beginner</td>\n",
       "      <td>220000.0</td>\n",
       "    </tr>\n",
       "  </tbody>\n",
       "</table>\n",
       "</div>"
      ],
      "text/plain": [
       "                                                 title  \\\n",
       "6                                     Machine Learning   \n",
       "2                            The Science of Well-Being   \n",
       "62                   Neural Networks and Deep Learning   \n",
       "111                             Python Data Structures   \n",
       "113                                  First Step Korean   \n",
       "29                          Introduction to Psychology   \n",
       "123  Improving Deep Neural Networks: Hyperparameter...   \n",
       "11                           Excel Skills for Business   \n",
       "207                      Convolutional Neural Networks   \n",
       "21                            COVID-19 Contact Tracing   \n",
       "\n",
       "                 organization certificate_type  rating    difficulty  \\\n",
       "6         Stanford University           Course     4.9         Mixed   \n",
       "2             Yale University           Course     4.9         Mixed   \n",
       "62            deeplearning.ai           Course     4.9  Intermediate   \n",
       "111    University of Michigan           Course     4.9         Mixed   \n",
       "113         Yonsei University           Course     4.9      Beginner   \n",
       "29            Yale University           Course     4.9      Beginner   \n",
       "123           deeplearning.ai           Course     4.9      Beginner   \n",
       "11       Macquarie University   Specialization     4.9      Beginner   \n",
       "207           deeplearning.ai           Course     4.9  Intermediate   \n",
       "21   Johns Hopkins University           Course     4.9      Beginner   \n",
       "\n",
       "     students_enrolled  \n",
       "6            3200000.0  \n",
       "2            2500000.0  \n",
       "62            630000.0  \n",
       "111           420000.0  \n",
       "113           400000.0  \n",
       "29            270000.0  \n",
       "123           270000.0  \n",
       "11            240000.0  \n",
       "207           240000.0  \n",
       "21            220000.0  "
      ]
     },
     "execution_count": 283,
     "metadata": {},
     "output_type": "execute_result"
    }
   ],
   "source": [
    "# Checking top 10 courses as per higher number of students enrolled and highest ratings\n",
    "top_courses = df[df['rating'] >= 4.9].sort_values(by='students_enrolled', \n",
    "                                                   ascending=False).head(10)\n",
    "top_courses"
   ]
  },
  {
   "cell_type": "code",
   "execution_count": 284,
   "id": "261c534a",
   "metadata": {},
   "outputs": [
    {
     "data": {
      "image/png": "[encoded data removed]",
      "text/plain": [
       "<Figure size 576x288 with 1 Axes>"
      ]
     },
     "metadata": {},
     "output_type": "display_data"
    }
   ],
   "source": [
    "# Visualizing certificates and difficulties level for the top 10 courses\n",
    "\n",
    "sns.set(rc={'figure.figsize':(8, 4), 'axes.facecolor':'whitesmoke',})\n",
    "sns.countplot(data=top_courses, \n",
    "              x='certificate_type', palette=\"pastel\",\n",
    "              hue='difficulty').set(title=\"\"\"\n",
    "              Distribution of Certificates Type and difficulty based on the top 10 courses\n",
    "              \"\"\")\n",
    "\n",
    "# Place legend to the right\n",
    "plt.legend(loc='upper right', bbox_to_anchor=(1.2, 1.0))\n",
    "fig.tight_layout()\n",
    "plt.show()"
   ]
  },
  {
   "cell_type": "markdown",
   "id": "921f139d",
   "metadata": {},
   "source": [
    "We can see that the most popular certifications are the Courses types and most of them are beginner friendly\n",
    "but also we can observe a high amount of mixed difficulty level.\n",
    "\n",
    "All the Professional certificates are for beginners meanwhile specializations are for beginners or \n",
    "for intermediate students. Only a minority are advanced level."
   ]
  },
  {
   "cell_type": "markdown",
   "id": "4fa58de0",
   "metadata": {},
   "source": [
    "## Organizations overview"
   ]
  },
  {
   "cell_type": "code",
   "execution_count": 285,
   "id": "df1c46c8",
   "metadata": {},
   "outputs": [
    {
     "name": "stdout",
     "output_type": "stream",
     "text": [
      " There's 154 organizations that has courses in Coursera\n"
     ]
    }
   ],
   "source": [
    "# How many organizations has courses on Coursera?\n",
    "print(f\" There's {len(df['organization'].unique())} organizations that has courses in Coursera\")"
   ]
  },
  {
   "cell_type": "code",
   "execution_count": 286,
   "id": "c9279f4e",
   "metadata": {},
   "outputs": [
    {
     "data": {
      "text/html": [
       "<div>\n",
       "<style scoped>\n",
       "    .dataframe tbody tr th:only-of-type {\n",
       "        vertical-align: middle;\n",
       "    }\n",
       "\n",
       "    .dataframe tbody tr th {\n",
       "        vertical-align: top;\n",
       "    }\n",
       "\n",
       "    .dataframe thead th {\n",
       "        text-align: right;\n",
       "    }\n",
       "</style>\n",
       "<table border=\"1\" class=\"dataframe\">\n",
       "  <thead>\n",
       "    <tr style=\"text-align: right;\">\n",
       "      <th></th>\n",
       "      <th>rating</th>\n",
       "      <th>students_enrolled</th>\n",
       "    </tr>\n",
       "    <tr>\n",
       "      <th>organization</th>\n",
       "      <th></th>\n",
       "      <th></th>\n",
       "    </tr>\n",
       "  </thead>\n",
       "  <tbody>\n",
       "    <tr>\n",
       "      <th>Yale University</th>\n",
       "      <td>4.817647</td>\n",
       "      <td>232470.588235</td>\n",
       "    </tr>\n",
       "    <tr>\n",
       "      <th>McMaster University</th>\n",
       "      <td>4.800000</td>\n",
       "      <td>230000.000000</td>\n",
       "    </tr>\n",
       "    <tr>\n",
       "      <th>Google - Spectrum Sharing</th>\n",
       "      <td>4.900000</td>\n",
       "      <td>210000.000000</td>\n",
       "    </tr>\n",
       "    <tr>\n",
       "      <th>École Polytechnique</th>\n",
       "      <td>4.800000</td>\n",
       "      <td>190000.000000</td>\n",
       "    </tr>\n",
       "    <tr>\n",
       "      <th>Hebrew University of Jerusalem</th>\n",
       "      <td>4.900000</td>\n",
       "      <td>95000.000000</td>\n",
       "    </tr>\n",
       "    <tr>\n",
       "      <th>Berklee College of Music</th>\n",
       "      <td>4.807143</td>\n",
       "      <td>92000.000000</td>\n",
       "    </tr>\n",
       "    <tr>\n",
       "      <th>The University of Chicago</th>\n",
       "      <td>4.850000</td>\n",
       "      <td>84000.000000</td>\n",
       "    </tr>\n",
       "    <tr>\n",
       "      <th>Macquarie University</th>\n",
       "      <td>4.800000</td>\n",
       "      <td>74433.333333</td>\n",
       "    </tr>\n",
       "    <tr>\n",
       "      <th>Universidade de São Paulo</th>\n",
       "      <td>4.866667</td>\n",
       "      <td>68500.000000</td>\n",
       "    </tr>\n",
       "    <tr>\n",
       "      <th>Universidad de los Andes</th>\n",
       "      <td>4.820000</td>\n",
       "      <td>61080.000000</td>\n",
       "    </tr>\n",
       "  </tbody>\n",
       "</table>\n",
       "</div>"
      ],
      "text/plain": [
       "                                  rating  students_enrolled\n",
       "organization                                               \n",
       "Yale University                 4.817647      232470.588235\n",
       "McMaster University             4.800000      230000.000000\n",
       "Google - Spectrum Sharing       4.900000      210000.000000\n",
       "École Polytechnique             4.800000      190000.000000\n",
       "Hebrew University of Jerusalem  4.900000       95000.000000\n",
       "Berklee College of Music        4.807143       92000.000000\n",
       "The University of Chicago       4.850000       84000.000000\n",
       "Macquarie University            4.800000       74433.333333\n",
       "Universidade de São Paulo       4.866667       68500.000000\n",
       "Universidad de los Andes        4.820000       61080.000000"
      ]
     },
     "execution_count": 286,
     "metadata": {},
     "output_type": "execute_result"
    }
   ],
   "source": [
    "# Checking top 10 organizations with higher ratings and students enrolled\n",
    "\n",
    "organizations_mean = df.groupby('organization').mean()\n",
    "top_org_coursera_mean = organizations_mean[organizations_mean['rating'] >= 4.8].sort_values(\n",
    "    by='students_enrolled', ascending=False).head(10)\n",
    "top_org_coursera_mean"
   ]
  },
  {
   "cell_type": "code",
   "execution_count": 287,
   "id": "5574aa6c",
   "metadata": {},
   "outputs": [
    {
     "data": {
      "text/html": [
       "<div>\n",
       "<style scoped>\n",
       "    .dataframe tbody tr th:only-of-type {\n",
       "        vertical-align: middle;\n",
       "    }\n",
       "\n",
       "    .dataframe tbody tr th {\n",
       "        vertical-align: top;\n",
       "    }\n",
       "\n",
       "    .dataframe thead th {\n",
       "        text-align: right;\n",
       "    }\n",
       "</style>\n",
       "<table border=\"1\" class=\"dataframe\">\n",
       "  <thead>\n",
       "    <tr style=\"text-align: right;\">\n",
       "      <th></th>\n",
       "      <th>rating</th>\n",
       "      <th>students_enrolled</th>\n",
       "    </tr>\n",
       "  </thead>\n",
       "  <tbody>\n",
       "    <tr>\n",
       "      <th>count</th>\n",
       "      <td>10.000000</td>\n",
       "      <td>10.000000</td>\n",
       "    </tr>\n",
       "    <tr>\n",
       "      <th>mean</th>\n",
       "      <td>4.836146</td>\n",
       "      <td>133748.392157</td>\n",
       "    </tr>\n",
       "    <tr>\n",
       "      <th>std</th>\n",
       "      <td>0.040334</td>\n",
       "      <td>72083.738234</td>\n",
       "    </tr>\n",
       "    <tr>\n",
       "      <th>min</th>\n",
       "      <td>4.800000</td>\n",
       "      <td>61080.000000</td>\n",
       "    </tr>\n",
       "    <tr>\n",
       "      <th>25%</th>\n",
       "      <td>4.801786</td>\n",
       "      <td>76825.000000</td>\n",
       "    </tr>\n",
       "    <tr>\n",
       "      <th>50%</th>\n",
       "      <td>4.818824</td>\n",
       "      <td>93500.000000</td>\n",
       "    </tr>\n",
       "    <tr>\n",
       "      <th>75%</th>\n",
       "      <td>4.862500</td>\n",
       "      <td>205000.000000</td>\n",
       "    </tr>\n",
       "    <tr>\n",
       "      <th>max</th>\n",
       "      <td>4.900000</td>\n",
       "      <td>232470.588235</td>\n",
       "    </tr>\n",
       "  </tbody>\n",
       "</table>\n",
       "</div>"
      ],
      "text/plain": [
       "          rating  students_enrolled\n",
       "count  10.000000          10.000000\n",
       "mean    4.836146      133748.392157\n",
       "std     0.040334       72083.738234\n",
       "min     4.800000       61080.000000\n",
       "25%     4.801786       76825.000000\n",
       "50%     4.818824       93500.000000\n",
       "75%     4.862500      205000.000000\n",
       "max     4.900000      232470.588235"
      ]
     },
     "execution_count": 287,
     "metadata": {},
     "output_type": "execute_result"
    }
   ],
   "source": [
    "# Let's quick check how the data is distributed with a box plot\n",
    "top_org_coursera_mean.describe()"
   ]
  },
  {
   "cell_type": "code",
   "execution_count": 288,
   "id": "0f85faee",
   "metadata": {},
   "outputs": [
    {
     "data": {
      "text/html": [
       "<div>\n",
       "<style scoped>\n",
       "    .dataframe tbody tr th:only-of-type {\n",
       "        vertical-align: middle;\n",
       "    }\n",
       "\n",
       "    .dataframe tbody tr th {\n",
       "        vertical-align: top;\n",
       "    }\n",
       "\n",
       "    .dataframe thead th {\n",
       "        text-align: right;\n",
       "    }\n",
       "</style>\n",
       "<table border=\"1\" class=\"dataframe\">\n",
       "  <thead>\n",
       "    <tr style=\"text-align: right;\">\n",
       "      <th></th>\n",
       "      <th>title</th>\n",
       "      <th>organization</th>\n",
       "      <th>certificate_type</th>\n",
       "      <th>rating</th>\n",
       "      <th>difficulty</th>\n",
       "      <th>students_enrolled</th>\n",
       "    </tr>\n",
       "  </thead>\n",
       "  <tbody>\n",
       "    <tr>\n",
       "      <th>2</th>\n",
       "      <td>The Science of Well-Being</td>\n",
       "      <td>Yale University</td>\n",
       "      <td>Course</td>\n",
       "      <td>4.9</td>\n",
       "      <td>Mixed</td>\n",
       "      <td>2500000.0</td>\n",
       "    </tr>\n",
       "    <tr>\n",
       "      <th>11</th>\n",
       "      <td>Excel Skills for Business</td>\n",
       "      <td>Macquarie University</td>\n",
       "      <td>Specialization</td>\n",
       "      <td>4.9</td>\n",
       "      <td>Beginner</td>\n",
       "      <td>240000.0</td>\n",
       "    </tr>\n",
       "    <tr>\n",
       "      <th>14</th>\n",
       "      <td>Financial Markets</td>\n",
       "      <td>Yale University</td>\n",
       "      <td>Course</td>\n",
       "      <td>4.8</td>\n",
       "      <td>Beginner</td>\n",
       "      <td>470000.0</td>\n",
       "    </tr>\n",
       "    <tr>\n",
       "      <th>29</th>\n",
       "      <td>Introduction to Psychology</td>\n",
       "      <td>Yale University</td>\n",
       "      <td>Course</td>\n",
       "      <td>4.9</td>\n",
       "      <td>Beginner</td>\n",
       "      <td>270000.0</td>\n",
       "    </tr>\n",
       "    <tr>\n",
       "      <th>81</th>\n",
       "      <td>The DIY Musician</td>\n",
       "      <td>Berklee College of Music</td>\n",
       "      <td>Specialization</td>\n",
       "      <td>4.8</td>\n",
       "      <td>Beginner</td>\n",
       "      <td>120000.0</td>\n",
       "    </tr>\n",
       "  </tbody>\n",
       "</table>\n",
       "</div>"
      ],
      "text/plain": [
       "                         title              organization certificate_type  \\\n",
       "2    The Science of Well-Being           Yale University           Course   \n",
       "11   Excel Skills for Business      Macquarie University   Specialization   \n",
       "14           Financial Markets           Yale University           Course   \n",
       "29  Introduction to Psychology           Yale University           Course   \n",
       "81            The DIY Musician  Berklee College of Music   Specialization   \n",
       "\n",
       "    rating difficulty  students_enrolled  \n",
       "2      4.9      Mixed          2500000.0  \n",
       "11     4.9   Beginner           240000.0  \n",
       "14     4.8   Beginner           470000.0  \n",
       "29     4.9   Beginner           270000.0  \n",
       "81     4.8   Beginner           120000.0  "
      ]
     },
     "execution_count": 288,
     "metadata": {},
     "output_type": "execute_result"
    }
   ],
   "source": [
    "# How the certificates types and difficulties of the courses are distributed for the top organizations\n",
    "top_org_coursera = df[df['organization'].isin(top_organizations.index)]\n",
    "top_org_coursera.head()"
   ]
  },
  {
   "cell_type": "code",
   "execution_count": 289,
   "id": "47b7c25b",
   "metadata": {},
   "outputs": [
    {
     "data": {
      "image/png": "[encoded data removed]",
      "text/plain": [
       "<Figure size 576x288 with 1 Axes>"
      ]
     },
     "metadata": {},
     "output_type": "display_data"
    }
   ],
   "source": [
    "# Visualizing certificates and difficulties level for the top 10 courses\n",
    "sns.set(rc={'figure.figsize':(8, 4), 'axes.facecolor':'whitesmoke',})\n",
    "sns.countplot(data=top_org_coursera, \n",
    "              x='certificate_type', palette=\"pastel\",\n",
    "              hue='difficulty').set(title=\"\"\"\n",
    "              Distribution of Certificates Type and difficulty based on the top organizations\n",
    "              \"\"\")\n",
    "\n",
    "# Place legend to the right\n",
    "plt.legend(loc='upper right', bbox_to_anchor=(1.2, 1.0))\n",
    "fig.tight_layout()\n",
    "plt.show()"
   ]
  },
  {
   "cell_type": "markdown",
   "id": "6accbbe1",
   "metadata": {},
   "source": [
    "### Conclusions"
   ]
  },
  {
   "cell_type": "markdown",
   "id": "e1c91b52",
   "metadata": {},
   "source": [
    "In conclusion, our analysis of the Coursera courses dataset revealed that the platform is mainly focused on offering beginner-level courses, and most of the certificates offered are general completion certificates. \n",
    "\n",
    "However, we also observed that the courses tend to have high ratings, with the majority of courses ranging between 4.6 and 4.8 on a scale of 1 to 5. This indicates that despite the beginner focus, the courses are generally well-received by students. \n",
    "\n",
    "In terms of enrollment, we found a right-skewed distribution in the number of students enrolled, with only a few courses having significantly more students than the rest of the data points. \n",
    "\n",
    "In summary, our analysis reveals that Coursera is a platform that places a strong emphasis on introductory content and beginner-level courses, but it also offers high-quality courses that are well-regarded by users. Nonetheless, we found that there are relatively few courses classified as advanced-level, which suggests that individuals seeking more advanced content may need to look elsewhere."
   ]
  },
  {
   "cell_type": "markdown",
   "id": "2cba56ac",
   "metadata": {},
   "source": [
    "#### How would I improve my analysis?"
   ]
  },
  {
   "cell_type": "markdown",
   "id": "0b4885ea",
   "metadata": {},
   "source": [
    "While our analysis of the Coursera courses dataset provided valuable insights, there are several ways in which we could further improve our understanding of the platform and its users. For example, one way we could enhance our analysis is by requesting the course prices and exploring how they affect the students enrolled and the ratings behavior. It would be interesting to see if courses with higher prices tend to have lower enrollments and ratings, or if there is no correlation.\n",
    "\n",
    "Another potential area is the distribution of courses by category. For instance, we could request a course category type to better understand the distribution of courses in tech and courses in well-being, and whether there are any patterns in the ratings and enrollments of these categories.\n",
    "\n",
    "In addition, we could investigate whether Coursera is a good platform for language courses. By filtering the dataset to include only language courses, we could examine the enrollment and rating behavior for these courses specifically, and see how they compare to other courses in the dataset.\n",
    "\n",
    "Another interesting question to explore would be how many of the people who enroll in Coursera courses actually finish them. We could request completion data and see what percentage of students who enroll complete the course, and how this varies by course difficulty, type of certificate, and other factors.\n",
    "\n",
    "Finally, we could investigate the reasons why some students do not complete courses. By analyzing data on where students drop off in a course and why they do so, we could gain insights into how to design courses that better meet the needs of Coursera users"
   ]
  }
 ],
 "metadata": {
  "kernelspec": {
   "display_name": "Python 3 (ipykernel)",
   "language": "python",
   "name": "python3"
  },
  "language_info": {
   "codemirror_mode": {
    "name": "ipython",
    "version": 3
   },
   "file_extension": ".py",
   "mimetype": "text/x-python",
   "name": "python",
   "nbconvert_exporter": "python",
   "pygments_lexer": "ipython3",
   "version": "3.9.12"
  }
 },
 "nbformat": 4,
 "nbformat_minor": 5
}
