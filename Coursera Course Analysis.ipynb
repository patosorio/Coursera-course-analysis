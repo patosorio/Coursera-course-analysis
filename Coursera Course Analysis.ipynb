{
 "cells": [
  {
   "cell_type": "markdown",
   "id": "7d63b94c",
   "metadata": {},
   "source": [
    "# Coursera Course Analysis"
   ]
  },
  {
   "cell_type": "markdown",
   "id": "432b9f2e",
   "metadata": {},
   "source": [
    "- Which are the highest rated courses, is there any correlation with the students enrolled?\n",
    "- Which organizations have more courses\n",
    "- Which organizations has more ratings\n",
    "- What's the average rating per organization, which organization have more ratings and more students enrolled?\n",
    "- How many different coursers are there?\n",
    "- How is the difficulty relevant?"
   ]
  },
  {
   "cell_type": "code",
   "execution_count": 168,
   "id": "b9070aba",
   "metadata": {},
   "outputs": [
    {
     "data": {
      "text/html": [
       "<div>\n",
       "<style scoped>\n",
       "    .dataframe tbody tr th:only-of-type {\n",
       "        vertical-align: middle;\n",
       "    }\n",
       "\n",
       "    .dataframe tbody tr th {\n",
       "        vertical-align: top;\n",
       "    }\n",
       "\n",
       "    .dataframe thead th {\n",
       "        text-align: right;\n",
       "    }\n",
       "</style>\n",
       "<table border=\"1\" class=\"dataframe\">\n",
       "  <thead>\n",
       "    <tr style=\"text-align: right;\">\n",
       "      <th></th>\n",
       "      <th>course_title</th>\n",
       "      <th>course_organization</th>\n",
       "      <th>course_Certificate_type</th>\n",
       "      <th>course_rating</th>\n",
       "      <th>course_difficulty</th>\n",
       "      <th>course_students_enrolled</th>\n",
       "    </tr>\n",
       "  </thead>\n",
       "  <tbody>\n",
       "    <tr>\n",
       "      <th>0</th>\n",
       "      <td>IBM Data Science</td>\n",
       "      <td>IBM</td>\n",
       "      <td>PROFESSIONAL CERTIFICATE</td>\n",
       "      <td>4.6</td>\n",
       "      <td>Beginner</td>\n",
       "      <td>480k</td>\n",
       "    </tr>\n",
       "    <tr>\n",
       "      <th>1</th>\n",
       "      <td>Introduction to Data Science</td>\n",
       "      <td>IBM</td>\n",
       "      <td>SPECIALIZATION</td>\n",
       "      <td>4.6</td>\n",
       "      <td>Beginner</td>\n",
       "      <td>310k</td>\n",
       "    </tr>\n",
       "    <tr>\n",
       "      <th>2</th>\n",
       "      <td>The Science of Well-Being</td>\n",
       "      <td>Yale University</td>\n",
       "      <td>COURSE</td>\n",
       "      <td>4.9</td>\n",
       "      <td>Mixed</td>\n",
       "      <td>2.5m</td>\n",
       "    </tr>\n",
       "    <tr>\n",
       "      <th>3</th>\n",
       "      <td>Python for Everybody</td>\n",
       "      <td>University of Michigan</td>\n",
       "      <td>SPECIALIZATION</td>\n",
       "      <td>4.8</td>\n",
       "      <td>Beginner</td>\n",
       "      <td>1.5m</td>\n",
       "    </tr>\n",
       "    <tr>\n",
       "      <th>4</th>\n",
       "      <td>Google IT Support</td>\n",
       "      <td>Google</td>\n",
       "      <td>PROFESSIONAL CERTIFICATE</td>\n",
       "      <td>4.8</td>\n",
       "      <td>Beginner</td>\n",
       "      <td>350k</td>\n",
       "    </tr>\n",
       "  </tbody>\n",
       "</table>\n",
       "</div>"
      ],
      "text/plain": [
       "                   course_title     course_organization  \\\n",
       "0              IBM Data Science                     IBM   \n",
       "1  Introduction to Data Science                     IBM   \n",
       "2     The Science of Well-Being         Yale University   \n",
       "3          Python for Everybody  University of Michigan   \n",
       "4             Google IT Support                  Google   \n",
       "\n",
       "    course_Certificate_type  course_rating course_difficulty  \\\n",
       "0  PROFESSIONAL CERTIFICATE            4.6          Beginner   \n",
       "1            SPECIALIZATION            4.6          Beginner   \n",
       "2                    COURSE            4.9             Mixed   \n",
       "3            SPECIALIZATION            4.8          Beginner   \n",
       "4  PROFESSIONAL CERTIFICATE            4.8          Beginner   \n",
       "\n",
       "  course_students_enrolled  \n",
       "0                     480k  \n",
       "1                     310k  \n",
       "2                     2.5m  \n",
       "3                     1.5m  \n",
       "4                     350k  "
      ]
     },
     "execution_count": 168,
     "metadata": {},
     "output_type": "execute_result"
    }
   ],
   "source": [
    "# Importing libraries and dataset from Coursera Courses\n",
    "\n",
    "import pandas as pd\n",
    "import numpy as np\n",
    "import matplotlib.pyplot as plt\n",
    "import timeit\n",
    "\n",
    "df = pd.read_csv('sample_data/coursea_data.csv', index_col=0).sort_index()\n",
    "df.head()"
   ]
  },
  {
   "cell_type": "markdown",
   "id": "6b0c9dbd",
   "metadata": {},
   "source": [
    "### Cleaning and basic exploring"
   ]
  },
  {
   "cell_type": "code",
   "execution_count": 169,
   "id": "47870b96",
   "metadata": {},
   "outputs": [
    {
     "data": {
      "text/plain": [
       "Index(['title', 'organization', 'certificate_type', 'rating', 'difficulty',\n",
       "       'students_enrolled'],\n",
       "      dtype='object')"
      ]
     },
     "execution_count": 169,
     "metadata": {},
     "output_type": "execute_result"
    }
   ],
   "source": [
    "# Tidying up dataset column names by removing course since we already defined that this is a coursera \n",
    "# course dataset.\n",
    "\n",
    "df.columns = df.columns.str.replace('course_', '').str.lower()\n",
    "df.columns"
   ]
  },
  {
   "cell_type": "code",
   "execution_count": 170,
   "id": "761657e1",
   "metadata": {},
   "outputs": [
    {
     "name": "stdout",
     "output_type": "stream",
     "text": [
      "This dataset has 891 observations and 6 features.\n"
     ]
    }
   ],
   "source": [
    "print(f'This dataset has {df.shape[0]} observations and {df.shape[1]} features.')"
   ]
  },
  {
   "cell_type": "code",
   "execution_count": 171,
   "id": "96797c26",
   "metadata": {},
   "outputs": [
    {
     "data": {
      "text/plain": [
       "title                False\n",
       "organization         False\n",
       "certificate_type     False\n",
       "rating               False\n",
       "difficulty           False\n",
       "students_enrolled    False\n",
       "dtype: bool"
      ]
     },
     "execution_count": 171,
     "metadata": {},
     "output_type": "execute_result"
    }
   ],
   "source": [
    "# Checking if there is any empty value in the dataset\n",
    "df.isnull().any()"
   ]
  },
  {
   "cell_type": "code",
   "execution_count": 172,
   "id": "6f20b196",
   "metadata": {},
   "outputs": [
    {
     "data": {
      "text/plain": [
       "False"
      ]
     },
     "execution_count": 172,
     "metadata": {},
     "output_type": "execute_result"
    }
   ],
   "source": [
    "# Checking if there is any duplicated in the dataset\n",
    "df.duplicated().any()"
   ]
  },
  {
   "cell_type": "code",
   "execution_count": 173,
   "id": "7b203ed7",
   "metadata": {},
   "outputs": [
    {
     "data": {
      "text/plain": [
       "title                 object\n",
       "organization          object\n",
       "certificate_type      object\n",
       "rating               float64\n",
       "difficulty            object\n",
       "students_enrolled     object\n",
       "dtype: object"
      ]
     },
     "execution_count": 173,
     "metadata": {},
     "output_type": "execute_result"
    }
   ],
   "source": [
    "# Checking each feature datatype to adjust if needed\n",
    "df.dtypes"
   ]
  },
  {
   "cell_type": "code",
   "execution_count": 174,
   "id": "fdd5665e",
   "metadata": {},
   "outputs": [
    {
     "data": {
      "text/plain": [
       "title                 string\n",
       "organization          string\n",
       "certificate_type      string\n",
       "rating               float64\n",
       "difficulty            string\n",
       "students_enrolled     object\n",
       "dtype: object"
      ]
     },
     "execution_count": 174,
     "metadata": {},
     "output_type": "execute_result"
    }
   ],
   "source": [
    "# Most of the columns might have mixed data types. We will work with string datatype for the\n",
    "# storing columns: title, organization, certificate_type and course difficuly.\n",
    "# for the rating and students_enrolled column we need them as floats.\n",
    "\n",
    "df = df.astype({\"title\": 'string', \"organization\": 'string', \"certificate_type\": 'string', \"difficulty\": 'string'})\n",
    "df.dtypes"
   ]
  },
  {
   "cell_type": "code",
   "execution_count": 175,
   "id": "e388b40a",
   "metadata": {},
   "outputs": [
    {
     "data": {
      "text/plain": [
       "<StringArray>\n",
       "['Beginner', 'Mixed', 'Intermediate', 'Advanced']\n",
       "Length: 4, dtype: string"
      ]
     },
     "execution_count": 175,
     "metadata": {},
     "output_type": "execute_result"
    }
   ],
   "source": [
    "# Exploring Certificate_type and course_difficulty column to assure there's not wrong values\n",
    "df['difficulty'].unique()"
   ]
  },
  {
   "cell_type": "code",
   "execution_count": 176,
   "id": "bdd0b1bb",
   "metadata": {},
   "outputs": [
    {
     "data": {
      "text/plain": [
       "<StringArray>\n",
       "['PROFESSIONAL CERTIFICATE', 'SPECIALIZATION', 'COURSE']\n",
       "Length: 3, dtype: string"
      ]
     },
     "execution_count": 176,
     "metadata": {},
     "output_type": "execute_result"
    }
   ],
   "source": [
    "df['certificate_type'].unique()"
   ]
  },
  {
   "cell_type": "code",
   "execution_count": 177,
   "id": "c1475de7",
   "metadata": {},
   "outputs": [
    {
     "data": {
      "text/plain": [
       "0      480k\n",
       "1      310k\n",
       "2      2.5m\n",
       "3      1.5m\n",
       "4      350k\n",
       "       ... \n",
       "886     11k\n",
       "887     33k\n",
       "888    6.6k\n",
       "889     45k\n",
       "890    6.4k\n",
       "Name: students_enrolled, Length: 891, dtype: object"
      ]
     },
     "execution_count": 177,
     "metadata": {},
     "output_type": "execute_result"
    }
   ],
   "source": [
    "# Exploring students_enrolled column to convert all to floats\n",
    "df['students_enrolled']"
   ]
  },
  {
   "cell_type": "code",
   "execution_count": 178,
   "id": "4618e359",
   "metadata": {},
   "outputs": [
    {
     "data": {
      "text/plain": [
       "0       480000.0\n",
       "1       310000.0\n",
       "2      2500000.0\n",
       "3      1500000.0\n",
       "4       350000.0\n",
       "         ...    \n",
       "886      11000.0\n",
       "887      33000.0\n",
       "888       6600.0\n",
       "889      45000.0\n",
       "890       6400.0\n",
       "Name: students_enrolled, Length: 891, dtype: float64"
      ]
     },
     "execution_count": 178,
     "metadata": {},
     "output_type": "execute_result"
    }
   ],
   "source": [
    "# Function that takes number of students enrolled variable and check's if there's an m or a x and if there is \n",
    "# converts the value to digit\n",
    "def value_to_float(x):\n",
    "    if type(x) == float or type(x) == int:\n",
    "        return x\n",
    "    if 'm' in x:\n",
    "        if len(x) > 1:\n",
    "            return float(x.replace('m', '')) * 1000000\n",
    "        return 1000000.0\n",
    "    if 'k' in x:\n",
    "        if len(x) > 1:\n",
    "            return float(x.replace('k', '')) * 1000\n",
    "        return 1000.0\n",
    "\n",
    "\n",
    "# Applying the function to the students enrolled column.\n",
    "df['students_enrolled'] = df['students_enrolled'].apply(value_to_float)\n",
    "df['students_enrolled']"
   ]
  },
  {
   "cell_type": "code",
   "execution_count": 210,
   "id": "96cd9083",
   "metadata": {},
   "outputs": [
    {
     "data": {
      "image/png": "[encoded data removed]",
      "text/plain": [
       "<Figure size 360x360 with 1 Axes>"
      ]
     },
     "metadata": {},
     "output_type": "display_data"
    }
   ],
   "source": [
    "# Checking the distribution of the data for rating and students_enrolled\n",
    "plt.figure(figsize=(5,5))\n",
    "plt.boxplot(df['rating'])\n",
    "plt.show()"
   ]
  },
  {
   "cell_type": "code",
   "execution_count": 211,
   "id": "bb8a49ea",
   "metadata": {},
   "outputs": [
    {
     "data": {
      "image/png": "[encoded data removed]",
      "text/plain": [
       "<Figure size 576x288 with 1 Axes>"
      ]
     },
     "metadata": {},
     "output_type": "display_data"
    }
   ],
   "source": [
    "plt.hist(df['rating'], bins=10, alpha=0.5,\n",
    "        color='steelblue', edgecolor='none');"
   ]
  },
  {
   "cell_type": "markdown",
   "id": "cc18c76b",
   "metadata": {},
   "source": [
    "Most of the courses are rated between 4.50 and 5"
   ]
  },
  {
   "cell_type": "code",
   "execution_count": 212,
   "id": "e13b4dd3",
   "metadata": {},
   "outputs": [
    {
     "name": "stdout",
     "output_type": "stream",
     "text": [
      "Only 17 courses out of 885 are under 4.25 rating points\n"
     ]
    }
   ],
   "source": [
    "print(f\"Only {len(df[df['rating'] < 4.25])} courses out of {len(df)} are under 4.25 rating points\")"
   ]
  },
  {
   "cell_type": "code",
   "execution_count": 213,
   "id": "b59e8157",
   "metadata": {},
   "outputs": [
    {
     "data": {
      "image/png": "[encoded data removed]",
      "text/plain": [
       "<Figure size 360x360 with 1 Axes>"
      ]
     },
     "metadata": {},
     "output_type": "display_data"
    }
   ],
   "source": [
    "# Let's observe how the data for the students enrolled is distributed\n",
    "plt.figure(figsize=(5,5))\n",
    "plt.boxplot(df['students_enrolled'])\n",
    "plt.show()"
   ]
  },
  {
   "cell_type": "code",
   "execution_count": 214,
   "id": "31a52548",
   "metadata": {},
   "outputs": [],
   "source": [
    "# Most of the courses has less than 250.000 students enrolled. Not considering courses above 250.000 students\n",
    "# enrolled an outlier, those courses are the ones that has more students enrolled. "
   ]
  },
  {
   "cell_type": "code",
   "execution_count": 215,
   "id": "8f6fc42f",
   "metadata": {},
   "outputs": [
    {
     "name": "stdout",
     "output_type": "stream",
     "text": [
      "819 courses are under 250.000 students enrolled\n"
     ]
    }
   ],
   "source": [
    "print(f\"{len(df[df['students_enrolled'] < 250000])} courses are under 250.000 students enrolled\")"
   ]
  },
  {
   "cell_type": "code",
   "execution_count": 216,
   "id": "7a1f2bd6",
   "metadata": {},
   "outputs": [
    {
     "data": {
      "text/html": [
       "<div>\n",
       "<style scoped>\n",
       "    .dataframe tbody tr th:only-of-type {\n",
       "        vertical-align: middle;\n",
       "    }\n",
       "\n",
       "    .dataframe tbody tr th {\n",
       "        vertical-align: top;\n",
       "    }\n",
       "\n",
       "    .dataframe thead th {\n",
       "        text-align: right;\n",
       "    }\n",
       "</style>\n",
       "<table border=\"1\" class=\"dataframe\">\n",
       "  <thead>\n",
       "    <tr style=\"text-align: right;\">\n",
       "      <th></th>\n",
       "      <th>title</th>\n",
       "      <th>organization</th>\n",
       "      <th>certificate_type</th>\n",
       "      <th>rating</th>\n",
       "      <th>difficulty</th>\n",
       "      <th>students_enrolled</th>\n",
       "    </tr>\n",
       "  </thead>\n",
       "  <tbody>\n",
       "    <tr>\n",
       "      <th>0</th>\n",
       "      <td>IBM Data Science</td>\n",
       "      <td>IBM</td>\n",
       "      <td>PROFESSIONAL CERTIFICATE</td>\n",
       "      <td>4.6</td>\n",
       "      <td>Beginner</td>\n",
       "      <td>480000.0</td>\n",
       "    </tr>\n",
       "    <tr>\n",
       "      <th>1</th>\n",
       "      <td>Introduction to Data Science</td>\n",
       "      <td>IBM</td>\n",
       "      <td>SPECIALIZATION</td>\n",
       "      <td>4.6</td>\n",
       "      <td>Beginner</td>\n",
       "      <td>310000.0</td>\n",
       "    </tr>\n",
       "    <tr>\n",
       "      <th>5</th>\n",
       "      <td>Deep Learning</td>\n",
       "      <td>deeplearning.ai</td>\n",
       "      <td>SPECIALIZATION</td>\n",
       "      <td>4.8</td>\n",
       "      <td>Intermediate</td>\n",
       "      <td>690000.0</td>\n",
       "    </tr>\n",
       "    <tr>\n",
       "      <th>7</th>\n",
       "      <td>Business Foundations</td>\n",
       "      <td>University of Pennsylvania</td>\n",
       "      <td>SPECIALIZATION</td>\n",
       "      <td>4.7</td>\n",
       "      <td>Beginner</td>\n",
       "      <td>510000.0</td>\n",
       "    </tr>\n",
       "    <tr>\n",
       "      <th>9</th>\n",
       "      <td>Cloud Engineering with Google Cloud</td>\n",
       "      <td>Google Cloud</td>\n",
       "      <td>PROFESSIONAL CERTIFICATE</td>\n",
       "      <td>4.7</td>\n",
       "      <td>Intermediate</td>\n",
       "      <td>310000.0</td>\n",
       "    </tr>\n",
       "  </tbody>\n",
       "</table>\n",
       "</div>"
      ],
      "text/plain": [
       "                                 title                organization  \\\n",
       "0                     IBM Data Science                         IBM   \n",
       "1         Introduction to Data Science                         IBM   \n",
       "5                        Deep Learning             deeplearning.ai   \n",
       "7                 Business Foundations  University of Pennsylvania   \n",
       "9  Cloud Engineering with Google Cloud                Google Cloud   \n",
       "\n",
       "           certificate_type  rating    difficulty  students_enrolled  \n",
       "0  PROFESSIONAL CERTIFICATE     4.6      Beginner           480000.0  \n",
       "1            SPECIALIZATION     4.6      Beginner           310000.0  \n",
       "5            SPECIALIZATION     4.8  Intermediate           690000.0  \n",
       "7            SPECIALIZATION     4.7      Beginner           510000.0  \n",
       "9  PROFESSIONAL CERTIFICATE     4.7  Intermediate           310000.0  "
      ]
     },
     "execution_count": 216,
     "metadata": {},
     "output_type": "execute_result"
    }
   ],
   "source": [
    "# Let's quick check which courses are over 250.000 students enrolled\n",
    "df[df['students_enrolled'] > 250000].head()"
   ]
  },
  {
   "cell_type": "code",
   "execution_count": 217,
   "id": "d9c0ad2f",
   "metadata": {},
   "outputs": [
    {
     "name": "stdout",
     "output_type": "stream",
     "text": [
      " There's 4 types of difficulty level and 3 types of certificates\n"
     ]
    }
   ],
   "source": [
    "print(f\" There's {len(df['difficulty'].unique())} types of difficulty level and {len(df['certificate_type'].unique())} types of certificates\")"
   ]
  },
  {
   "cell_type": "code",
   "execution_count": 218,
   "id": "8421b179",
   "metadata": {},
   "outputs": [
    {
     "data": {
      "text/html": [
       "<div>\n",
       "<style scoped>\n",
       "    .dataframe tbody tr th:only-of-type {\n",
       "        vertical-align: middle;\n",
       "    }\n",
       "\n",
       "    .dataframe tbody tr th {\n",
       "        vertical-align: top;\n",
       "    }\n",
       "\n",
       "    .dataframe thead th {\n",
       "        text-align: right;\n",
       "    }\n",
       "</style>\n",
       "<table border=\"1\" class=\"dataframe\">\n",
       "  <thead>\n",
       "    <tr style=\"text-align: right;\">\n",
       "      <th></th>\n",
       "      <th>title</th>\n",
       "      <th>organization</th>\n",
       "      <th>certificate_type</th>\n",
       "      <th>rating</th>\n",
       "      <th>difficulty</th>\n",
       "      <th>students_enrolled</th>\n",
       "    </tr>\n",
       "  </thead>\n",
       "  <tbody>\n",
       "    <tr>\n",
       "      <th>0</th>\n",
       "      <td>IBM Data Science</td>\n",
       "      <td>IBM</td>\n",
       "      <td>PROFESSIONAL CERTIFICATE</td>\n",
       "      <td>4.6</td>\n",
       "      <td>Beginner</td>\n",
       "      <td>480000.0</td>\n",
       "    </tr>\n",
       "    <tr>\n",
       "      <th>1</th>\n",
       "      <td>Introduction to Data Science</td>\n",
       "      <td>IBM</td>\n",
       "      <td>SPECIALIZATION</td>\n",
       "      <td>4.6</td>\n",
       "      <td>Beginner</td>\n",
       "      <td>310000.0</td>\n",
       "    </tr>\n",
       "    <tr>\n",
       "      <th>5</th>\n",
       "      <td>Deep Learning</td>\n",
       "      <td>deeplearning.ai</td>\n",
       "      <td>SPECIALIZATION</td>\n",
       "      <td>4.8</td>\n",
       "      <td>Intermediate</td>\n",
       "      <td>690000.0</td>\n",
       "    </tr>\n",
       "    <tr>\n",
       "      <th>7</th>\n",
       "      <td>Business Foundations</td>\n",
       "      <td>University of Pennsylvania</td>\n",
       "      <td>SPECIALIZATION</td>\n",
       "      <td>4.7</td>\n",
       "      <td>Beginner</td>\n",
       "      <td>510000.0</td>\n",
       "    </tr>\n",
       "    <tr>\n",
       "      <th>9</th>\n",
       "      <td>Cloud Engineering with Google Cloud</td>\n",
       "      <td>Google Cloud</td>\n",
       "      <td>PROFESSIONAL CERTIFICATE</td>\n",
       "      <td>4.7</td>\n",
       "      <td>Intermediate</td>\n",
       "      <td>310000.0</td>\n",
       "    </tr>\n",
       "  </tbody>\n",
       "</table>\n",
       "</div>"
      ],
      "text/plain": [
       "                                 title                organization  \\\n",
       "0                     IBM Data Science                         IBM   \n",
       "1         Introduction to Data Science                         IBM   \n",
       "5                        Deep Learning             deeplearning.ai   \n",
       "7                 Business Foundations  University of Pennsylvania   \n",
       "9  Cloud Engineering with Google Cloud                Google Cloud   \n",
       "\n",
       "           certificate_type  rating    difficulty  students_enrolled  \n",
       "0  PROFESSIONAL CERTIFICATE     4.6      Beginner           480000.0  \n",
       "1            SPECIALIZATION     4.6      Beginner           310000.0  \n",
       "5            SPECIALIZATION     4.8  Intermediate           690000.0  \n",
       "7            SPECIALIZATION     4.7      Beginner           510000.0  \n",
       "9  PROFESSIONAL CERTIFICATE     4.7  Intermediate           310000.0  "
      ]
     },
     "execution_count": 218,
     "metadata": {},
     "output_type": "execute_result"
    }
   ],
   "source": [
    "# Printing final cleaned dataframe for our analysis\n",
    "df.head()"
   ]
  },
  {
   "cell_type": "markdown",
   "id": "95c9f5dd",
   "metadata": {},
   "source": [
    "## Exploring further the data and visualizing some relevant data\n",
    "\n",
    "\n",
    "\n",
    "- General description of ratings and students enrolled columns.\n",
    "\n",
    "- Which courses has more students enrolled, and what can we say about the ratings?"
   ]
  },
  {
   "cell_type": "code",
   "execution_count": 219,
   "id": "4c2cb646",
   "metadata": {},
   "outputs": [
    {
     "data": {
      "text/plain": [
       "count    885.000000\n",
       "mean       4.676723\n",
       "std        0.162282\n",
       "min        3.300000\n",
       "25%        4.600000\n",
       "50%        4.700000\n",
       "75%        4.800000\n",
       "max        5.000000\n",
       "Name: rating, dtype: float64"
      ]
     },
     "execution_count": 219,
     "metadata": {},
     "output_type": "execute_result"
    }
   ],
   "source": [
    "# We will describe the values in the rating column\n",
    "df['rating'].describe()"
   ]
  },
  {
   "cell_type": "code",
   "execution_count": 220,
   "id": "c34279e2",
   "metadata": {},
   "outputs": [
    {
     "data": {
      "text/plain": [
       "0    4.8\n",
       "Name: rating, dtype: float64"
      ]
     },
     "execution_count": 220,
     "metadata": {},
     "output_type": "execute_result"
    }
   ],
   "source": [
    "# We will describe the most frequent rating value\n",
    "df['rating'].mode()"
   ]
  },
  {
   "cell_type": "markdown",
   "id": "a6c22454",
   "metadata": {},
   "source": [
    "The minimum rating course is 3.30 points and the maximum possible rating points is 5.0.\n",
    "75% of the courses has 4.8 points of ratings, those with more students enrolled has rating points of 4.8 or above.\n",
    "Most of the courses has a 4.8 rating."
   ]
  },
  {
   "cell_type": "code",
   "execution_count": 221,
   "id": "8db952ce",
   "metadata": {},
   "outputs": [
    {
     "data": {
      "image/png": "[encoded data removed]",
      "text/plain": [
       "<Figure size 576x288 with 2 Axes>"
      ]
     },
     "metadata": {},
     "output_type": "display_data"
    }
   ],
   "source": [
    "# Visualizing the distribution of the ratings data\n",
    "\n",
    "plt.figure()\n",
    "plt.subplot(1, 2, 1)\n",
    "hist_ratings = df['rating'].values\n",
    "plt.hist(hist_ratings, 10)\n",
    "plt.xlabel('Ratings')\n",
    "plt.ylabel('# of Courses')\n",
    "plt.grid(True)\n",
    "ax = plt.gca()\n",
    "ax.axis([3.30, 5.0, 0, 550])\n",
    "\n",
    "# Visualizing the distribution of the students enrolled data\n",
    "\n",
    "plt.subplot(1, 2, 2)\n",
    "hist_students = df['students_enrolled'].values\n",
    "plt.hist(hist_students, 50)\n",
    "plt.xlabel('Students Enrolled')\n",
    "plt.ylabel('# of Courses')\n",
    "plt.grid(True)\n",
    "ax = plt.gca()\n",
    "ax.axis([df['students_enrolled'].min(), df['students_enrolled'].max(), 0, 600])\n",
    "plt.show()"
   ]
  },
  {
   "cell_type": "markdown",
   "id": "eab89676",
   "metadata": {},
   "source": [
    "Most of the courses fall between the 4.60 and 4.90 rating points, and the vast majority of courses has less than 250.000 students enrolled."
   ]
  },
  {
   "cell_type": "code",
   "execution_count": 222,
   "id": "96ace68f",
   "metadata": {},
   "outputs": [
    {
     "data": {
      "text/plain": [
       "count    8.850000e+02\n",
       "mean     8.223944e+04\n",
       "std      1.157913e+05\n",
       "min      1.500000e+03\n",
       "25%      1.700000e+04\n",
       "50%      4.200000e+04\n",
       "75%      9.700000e+04\n",
       "max      1.300000e+06\n",
       "Name: students_enrolled, dtype: float64"
      ]
     },
     "execution_count": 222,
     "metadata": {},
     "output_type": "execute_result"
    }
   ],
   "source": [
    "# We will describe the values in the enrolled students column\n",
    "df['students_enrolled'].describe()"
   ]
  },
  {
   "cell_type": "code",
   "execution_count": 223,
   "id": "04d3abb6",
   "metadata": {},
   "outputs": [
    {
     "data": {
      "text/plain": [
       "count    885.000000\n",
       "mean       4.676723\n",
       "std        0.162282\n",
       "min        3.300000\n",
       "25%        4.600000\n",
       "50%        4.700000\n",
       "75%        4.800000\n",
       "max        5.000000\n",
       "Name: rating, dtype: float64"
      ]
     },
     "execution_count": 223,
     "metadata": {},
     "output_type": "execute_result"
    }
   ],
   "source": [
    "# We will describe the values in the enrolled students column\n",
    "df['rating'].describe()"
   ]
  },
  {
   "cell_type": "markdown",
   "id": "03ed2db6",
   "metadata": {},
   "source": [
    "Most of the courses has around 99.500 students enrolled and most of the courses has ratings around 4.8\n"
   ]
  },
  {
   "cell_type": "code",
   "execution_count": 224,
   "id": "2a317ad9",
   "metadata": {},
   "outputs": [
    {
     "data": {
      "text/plain": [
       "Text(0.5, 1.0, 'Correlation between ratings and students enrolled')"
      ]
     },
     "execution_count": 224,
     "metadata": {},
     "output_type": "execute_result"
    },
    {
     "data": {
      "image/png": "[encoded data removed]",
      "text/plain": [
       "<Figure size 360x360 with 2 Axes>"
      ]
     },
     "metadata": {},
     "output_type": "display_data"
    }
   ],
   "source": [
    "import seaborn as sns\n",
    "\n",
    "correlation = df.corr()\n",
    "correlation\n",
    "plt.figure(figsize=(5,5))\n",
    "sns.heatmap(correlation, annot=True, linewidths=.5).set_title('Features correlation')\n",
    "plt.title('Correlation between ratings and students enrolled')"
   ]
  },
  {
   "cell_type": "code",
   "execution_count": 225,
   "id": "71113996",
   "metadata": {},
   "outputs": [
    {
     "data": {
      "text/plain": [
       "Text(0.5, 1.0, 'Correlation between ratings and students enrolled')"
      ]
     },
     "execution_count": 225,
     "metadata": {},
     "output_type": "execute_result"
    },
    {
     "data": {
      "image/png": "[encoded data removed]",
      "text/plain": [
       "<Figure size 360x216 with 1 Axes>"
      ]
     },
     "metadata": {},
     "output_type": "display_data"
    }
   ],
   "source": [
    "# Let's go further visualizing correlation with a scatter plot\n",
    "\n",
    "y = np.array([df['rating']])\n",
    "x = np.array([df['students_enrolled']])\n",
    "\n",
    "plt.figure(figsize=(5,3))\n",
    "plt.scatter(x, y)\n",
    "plt.xlabel(\"Students Enrolled\")\n",
    "plt.ylabel(\"Ratings\")\n",
    "plt.title('Correlation between ratings and students enrolled')"
   ]
  },
  {
   "cell_type": "markdown",
   "id": "d601ba3f",
   "metadata": {},
   "source": [
    "The correlation between rating and students_enrolled is very low. The courses with higher number of students enrolled tend to have higher ratings."
   ]
  },
  {
   "cell_type": "markdown",
   "id": "fb82e8ea",
   "metadata": {},
   "source": [
    "## Courses Overview\n",
    "\n",
    "- Which courses has more students enrolled with higher ratings?"
   ]
  },
  {
   "cell_type": "code",
   "execution_count": 226,
   "id": "a938ad15",
   "metadata": {},
   "outputs": [
    {
     "data": {
      "text/html": [
       "<div>\n",
       "<style scoped>\n",
       "    .dataframe tbody tr th:only-of-type {\n",
       "        vertical-align: middle;\n",
       "    }\n",
       "\n",
       "    .dataframe tbody tr th {\n",
       "        vertical-align: top;\n",
       "    }\n",
       "\n",
       "    .dataframe thead th {\n",
       "        text-align: right;\n",
       "    }\n",
       "</style>\n",
       "<table border=\"1\" class=\"dataframe\">\n",
       "  <thead>\n",
       "    <tr style=\"text-align: right;\">\n",
       "      <th></th>\n",
       "      <th>title</th>\n",
       "      <th>organization</th>\n",
       "      <th>certificate_type</th>\n",
       "      <th>rating</th>\n",
       "      <th>difficulty</th>\n",
       "      <th>students_enrolled</th>\n",
       "    </tr>\n",
       "  </thead>\n",
       "  <tbody>\n",
       "    <tr>\n",
       "      <th>62</th>\n",
       "      <td>Neural Networks and Deep Learning</td>\n",
       "      <td>deeplearning.ai</td>\n",
       "      <td>COURSE</td>\n",
       "      <td>4.9</td>\n",
       "      <td>Intermediate</td>\n",
       "      <td>630000.0</td>\n",
       "    </tr>\n",
       "    <tr>\n",
       "      <th>111</th>\n",
       "      <td>Python Data Structures</td>\n",
       "      <td>University of Michigan</td>\n",
       "      <td>COURSE</td>\n",
       "      <td>4.9</td>\n",
       "      <td>Mixed</td>\n",
       "      <td>420000.0</td>\n",
       "    </tr>\n",
       "    <tr>\n",
       "      <th>113</th>\n",
       "      <td>First Step Korean</td>\n",
       "      <td>Yonsei University</td>\n",
       "      <td>COURSE</td>\n",
       "      <td>4.9</td>\n",
       "      <td>Beginner</td>\n",
       "      <td>400000.0</td>\n",
       "    </tr>\n",
       "    <tr>\n",
       "      <th>29</th>\n",
       "      <td>Introduction to Psychology</td>\n",
       "      <td>Yale University</td>\n",
       "      <td>COURSE</td>\n",
       "      <td>4.9</td>\n",
       "      <td>Beginner</td>\n",
       "      <td>270000.0</td>\n",
       "    </tr>\n",
       "    <tr>\n",
       "      <th>123</th>\n",
       "      <td>Improving Deep Neural Networks: Hyperparameter...</td>\n",
       "      <td>deeplearning.ai</td>\n",
       "      <td>COURSE</td>\n",
       "      <td>4.9</td>\n",
       "      <td>Beginner</td>\n",
       "      <td>270000.0</td>\n",
       "    </tr>\n",
       "    <tr>\n",
       "      <th>11</th>\n",
       "      <td>Excel Skills for Business</td>\n",
       "      <td>Macquarie University</td>\n",
       "      <td>SPECIALIZATION</td>\n",
       "      <td>4.9</td>\n",
       "      <td>Beginner</td>\n",
       "      <td>240000.0</td>\n",
       "    </tr>\n",
       "    <tr>\n",
       "      <th>207</th>\n",
       "      <td>Convolutional Neural Networks</td>\n",
       "      <td>deeplearning.ai</td>\n",
       "      <td>COURSE</td>\n",
       "      <td>4.9</td>\n",
       "      <td>Intermediate</td>\n",
       "      <td>240000.0</td>\n",
       "    </tr>\n",
       "    <tr>\n",
       "      <th>21</th>\n",
       "      <td>COVID-19 Contact Tracing</td>\n",
       "      <td>Johns Hopkins University</td>\n",
       "      <td>COURSE</td>\n",
       "      <td>4.9</td>\n",
       "      <td>Beginner</td>\n",
       "      <td>220000.0</td>\n",
       "    </tr>\n",
       "    <tr>\n",
       "      <th>106</th>\n",
       "      <td>Become a CBRS Certified Professional Installer...</td>\n",
       "      <td>Google - Spectrum Sharing</td>\n",
       "      <td>COURSE</td>\n",
       "      <td>4.9</td>\n",
       "      <td>Mixed</td>\n",
       "      <td>210000.0</td>\n",
       "    </tr>\n",
       "    <tr>\n",
       "      <th>92</th>\n",
       "      <td>Excel Skills for Business: Essentials</td>\n",
       "      <td>Macquarie University</td>\n",
       "      <td>COURSE</td>\n",
       "      <td>4.9</td>\n",
       "      <td>Beginner</td>\n",
       "      <td>200000.0</td>\n",
       "    </tr>\n",
       "  </tbody>\n",
       "</table>\n",
       "</div>"
      ],
      "text/plain": [
       "                                                 title  \\\n",
       "62                   Neural Networks and Deep Learning   \n",
       "111                             Python Data Structures   \n",
       "113                                  First Step Korean   \n",
       "29                          Introduction to Psychology   \n",
       "123  Improving Deep Neural Networks: Hyperparameter...   \n",
       "11                           Excel Skills for Business   \n",
       "207                      Convolutional Neural Networks   \n",
       "21                            COVID-19 Contact Tracing   \n",
       "106  Become a CBRS Certified Professional Installer...   \n",
       "92               Excel Skills for Business: Essentials   \n",
       "\n",
       "                  organization certificate_type  rating    difficulty  \\\n",
       "62             deeplearning.ai           COURSE     4.9  Intermediate   \n",
       "111     University of Michigan           COURSE     4.9         Mixed   \n",
       "113          Yonsei University           COURSE     4.9      Beginner   \n",
       "29             Yale University           COURSE     4.9      Beginner   \n",
       "123            deeplearning.ai           COURSE     4.9      Beginner   \n",
       "11        Macquarie University   SPECIALIZATION     4.9      Beginner   \n",
       "207            deeplearning.ai           COURSE     4.9  Intermediate   \n",
       "21    Johns Hopkins University           COURSE     4.9      Beginner   \n",
       "106  Google - Spectrum Sharing           COURSE     4.9         Mixed   \n",
       "92        Macquarie University           COURSE     4.9      Beginner   \n",
       "\n",
       "     students_enrolled  \n",
       "62            630000.0  \n",
       "111           420000.0  \n",
       "113           400000.0  \n",
       "29            270000.0  \n",
       "123           270000.0  \n",
       "11            240000.0  \n",
       "207           240000.0  \n",
       "21            220000.0  \n",
       "106           210000.0  \n",
       "92            200000.0  "
      ]
     },
     "execution_count": 226,
     "metadata": {},
     "output_type": "execute_result"
    }
   ],
   "source": [
    "# Checking top courses as per higher number of students enrolled and highest ratings\n",
    "top_courses = df[df['rating'] >= 4.9].sort_values(by='students_enrolled', ascending=False).head(10)\n",
    "top_courses"
   ]
  },
  {
   "cell_type": "code",
   "execution_count": 227,
   "id": "399685c8",
   "metadata": {},
   "outputs": [
    {
     "data": {
      "text/plain": [
       "<matplotlib.legend.Legend at 0x7f97c1ce7280>"
      ]
     },
     "execution_count": 227,
     "metadata": {},
     "output_type": "execute_result"
    },
    {
     "data": {
      "image/png": "[encoded data removed]",
      "text/plain": [
       "<Figure size 576x288 with 1 Axes>"
      ]
     },
     "metadata": {},
     "output_type": "display_data"
    }
   ],
   "source": [
    "# Visualizing certificates and difficulties level for the top 10 courses based on high ratings and max\n",
    "# number of students enrolled\n",
    "\n",
    "\n",
    "sns.set(rc={'figure.figsize':(8, 4), 'axes.facecolor':'whitesmoke',})\n",
    "sns.countplot(data=top_courses, \n",
    "              x='certificate_type', palette=\"pastel\",\n",
    "              hue='difficulty').set(title=\"Certificates Type and Difficulty count based on the top 10 courses\")\n",
    "\n",
    "# Place legend to the right\n",
    "plt.legend(loc='upper right')"
   ]
  },
  {
   "cell_type": "markdown",
   "id": "8acd9fae",
   "metadata": {},
   "source": [
    "The most rated courses with higher number of students enroll tend to be COURSES certificate type with a variety of difficulty levels, but mostly beginner courses. The only top specialization is for beginners."
   ]
  },
  {
   "cell_type": "code",
   "execution_count": 228,
   "id": "6e782592",
   "metadata": {},
   "outputs": [
    {
     "data": {
      "text/html": [
       "<div>\n",
       "<style scoped>\n",
       "    .dataframe tbody tr th:only-of-type {\n",
       "        vertical-align: middle;\n",
       "    }\n",
       "\n",
       "    .dataframe tbody tr th {\n",
       "        vertical-align: top;\n",
       "    }\n",
       "\n",
       "    .dataframe thead th {\n",
       "        text-align: right;\n",
       "    }\n",
       "</style>\n",
       "<table border=\"1\" class=\"dataframe\">\n",
       "  <thead>\n",
       "    <tr style=\"text-align: right;\">\n",
       "      <th></th>\n",
       "      <th>title</th>\n",
       "      <th>organization</th>\n",
       "      <th>certificate_type</th>\n",
       "      <th>rating</th>\n",
       "      <th>difficulty</th>\n",
       "      <th>students_enrolled</th>\n",
       "    </tr>\n",
       "  </thead>\n",
       "  <tbody>\n",
       "    <tr>\n",
       "      <th>47</th>\n",
       "      <td>Programming for Everybody (Getting Started wit...</td>\n",
       "      <td>University of Michigan</td>\n",
       "      <td>COURSE</td>\n",
       "      <td>4.8</td>\n",
       "      <td>Mixed</td>\n",
       "      <td>1300000.0</td>\n",
       "    </tr>\n",
       "    <tr>\n",
       "      <th>13</th>\n",
       "      <td>Data Science</td>\n",
       "      <td>Johns Hopkins University</td>\n",
       "      <td>SPECIALIZATION</td>\n",
       "      <td>4.5</td>\n",
       "      <td>Beginner</td>\n",
       "      <td>830000.0</td>\n",
       "    </tr>\n",
       "    <tr>\n",
       "      <th>44</th>\n",
       "      <td>Career Success</td>\n",
       "      <td>University of California, Irvine</td>\n",
       "      <td>SPECIALIZATION</td>\n",
       "      <td>4.4</td>\n",
       "      <td>Beginner</td>\n",
       "      <td>790000.0</td>\n",
       "    </tr>\n",
       "    <tr>\n",
       "      <th>175</th>\n",
       "      <td>English for Career Development</td>\n",
       "      <td>University of Pennsylvania</td>\n",
       "      <td>COURSE</td>\n",
       "      <td>4.8</td>\n",
       "      <td>Mixed</td>\n",
       "      <td>760000.0</td>\n",
       "    </tr>\n",
       "    <tr>\n",
       "      <th>40</th>\n",
       "      <td>Successful Negotiation: Essential Strategies a...</td>\n",
       "      <td>University of Michigan</td>\n",
       "      <td>COURSE</td>\n",
       "      <td>4.8</td>\n",
       "      <td>Mixed</td>\n",
       "      <td>750000.0</td>\n",
       "    </tr>\n",
       "    <tr>\n",
       "      <th>15</th>\n",
       "      <td>Data Science: Foundations using R</td>\n",
       "      <td>Johns Hopkins University</td>\n",
       "      <td>SPECIALIZATION</td>\n",
       "      <td>4.6</td>\n",
       "      <td>Beginner</td>\n",
       "      <td>740000.0</td>\n",
       "    </tr>\n",
       "    <tr>\n",
       "      <th>5</th>\n",
       "      <td>Deep Learning</td>\n",
       "      <td>deeplearning.ai</td>\n",
       "      <td>SPECIALIZATION</td>\n",
       "      <td>4.8</td>\n",
       "      <td>Intermediate</td>\n",
       "      <td>690000.0</td>\n",
       "    </tr>\n",
       "    <tr>\n",
       "      <th>62</th>\n",
       "      <td>Neural Networks and Deep Learning</td>\n",
       "      <td>deeplearning.ai</td>\n",
       "      <td>COURSE</td>\n",
       "      <td>4.9</td>\n",
       "      <td>Intermediate</td>\n",
       "      <td>630000.0</td>\n",
       "    </tr>\n",
       "    <tr>\n",
       "      <th>36</th>\n",
       "      <td>Improve Your English Communication Skills</td>\n",
       "      <td>Georgia Institute of Technology</td>\n",
       "      <td>SPECIALIZATION</td>\n",
       "      <td>4.7</td>\n",
       "      <td>Beginner</td>\n",
       "      <td>610000.0</td>\n",
       "    </tr>\n",
       "    <tr>\n",
       "      <th>63</th>\n",
       "      <td>Academic English: Writing</td>\n",
       "      <td>University of California, Irvine</td>\n",
       "      <td>SPECIALIZATION</td>\n",
       "      <td>4.7</td>\n",
       "      <td>Beginner</td>\n",
       "      <td>540000.0</td>\n",
       "    </tr>\n",
       "  </tbody>\n",
       "</table>\n",
       "</div>"
      ],
      "text/plain": [
       "                                                 title  \\\n",
       "47   Programming for Everybody (Getting Started wit...   \n",
       "13                                        Data Science   \n",
       "44                                      Career Success   \n",
       "175                     English for Career Development   \n",
       "40   Successful Negotiation: Essential Strategies a...   \n",
       "15                   Data Science: Foundations using R   \n",
       "5                                        Deep Learning   \n",
       "62                   Neural Networks and Deep Learning   \n",
       "36           Improve Your English Communication Skills   \n",
       "63                           Academic English: Writing   \n",
       "\n",
       "                         organization certificate_type  rating    difficulty  \\\n",
       "47             University of Michigan           COURSE     4.8         Mixed   \n",
       "13           Johns Hopkins University   SPECIALIZATION     4.5      Beginner   \n",
       "44   University of California, Irvine   SPECIALIZATION     4.4      Beginner   \n",
       "175        University of Pennsylvania           COURSE     4.8         Mixed   \n",
       "40             University of Michigan           COURSE     4.8         Mixed   \n",
       "15           Johns Hopkins University   SPECIALIZATION     4.6      Beginner   \n",
       "5                     deeplearning.ai   SPECIALIZATION     4.8  Intermediate   \n",
       "62                    deeplearning.ai           COURSE     4.9  Intermediate   \n",
       "36    Georgia Institute of Technology   SPECIALIZATION     4.7      Beginner   \n",
       "63   University of California, Irvine   SPECIALIZATION     4.7      Beginner   \n",
       "\n",
       "     students_enrolled  \n",
       "47           1300000.0  \n",
       "13            830000.0  \n",
       "44            790000.0  \n",
       "175           760000.0  \n",
       "40            750000.0  \n",
       "15            740000.0  \n",
       "5             690000.0  \n",
       "62            630000.0  \n",
       "36            610000.0  \n",
       "63            540000.0  "
      ]
     },
     "execution_count": 228,
     "metadata": {},
     "output_type": "execute_result"
    }
   ],
   "source": [
    "# What courses has the most students enrolled?\n",
    "top_courses_num_students = df[df['students_enrolled'] >= 100000].sort_values(by='students_enrolled', \n",
    "                                                                             ascending=False).head(10)\n",
    "top_courses_num_students"
   ]
  },
  {
   "cell_type": "code",
   "execution_count": 229,
   "id": "261c534a",
   "metadata": {},
   "outputs": [
    {
     "data": {
      "text/plain": [
       "<matplotlib.legend.Legend at 0x7f97e64af880>"
      ]
     },
     "execution_count": 229,
     "metadata": {},
     "output_type": "execute_result"
    },
    {
     "data": {
      "image/png": "[encoded data removed]",
      "text/plain": [
       "<Figure size 576x288 with 1 Axes>"
      ]
     },
     "metadata": {},
     "output_type": "display_data"
    }
   ],
   "source": [
    "# Visualizing certificates and difficulties level for the top 10 courses based on max\n",
    "# number of students enrolled\n",
    "\n",
    "sns.set(rc={'figure.figsize':(8, 4), 'axes.facecolor':'whitesmoke',})\n",
    "sns.countplot(data=top_courses_num_students, \n",
    "              x='certificate_type', palette=\"pastel\",\n",
    "              hue='difficulty').set(title=\"Certificates Type and difficulty based on the top 10 courses by students enrolled\")\n",
    "\n",
    "# Place legend to the right\n",
    "plt.legend(loc='upper right')"
   ]
  },
  {
   "cell_type": "markdown",
   "id": "60c06173",
   "metadata": {},
   "source": [
    "## Certificate & Difficulty overview\n",
    "\n",
    "- Which type of certificate is more popular?\n",
    "- Which type of certificate students tend to enroll to?\n",
    "\n",
    "\n",
    "- How is the difficulty relevant?\n",
    "- How many types of certificates are there"
   ]
  },
  {
   "cell_type": "code",
   "execution_count": 230,
   "id": "298b927c",
   "metadata": {},
   "outputs": [
    {
     "data": {
      "text/plain": [
       "COURSE                      580\n",
       "SPECIALIZATION              294\n",
       "PROFESSIONAL CERTIFICATE     11\n",
       "Name: certificate_type, dtype: Int64"
      ]
     },
     "execution_count": 230,
     "metadata": {},
     "output_type": "execute_result"
    }
   ],
   "source": [
    "# Let's get some insights from each certificate type and difficulty levels\n",
    "\n",
    "# average ratings per certificate type\n",
    "# average students enrolled per certificate type\n",
    "\n",
    "certificate_count = df['certificate_type'].value_counts()\n",
    "difficulty_count = df['difficulty'].value_counts()\n",
    "certificate_count"
   ]
  },
  {
   "cell_type": "code",
   "execution_count": 231,
   "id": "04bc4164",
   "metadata": {},
   "outputs": [
    {
     "data": {
      "image/png": "[encoded data removed]",
      "text/plain": [
       "<Figure size 576x288 with 3 Axes>"
      ]
     },
     "metadata": {},
     "output_type": "display_data"
    }
   ],
   "source": [
    "# Let's plot the certificates counts, difficulty counts and seaborn countplot \n",
    "# to compare\n",
    "\n",
    "import matplotlib.gridspec as gridspec\n",
    "\n",
    "# Create 2x2 sub plots\n",
    "gs = gridspec.GridSpec(10, 2)\n",
    "\n",
    "plt.figure()\n",
    "ax = plt.subplot(gs[0:4, 0])\n",
    "plt.bar(df['certificate_type'].unique(), certificate_count, width=0.3)\n",
    "plt.xlabel(\"Certifications Type\")\n",
    "plt.ylabel(\"# of Courses\")\n",
    "plt.title(\"Certification types\")\n",
    "\n",
    "ax = plt.subplot(gs[0:4, 1])\n",
    "plt.bar(df['difficulty'].unique(), difficulty_count, width=0.3)\n",
    "plt.xlabel(\"Levels of Difficulty\")\n",
    "plt.ylabel(\"# of Courses\")\n",
    "plt.title(\"Difficulty\")\n",
    "\n",
    "\n",
    "ax = plt.subplot(gs[6:10, :])\n",
    "plt.title(\"Certificates Type and Difficulty count\")\n",
    "sns.set(rc={'figure.figsize':(12, 5)})\n",
    "sns.countplot(data=df, x='certificate_type',hue='difficulty')\n",
    "\n",
    "\n",
    "plt.show()\n",
    "\n",
    "\n",
    "# Plot also difficulty level per each certification type?"
   ]
  },
  {
   "cell_type": "markdown",
   "id": "921f139d",
   "metadata": {},
   "source": [
    "We can see that the most popular certifications are the Courses types and most of them are beginner friendly\n",
    "but also we can observe a high amount of mixed difficulty level.\n",
    "\n",
    "All the Professional certificates are for beginners meanwhile specializations are for beginners or \n",
    "for intermediate students. Only a minority are advanced level."
   ]
  },
  {
   "cell_type": "markdown",
   "id": "4fa58de0",
   "metadata": {},
   "source": [
    "## Organizations overview\n",
    "\n",
    "- How many organizations are doing courses?\n",
    "- What organizations have more courses? and which ones less?\n",
    "- How many courses of each certificate type have each organization?\n",
    "- What's the average rating per organization and which organization have the highest \n",
    "ratings average and more students enrolled? Which one has the lowest students enrolled and have the highest ratings?\n",
    "- Which are the TOP 10 organizations?\n",
    "- Which organizations has more students enrolled?"
   ]
  },
  {
   "cell_type": "code",
   "execution_count": 232,
   "id": "df1c46c8",
   "metadata": {},
   "outputs": [
    {
     "name": "stdout",
     "output_type": "stream",
     "text": [
      " There's 154 organizations that has courses in Coursera\n"
     ]
    }
   ],
   "source": [
    "# How many organizations has courses on Coursera?\n",
    "\n",
    "print(f\" There's {len(df['organization'].unique())} organizations that has courses in Coursera\")"
   ]
  },
  {
   "cell_type": "code",
   "execution_count": 233,
   "id": "c9279f4e",
   "metadata": {},
   "outputs": [
    {
     "data": {
      "text/plain": [
       "University of Pennsylvania                      59\n",
       "University of Michigan                          40\n",
       "Google Cloud                                    34\n",
       "Duke University                                 28\n",
       "Johns Hopkins University                        28\n",
       "                                                ..\n",
       "Bloomsbury Learning Exchange                     1\n",
       "JetBrains                                        1\n",
       "Nanyang Technological University, Singapore      1\n",
       "Royal Holloway, University of London             1\n",
       "American Institute of Business and Economics     1\n",
       "Name: organization, Length: 154, dtype: Int64"
      ]
     },
     "execution_count": 233,
     "metadata": {},
     "output_type": "execute_result"
    }
   ],
   "source": [
    "# What organizations has courses on Coursera\n",
    "\n",
    "org_courses = df['organization'].value_counts().sort_values(ascending=False)\n",
    "org_courses\n"
   ]
  },
  {
   "cell_type": "code",
   "execution_count": 234,
   "id": "247aca8f",
   "metadata": {},
   "outputs": [
    {
     "data": {
      "image/png": "[encoded data removed]",
      "text/plain": [
       "<Figure size 360x360 with 1 Axes>"
      ]
     },
     "metadata": {},
     "output_type": "display_data"
    }
   ],
   "source": [
    "# Let's quick check how the data is distributed with a box plot\n",
    "plt.figure(figsize=(5, 5))\n",
    "plt.boxplot(org_courses)\n",
    "plt.ylabel('# Number of courses per organization')\n",
    "plt.show()"
   ]
  },
  {
   "cell_type": "markdown",
   "id": "91c5f756",
   "metadata": {},
   "source": [
    "Most of the organizations has less than 15 courses in Coursera."
   ]
  },
  {
   "cell_type": "code",
   "execution_count": 235,
   "id": "91d355e8",
   "metadata": {},
   "outputs": [
    {
     "data": {
      "text/html": [
       "<div>\n",
       "<style scoped>\n",
       "    .dataframe tbody tr th:only-of-type {\n",
       "        vertical-align: middle;\n",
       "    }\n",
       "\n",
       "    .dataframe tbody tr th {\n",
       "        vertical-align: top;\n",
       "    }\n",
       "\n",
       "    .dataframe thead th {\n",
       "        text-align: right;\n",
       "    }\n",
       "</style>\n",
       "<table border=\"1\" class=\"dataframe\">\n",
       "  <thead>\n",
       "    <tr style=\"text-align: right;\">\n",
       "      <th></th>\n",
       "      <th>rating</th>\n",
       "      <th>students_enrolled</th>\n",
       "    </tr>\n",
       "    <tr>\n",
       "      <th>organization</th>\n",
       "      <th></th>\n",
       "      <th></th>\n",
       "    </tr>\n",
       "  </thead>\n",
       "  <tbody>\n",
       "    <tr>\n",
       "      <th>McMaster University</th>\n",
       "      <td>4.800000</td>\n",
       "      <td>230000.000000</td>\n",
       "    </tr>\n",
       "    <tr>\n",
       "      <th>Google - Spectrum Sharing</th>\n",
       "      <td>4.900000</td>\n",
       "      <td>210000.000000</td>\n",
       "    </tr>\n",
       "    <tr>\n",
       "      <th>Ludwig-Maximilians-Universität München (LMU)</th>\n",
       "      <td>4.750000</td>\n",
       "      <td>192500.000000</td>\n",
       "    </tr>\n",
       "    <tr>\n",
       "      <th>École Polytechnique</th>\n",
       "      <td>4.800000</td>\n",
       "      <td>190000.000000</td>\n",
       "    </tr>\n",
       "    <tr>\n",
       "      <th>deeplearning.ai</th>\n",
       "      <td>4.743750</td>\n",
       "      <td>178962.500000</td>\n",
       "    </tr>\n",
       "    <tr>\n",
       "      <th>University of Michigan</th>\n",
       "      <td>4.727500</td>\n",
       "      <td>148442.500000</td>\n",
       "    </tr>\n",
       "    <tr>\n",
       "      <th>Yonsei University</th>\n",
       "      <td>4.750000</td>\n",
       "      <td>140750.000000</td>\n",
       "    </tr>\n",
       "    <tr>\n",
       "      <th>The Museum of Modern Art</th>\n",
       "      <td>4.783333</td>\n",
       "      <td>133166.666667</td>\n",
       "    </tr>\n",
       "    <tr>\n",
       "      <th>SAS</th>\n",
       "      <td>4.766667</td>\n",
       "      <td>131533.333333</td>\n",
       "    </tr>\n",
       "    <tr>\n",
       "      <th>École Polytechnique Fédérale de Lausanne</th>\n",
       "      <td>4.725000</td>\n",
       "      <td>117750.000000</td>\n",
       "    </tr>\n",
       "  </tbody>\n",
       "</table>\n",
       "</div>"
      ],
      "text/plain": [
       "                                                rating  students_enrolled\n",
       "organization                                                             \n",
       "McMaster University                           4.800000      230000.000000\n",
       "Google - Spectrum Sharing                     4.900000      210000.000000\n",
       "Ludwig-Maximilians-Universität München (LMU)  4.750000      192500.000000\n",
       "École Polytechnique                           4.800000      190000.000000\n",
       "deeplearning.ai                               4.743750      178962.500000\n",
       "University of Michigan                        4.727500      148442.500000\n",
       "Yonsei University                             4.750000      140750.000000\n",
       "The Museum of Modern Art                      4.783333      133166.666667\n",
       "SAS                                           4.766667      131533.333333\n",
       "École Polytechnique Fédérale de Lausanne      4.725000      117750.000000"
      ]
     },
     "execution_count": 235,
     "metadata": {},
     "output_type": "execute_result"
    }
   ],
   "source": [
    "# Finding out the top 10 organizations, which I will consider those with higher number of students\n",
    "# and high ratings based on the students enrolled\n",
    "top_10_organizations = df[['organization', 'rating', 'students_enrolled']].groupby('organization').mean().sort_values(by=['students_enrolled'],ascending = [False])\n",
    "# Let's select only those with ratings above 4.7\n",
    "top_10_organizations = top_10_organizations.loc[top_10_organizations.rating >= 4.7].head(10)\n",
    "top_10_organizations"
   ]
  },
  {
   "cell_type": "code",
   "execution_count": 236,
   "id": "53d7239f",
   "metadata": {},
   "outputs": [
    {
     "data": {
      "text/html": [
       "<div>\n",
       "<style scoped>\n",
       "    .dataframe tbody tr th:only-of-type {\n",
       "        vertical-align: middle;\n",
       "    }\n",
       "\n",
       "    .dataframe tbody tr th {\n",
       "        vertical-align: top;\n",
       "    }\n",
       "\n",
       "    .dataframe thead th {\n",
       "        text-align: right;\n",
       "    }\n",
       "</style>\n",
       "<table border=\"1\" class=\"dataframe\">\n",
       "  <thead>\n",
       "    <tr style=\"text-align: right;\">\n",
       "      <th></th>\n",
       "      <th>rating</th>\n",
       "      <th>students_enrolled</th>\n",
       "    </tr>\n",
       "  </thead>\n",
       "  <tbody>\n",
       "    <tr>\n",
       "      <th>count</th>\n",
       "      <td>10.000000</td>\n",
       "      <td>10.000000</td>\n",
       "    </tr>\n",
       "    <tr>\n",
       "      <th>mean</th>\n",
       "      <td>4.774625</td>\n",
       "      <td>167310.500000</td>\n",
       "    </tr>\n",
       "    <tr>\n",
       "      <th>std</th>\n",
       "      <td>0.051635</td>\n",
       "      <td>38007.268309</td>\n",
       "    </tr>\n",
       "    <tr>\n",
       "      <th>min</th>\n",
       "      <td>4.725000</td>\n",
       "      <td>117750.000000</td>\n",
       "    </tr>\n",
       "    <tr>\n",
       "      <th>25%</th>\n",
       "      <td>4.745313</td>\n",
       "      <td>135062.500000</td>\n",
       "    </tr>\n",
       "    <tr>\n",
       "      <th>50%</th>\n",
       "      <td>4.758333</td>\n",
       "      <td>163702.500000</td>\n",
       "    </tr>\n",
       "    <tr>\n",
       "      <th>75%</th>\n",
       "      <td>4.795833</td>\n",
       "      <td>191875.000000</td>\n",
       "    </tr>\n",
       "    <tr>\n",
       "      <th>max</th>\n",
       "      <td>4.900000</td>\n",
       "      <td>230000.000000</td>\n",
       "    </tr>\n",
       "  </tbody>\n",
       "</table>\n",
       "</div>"
      ],
      "text/plain": [
       "          rating  students_enrolled\n",
       "count  10.000000          10.000000\n",
       "mean    4.774625      167310.500000\n",
       "std     0.051635       38007.268309\n",
       "min     4.725000      117750.000000\n",
       "25%     4.745313      135062.500000\n",
       "50%     4.758333      163702.500000\n",
       "75%     4.795833      191875.000000\n",
       "max     4.900000      230000.000000"
      ]
     },
     "execution_count": 236,
     "metadata": {},
     "output_type": "execute_result"
    }
   ],
   "source": [
    "top_10_organizations.describe()"
   ]
  },
  {
   "cell_type": "markdown",
   "id": "ac89e9de",
   "metadata": {},
   "source": [
    "The least popular courses are the professional certificates. "
   ]
  }
 ],
 "metadata": {
  "kernelspec": {
   "display_name": "Python 3 (ipykernel)",
   "language": "python",
   "name": "python3"
  },
  "language_info": {
   "codemirror_mode": {
    "name": "ipython",
    "version": 3
   },
   "file_extension": ".py",
   "mimetype": "text/x-python",
   "name": "python",
   "nbconvert_exporter": "python",
   "pygments_lexer": "ipython3",
   "version": "3.9.12"
  }
 },
 "nbformat": 4,
 "nbformat_minor": 5
}
